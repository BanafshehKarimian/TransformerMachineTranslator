{
 "cells": [
  {
   "cell_type": "code",
   "execution_count": 1,
   "metadata": {
    "colab": {
     "base_uri": "https://localhost:8080/",
     "height": 1000
    },
    "id": "GWd9EoqyOfbW",
    "outputId": "e027f516-377c-4e8a-9c2b-4de040e98bd0"
   },
   "outputs": [
    {
     "name": "stdout",
     "output_type": "stream",
     "text": [
      "Mounted at /content/gdrive\n",
      "[nltk_data] Downloading package punkt to /root/nltk_data...\n",
      "[nltk_data]   Unzipping tokenizers/punkt.zip.\n",
      "Collecting hazm\n",
      "\u001b[?25l  Downloading https://files.pythonhosted.org/packages/22/13/5a7074bc11d20dbbb46239349ac3f85f7edc148b4cf68e9b8c2f8263830c/hazm-0.7.0-py3-none-any.whl (316kB)\n",
      "\u001b[K     |████████████████████████████████| 317kB 28.0MB/s \n",
      "\u001b[?25hCollecting libwapiti>=0.2.1; platform_system != \"Windows\"\n",
      "\u001b[?25l  Downloading https://files.pythonhosted.org/packages/bc/0f/1c9b49bb49821b5856a64ea6fac8d96a619b9f291d1f06999ea98a32c89c/libwapiti-0.2.1.tar.gz (233kB)\n",
      "\u001b[K     |████████████████████████████████| 235kB 47.2MB/s \n",
      "\u001b[?25hCollecting nltk==3.3\n",
      "\u001b[?25l  Downloading https://files.pythonhosted.org/packages/50/09/3b1755d528ad9156ee7243d52aa5cd2b809ef053a0f31b53d92853dd653a/nltk-3.3.0.zip (1.4MB)\n",
      "\u001b[K     |████████████████████████████████| 1.4MB 33.5MB/s \n",
      "\u001b[?25hRequirement already satisfied: six in /usr/local/lib/python3.7/dist-packages (from libwapiti>=0.2.1; platform_system != \"Windows\"->hazm) (1.15.0)\n",
      "Building wheels for collected packages: libwapiti, nltk\n",
      "  Building wheel for libwapiti (setup.py) ... \u001b[?25l\u001b[?25hdone\n",
      "  Created wheel for libwapiti: filename=libwapiti-0.2.1-cp37-cp37m-linux_x86_64.whl size=154269 sha256=600a8acacd636bc21a602c32061e03bf93af6ade5ccd42a7609cf3d7e63481e9\n",
      "  Stored in directory: /root/.cache/pip/wheels/66/15/54/4510dce8bb958b1cdd2c47425cbd1e1eecc0480ac9bb1fb9ab\n",
      "  Building wheel for nltk (setup.py) ... \u001b[?25l\u001b[?25hdone\n",
      "  Created wheel for nltk: filename=nltk-3.3-cp37-none-any.whl size=1394486 sha256=fa4a6393d3f90fc34cd85869dfc5cf7c2c42685f58521a8f5b77f82d6f6f3359\n",
      "  Stored in directory: /root/.cache/pip/wheels/d1/ab/40/3bceea46922767e42986aef7606a600538ca80de6062dc266c\n",
      "Successfully built libwapiti nltk\n",
      "Installing collected packages: libwapiti, nltk, hazm\n",
      "  Found existing installation: nltk 3.2.5\n",
      "    Uninstalling nltk-3.2.5:\n",
      "      Successfully uninstalled nltk-3.2.5\n",
      "Successfully installed hazm-0.7.0 libwapiti-0.2.1 nltk-3.3\n"
     ]
    },
    {
     "data": {
      "application/vnd.colab-display-data+json": {
       "pip_warning": {
        "packages": [
         "nltk"
        ]
       }
      }
     },
     "metadata": {
      "tags": []
     },
     "output_type": "display_data"
    },
    {
     "name": "stdout",
     "output_type": "stream",
     "text": [
      "Collecting pyonmttok\n",
      "\u001b[?25l  Downloading https://files.pythonhosted.org/packages/90/73/034c3e0584322e3f3f03c0965c8a83df0ab7ae5ca65172203cd606ffe8ce/pyonmttok-1.26.4-cp37-cp37m-manylinux1_x86_64.whl (14.3MB)\n",
      "\u001b[K     |████████████████████████████████| 14.3MB 215kB/s \n",
      "\u001b[?25hInstalling collected packages: pyonmttok\n",
      "Successfully installed pyonmttok-1.26.4\n",
      "Collecting nltk==3.4\n",
      "\u001b[?25l  Downloading https://files.pythonhosted.org/packages/6f/ed/9c755d357d33bc1931e157f537721efb5b88d2c583fe593cc09603076cc3/nltk-3.4.zip (1.4MB)\n",
      "\u001b[K     |████████████████████████████████| 1.4MB 29.9MB/s \n",
      "\u001b[?25hRequirement already satisfied: six in /usr/local/lib/python3.7/dist-packages (from nltk==3.4) (1.15.0)\n",
      "Collecting singledispatch\n",
      "  Downloading https://files.pythonhosted.org/packages/cd/d1/6a9e922826e03f5af7bf348cfb75bcb0bc4c67e19c36805c2545f34427e5/singledispatch-3.6.2-py2.py3-none-any.whl\n",
      "Building wheels for collected packages: nltk\n",
      "  Building wheel for nltk (setup.py) ... \u001b[?25l\u001b[?25hdone\n",
      "  Created wheel for nltk: filename=nltk-3.4-cp37-none-any.whl size=1436400 sha256=e366aca6f051f4a79dfc55e36ff31494730205b699a5593e332d68f3f52d08df\n",
      "  Stored in directory: /root/.cache/pip/wheels/4b/c8/24/b2343664bcceb7147efeb21c0b23703a05b23fcfeaceaa2a1e\n",
      "Successfully built nltk\n",
      "\u001b[31mERROR: hazm 0.7.0 has requirement nltk==3.3, but you'll have nltk 3.4 which is incompatible.\u001b[0m\n",
      "Installing collected packages: singledispatch, nltk\n",
      "  Found existing installation: nltk 3.3\n",
      "    Uninstalling nltk-3.3:\n",
      "      Successfully uninstalled nltk-3.3\n",
      "Successfully installed nltk-3.4 singledispatch-3.6.2\n"
     ]
    },
    {
     "data": {
      "application/vnd.colab-display-data+json": {
       "pip_warning": {
        "packages": [
         "nltk"
        ]
       }
      }
     },
     "metadata": {
      "tags": []
     },
     "output_type": "display_data"
    },
    {
     "name": "stdout",
     "output_type": "stream",
     "text": [
      "Collecting bpemb\n",
      "  Downloading https://files.pythonhosted.org/packages/f2/6f/9191b85109772636a8f8accb122900c34db26c091d2793218aa94954524c/bpemb-0.3.3-py3-none-any.whl\n",
      "Collecting sentencepiece\n",
      "\u001b[?25l  Downloading https://files.pythonhosted.org/packages/ac/aa/1437691b0c7c83086ebb79ce2da16e00bef024f24fec2a5161c35476f499/sentencepiece-0.1.96-cp37-cp37m-manylinux_2_17_x86_64.manylinux2014_x86_64.whl (1.2MB)\n",
      "\u001b[K     |████████████████████████████████| 1.2MB 42.9MB/s \n",
      "\u001b[?25hRequirement already satisfied: numpy in /usr/local/lib/python3.7/dist-packages (from bpemb) (1.19.5)\n",
      "Requirement already satisfied: requests in /usr/local/lib/python3.7/dist-packages (from bpemb) (2.23.0)\n",
      "Requirement already satisfied: tqdm in /usr/local/lib/python3.7/dist-packages (from bpemb) (4.41.1)\n",
      "Requirement already satisfied: gensim in /usr/local/lib/python3.7/dist-packages (from bpemb) (3.6.0)\n",
      "Requirement already satisfied: chardet<4,>=3.0.2 in /usr/local/lib/python3.7/dist-packages (from requests->bpemb) (3.0.4)\n",
      "Requirement already satisfied: idna<3,>=2.5 in /usr/local/lib/python3.7/dist-packages (from requests->bpemb) (2.10)\n",
      "Requirement already satisfied: urllib3!=1.25.0,!=1.25.1,<1.26,>=1.21.1 in /usr/local/lib/python3.7/dist-packages (from requests->bpemb) (1.24.3)\n",
      "Requirement already satisfied: certifi>=2017.4.17 in /usr/local/lib/python3.7/dist-packages (from requests->bpemb) (2021.5.30)\n",
      "Requirement already satisfied: six>=1.5.0 in /usr/local/lib/python3.7/dist-packages (from gensim->bpemb) (1.15.0)\n",
      "Requirement already satisfied: smart-open>=1.2.1 in /usr/local/lib/python3.7/dist-packages (from gensim->bpemb) (5.1.0)\n",
      "Requirement already satisfied: scipy>=0.18.1 in /usr/local/lib/python3.7/dist-packages (from gensim->bpemb) (1.4.1)\n",
      "Installing collected packages: sentencepiece, bpemb\n",
      "Successfully installed bpemb-0.3.3 sentencepiece-0.1.96\n"
     ]
    }
   ],
   "source": [
    "from google.colab import drive\n",
    "import numpy as np\n",
    "import glob\n",
    "drive.mount('/content/gdrive')\n",
    "import torch.nn as nn \n",
    "import numpy as np\n",
    "import torch\n",
    "import torchvision.models as models\n",
    "import string\n",
    "import matplotlib.pyplot as plt\n",
    "import torch.optim as optim\n",
    "from nltk.tokenize import word_tokenize\n",
    "import nltk\n",
    "nltk.download('punkt')\n",
    "!pip install hazm\n",
    "from hazm import word_tokenize as per_word_tokenize\n",
    "from hazm import Normalizer\n",
    "import math\n",
    "from nltk.translate import nist_score, bleu_score\n",
    "!pip install pyonmttok\n",
    "!pip install nltk==3.4\n",
    "import pyonmttok\n",
    "!pip install bpemb\n",
    "from bpemb import BPEmb"
   ]
  },
  {
   "cell_type": "markdown",
   "metadata": {
    "id": "UXXMwBMzzjZg"
   },
   "source": [
    "### Downloading data:"
   ]
  },
  {
   "cell_type": "code",
   "execution_count": null,
   "metadata": {
    "colab": {
     "base_uri": "https://localhost:8080/",
     "height": 72,
     "resources": {
      "http://localhost:8080/nbextensions/google.colab/files.js": {
       "data": "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",
       "headers": [
        [
         "content-type",
         "application/javascript"
        ]
       ],
       "ok": true,
       "status": 200,
       "status_text": ""
      }
     }
    },
    "id": "ENa-K8ziPbBM",
    "outputId": "0d994662-4847-4ea6-c748-d254424cb4b9"
   },
   "outputs": [
    {
     "data": {
      "text/html": [
       "\n",
       "     <input type=\"file\" id=\"files-2f54a53d-7d23-47e7-a5f0-4609f042dc92\" name=\"files[]\" multiple disabled\n",
       "        style=\"border:none\" />\n",
       "     <output id=\"result-2f54a53d-7d23-47e7-a5f0-4609f042dc92\">\n",
       "      Upload widget is only available when the cell has been executed in the\n",
       "      current browser session. Please rerun this cell to enable.\n",
       "      </output>\n",
       "      <script src=\"/nbextensions/google.colab/files.js\"></script> "
      ],
      "text/plain": [
       "<IPython.core.display.HTML object>"
      ]
     },
     "metadata": {
      "tags": []
     },
     "output_type": "display_data"
    },
    {
     "name": "stdout",
     "output_type": "stream",
     "text": [
      "Saving AFEC-merged-all.zip to AFEC-merged-all.zip\n"
     ]
    }
   ],
   "source": [
    "from google.colab import files\n",
    "files.upload()"
   ]
  },
  {
   "cell_type": "code",
   "execution_count": null,
   "metadata": {
    "id": "MSKrobPURbI7"
   },
   "outputs": [],
   "source": [
    "!unzip -q /content/AFEC*.zip  -d /content/gdrive/MyDrive/AFEC"
   ]
  },
  {
   "cell_type": "code",
   "execution_count": null,
   "metadata": {
    "colab": {
     "base_uri": "https://localhost:8080/",
     "height": 109,
     "resources": {
      "http://localhost:8080/nbextensions/google.colab/files.js": {
       "data": "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",
       "headers": [
        [
         "content-type",
         "application/javascript"
        ]
       ],
       "ok": true,
       "status": 200,
       "status_text": ""
      }
     }
    },
    "id": "E9sQZtw0Rz97",
    "outputId": "2e20cba1-9b2e-46d3-a89c-c54bea98157e"
   },
   "outputs": [
    {
     "data": {
      "text/html": [
       "\n",
       "     <input type=\"file\" id=\"files-49c94315-3b6c-4416-8c70-70146dec7c71\" name=\"files[]\" multiple disabled\n",
       "        style=\"border:none\" />\n",
       "     <output id=\"result-49c94315-3b6c-4416-8c70-70146dec7c71\">\n",
       "      Upload widget is only available when the cell has been executed in the\n",
       "      current browser session. Please rerun this cell to enable.\n",
       "      </output>\n",
       "      <script src=\"/nbextensions/google.colab/files.js\"></script> "
      ],
      "text/plain": [
       "<IPython.core.display.HTML object>"
      ]
     },
     "metadata": {
      "tags": []
     },
     "output_type": "display_data"
    },
    {
     "name": "stdout",
     "output_type": "stream",
     "text": [
      "Saving Test.zip to Test.zip\n"
     ]
    },
    {
     "data": {
      "text/plain": [
       "{'Test.zip': b'PK\\x03\\x04\\n\\x00\\x00\\x00\\x00\\x00\\x12\\x86\\xabP\\x00\\x00\\x00\\x00\\x00\\x00\\x00\\x00\\x00\\x00\\x00\\x00\\x05\\x00\\x00\\x00Test/PK\\x03\\x04\\x14\\x00\\x00\\x00\\x08\\x00\\xcfL\\x97G\\xc5L\\xbfj\\xcc\\x0e\\x00\\x00E3\\x00\\x00\\x0c\\x00\\x00\\x00Test/test.en\\x95[Y\\x8f\\xe36\\x12~\\xf7\\xaf\\xe0\\x06\\x03\\xe4\\xa5G\\x7f\\xc1H\\xf6H\\x9cEc\\x03$\\xd8<\\xd3\\x12e1-\\x91^\\x92j\\x8f\\xf3\\xeb\\xb7\\xaaxS\\xb2{\\xe6%\\xe3\\xb6y\\xd4\\xf9\\xd5\\xc1\\xca$\\xe6Y\\xb3\\x176hv\\x13l0\\xf2]0\\xa7/\\xc2M\\xc2\\xc0\\x07\\xf63W\\xfa\\x1d>j\\xc5\\xe0+\\xe6nB\\xb9\\xfbg!/\\x93\\x9b\\x98\\x1e\\xd9+7\\xfd\\xc4\\x8e\\x07\\xe9\\x98\\xb4l\\xd1F\\xb0^/\\xa36\\x8e\\x9fg\\xc1\\xcew\\xe6\\x0c\\x97\\x8au\\x07\\xb8\\xe1\\xaeWv\\xd1\\xf8e\\xcf\\r\\xe3j`\\xa7\\xf0\\xb7_t<\\x9c\\xd8M\\xaf\\xf3\\xc0f\\xf9\\x86tT\\xbfv\\xb4\\xe36q\\x17\\x16\\xe1q\\xb4\\x10\\xae\\x1f\\x91|\\xc7\\xdf\\x04\\x91\\xf9\\xe9\\xf4\\xf9\\xd3\\xdf?\\x7f\\xfag\\xd8\\t;\\xac\\xfc\\xc2\\xae\\xdc\\xc2\\x07\\xf1.\\x14{\\xc1\\xe579\\xcf\\x8c\\x1b\\xe2\\x99\\xbb\\xc8\\xdb\\x88\\x7f\\xd2R\\xe2\\x12(\\xbfM\\xb2\\x9f\\x80\\xe4\\x11o\\xc2\\xe3\\xe9#\\xec\\xb8\\xce\\xdc\\x01\\xab\\x0b\\x1b\\xf5j\\x9c\\x10\\xc8&^\\xa7\\x90A\\x0bKX?\\t~e\\x93vb\\xa6\\x83`\\xd3 =\\xe5\\x96\\xdf\\x81\\x8c\\xeb,p\\xe5\\xf1\\x80\\xbcM\\xfa\\xc6\\x96\\xb5\\x9fP\\x94\\x1cHV\\x17\\x10\\xa1\\xd1z\\x81\\xdfox\\xad\\xf2,r\\xf8\\xe7\\x8bd\\xa3\\x81_\\x90\\x1e\\xeb\\xb8\\x93\\xa8!M\\x7f\\xc6\\xebPPD\\xba\\xff\"(\\xe0\\xc6\\x95\\xc3\\x95FXa\\x90s\\x7f\\x83\\x82\\xbb?\\xa2A\\xbf\\x11\\xcdv\"\\xf1\\'{9\\xf3\\xfe\\r\\r\\xe4_F\\x0e\\xb0\\x00\\x05\\x0c\\xdbH\\x9bn\\x92\\xea\\rW\\x1aN\\x16Ul@\\x89O\\xd2\\x80\\xc4\\xdddD\\x109l$\\r\\xaa\\x1d\\xfd\\xfc\\xcc\\x97\\xf3j.\\xf8q\\x94#\\xee\\xbbi\\xbf\\xcb\\x91\\xe4G\\xdc\\x8b,\\x0cZ}\\x0fk\\xb4\\x013F\\x96\\r\\xb37\\xb9,H\\x93u\\xeb8\\x02\\x0b\\x0b\\xbf\\x9f\\x05\\x0b2\\xbd\\xe8\\xbc \\xd9~w\\xb8\\x0b\\x0b6wCb\\xbc\\xe1\\t#\\x82\\x9fD\\x19.B8\\xe2\\xf3j\\xc4(\\x0cI\\x1f\\x8cB\\t\\x94>\\x9c\\xab\\x07&\\x07\\xc1YW\\xf3D\\xdb\\x88\\x7f X\\x9a\\xab6x\\x1a8\\x8f\\x01\\xe1w\\x07\\xa5\\xe3\\xae\\xb8\\xc1\\x82|:\\x06>6h Ji\\x07\\x0c8GT\\xd2%\\x1d\\x9b\\xe1\\xc4\\xd5\\xa6\\x93I\\x8e\\xfa\\xfb~\\xd6 \\xe9\\x0e\\x94z\\x15\\xe3:\\xcf\\xf7\\x82\\xc2\\x1bI\\t\\xa40\\xc9?A\\x1fb(I8\\xb1\\x89\\xa3\\xd4g#\\xf8pgg\\xadi\\xc1M\\x93)\\xd8H\\xfcO\\xe6\\xbbU\\xd9~R\\xfc\\xbco\\xe0\\xc7(E\\xe1\\x0f\\xfc\\xe8\\x04v\\xf2\\x0cg\\xe3$K7\\xe4\\x89J\\xdf\\xe2\\x1d\\xd2\\x12\\x17J\\x0c\\xa8g:)\\x9b]-\\xf9\\xc0\\n8\\xa2\\x19@\\xf3\\xbfN\\xa0;\\xbd v\\xe1.\\x10\\x8c\\xe1x\\x9c]\\xafWmI\\n(\\x148\\xfd.\\x86hU\\x1d+L\\xd9K\\xc6\\x18\\xae.b\\xc0k\\xcd\\x1d\\x7f\\xbb\\xecj\\xb9\\x90\\xa9\\x87\\xdaB\\x16\\xe0\\xad|\\x06G8\\xeb\\xd514Sg\\xe4\\xb5\\x04\\xdd\\xee\\xe0\\x19\\xcf\\x86p\\x16Qp\\xff\\xfcr\\xd5$N\\x07\\xdeh\\xd1@\\xa5j\\xd1\\x9a`i\"\\xebE\\x8f!\\xc0\\xfeM\\\\\\x9dX\\xce\\xc2<\\xd42g\\xe3\\x1c\\x91/\\xd9\\x1f\\x108\\x8ex7g\\xff[\\xb9A\\xdb+0\\x12o(\\x1d\\xd5S\\xe11u~/,1\\x9d\\x18%\\xb0\\xe7\\n<\\xa2t\\xb5\\xedk\\xce_\\xe4\\x80\\x08\\x94\\xb4\\xb6\\x03\\x7ft1\\x88\\n\\xbc}\\x08p~R\\xc0N\\xaf\\x95\\x83M\\nTB\\x91\\xec\\xceF\\xfe\\x0e\\xf2\\x93.\\x02j!\\xdf\\x0e\\xf6q\\xf5F\\x07v\\x04\\x99\\x1e\\x17.:`\\xdb\\x05\\xc3\\x8e\\xd3\\t\\xb3\\x8e\\x89\\xf1\\xb8$\\x85\\xb5\\xa8\\xab=\\x05\\xe1\\x0fga\\x1d\\xf3\\x06\\x06t\\xddD%2\\x7fD\\xc4\\x7f\\x1e\\xf5\\x91\\x05\\'\\xbe\\xf0\\xde\\x81\\xdfw\\xc5r\\x089\\xef\\xc2\\x96b\\xc4\\xe8\\x08\\x02Y\\x1d|\\xcdGT\\xae\\xc8\\x16@\\xcb\\xcb\\xd5\\xf5\\x1d\\xad\\xee\\x13HO|\\x1e\\x0bT\\xf7Pu\\xbe\\x0b2<\\x1f\\xc1#lj0\\xb9{\\x80\\xdc\\x17\\xe6\\x08i\\xa5\\xcd\\x96\\xb8\\xb5\\xbbpd\\x863O\\x82-\\xb5\\xb4\\x17\\xd3\\x83\\xc1 \\t\\x88S\\x08\\xa5\\xab\\x1a\\x84\\x01\\x11*\\x84\\x07B\\x17\\x8f^r\\x08\\xaeY\\xc6TOa\\xce?B\\xfcF\\xd7)\\xc0\\xcd\\x13V\\x06\\xcf^[\\x87\\x0cMp\\x9b\\x01\\'\\xfb\\x87X\\x1d\\xc0\\xde\\xe7\\x85\\x9b7\\x04H$\\xe6T\\x92\\x82\\x87{\\xef\\x07\\xdb\\x89\\x02\\x013\\xb0\\x81\\x14\\xfaV\\x05\\xbb\\x0bq\\xe8)qykw\\x08?\\x18q\\x15>\\x0c[0\\xc3^\\x04\\xbbM\\xb9\\xda\"\\xb8\\xa2\\x0f|\\xbe\\xf1\\xbbE;\\xbb\\x07\\xed\\x1c\\xbd\\x8b\\xbd\\xb4\\xa9\\x18\\xa8\\x126[\\xbd\\x88`\\xb2\\xaa\\x01\\xe7Uar\\xb8*\\x0e\\x94\\xdc\\xd9\\xae\\x16\\xbcWm\\x0f\\xbe\\xe8\\x98\\xe1\\xf4p\\xf7\\xc2Q\\x06{\\x8bPg\\x18\\x15820{\\x83\\xbe\\x01\\xfa[\\xef\\x86\\xd6\\x95\\x00\\x84\\xd6C\\xe0k\\x84[\\x8d\\xf2\\x18\\xdc\\x95\\xc2\\x8d\\xc1\\x1e\\x9c\\xe7]\\xcc\\xde{+\\xd7\\xee\\x13\\x11I\\xa0\\xdc\\x95\\x02\\r\\xe2\\x8e\\n:\\xc1\\xd7\\x86\"z\\xce\\xa4\\xf8l\\xbd\\x13\\xf8d\\xca4y\\xf1\\xd6%\\xd0+Q\\xa2\\x85\\xb17.\\xe21\\xf4\\xd3\\xaf\\x9f?\\xbdFD\\xc4\\xdc\\x8d\\x03\\xf3\\xa7\\xc2&\\xc2y\\xc7\\xc2=\\x95\\xf6\\t\\xf2E7y?&lC\\\\p\\x82\\x98y\\xb9\\x10:\\xe9\\x9cz{\\x8a\\x83\\xda!\\xf6\\x91\\xda\\xbb\\x03\"LD\\x0c4d\\xad\\x19\\x04\\xe4\\xf9N\\xe7\\\\\\x8d\\xc6\\xd8\\xbbs\\x0e\\xf7\\xc9]\\xda\\xd9\\x1e\\x1b\\x0c\\xd5\\xcb\\xf3\\xb8\\xef\\xd4\\xa4\\x8d\\xee\\xc9o\\xd1\\xeaO\\xa5i\\x14\\x0b1\\x99\\xe0*\\x06\\xf9C\\xc57\\xb9\\x04/1\\xa2\\xceh\\xaa\\xa0\\x81\\xea\\x0f\\xb6\\x00\\x12\\xd1A\\x19e\\xe1\\xb2w\\x04\\x1a\\xed<\\x97\\xf6T\\xa6\\xe0\\x1f\\x11p<4\\x1b\\xc3\\x95\\x1f\\xef\\x8b`\\xec\\xd3\\xad*\\xa9z\"\\xcc\\xc6..z\\xe30\\xb5I\\x85\\x1c\\xa5\\xc1\\t/\\xab\\xe8(\\x1f\\xd8HR_\\\\]\\xe4dT\\xb2\\x1cS\\xee\\x95\\xe5\\x96\\xfc\\xfeO\\xf8\\x8f\\x12w:8\\xe6U@\\xe2\\x7fz\\xa7\\xcf!\\xa5\\x07\\x92\\xdc\\xc4\\x8e;a\\xab!\\x85\\xe2\\xa5\\x87\\x83\\x185S8,\\xf8-\\xfd\\x93J\\x0b\\x11\\x0e>\\x8b\\xd2`r\\x85D\\xd1\\xae\\xc8\\xb7R\\x82\\x93\\x0b\\x93\\xa0\\xca\\x98\\n\\x1c\\x93k \\xb0\\xb45\\x9f\\x05\\x94\\xb2\\x84\\x91+\\x82\"7\\x825\\x01\\xcb\\x86\\xd25\\xa2\\xbd\\xaf\\xd1b\\xf4\\x1a|\\xf4\\xf2\\xc1\\x8b\\x8c\\xe3\\x0c\\xc5\\x89\\xf8r\\x15\\xca\\xcaw\\xaaU,V\\x17~w\\xf2\\x1d:R\\x98|\\xa3i\\xeeD\\x8a\\x88\\xc3{\\x13 \\x8f\\x91\\xe1\\xf3\\xea\\xd8\\xd7\\xd5\\xb5X-\\x14\\xa1\\x13\\xc5\\xee\\xd7\\xa7.\\x02|+A\\x0c\\x8a/\\xc8\\xe1\\xd7\\x9d\\x1ad\\xe6\\xcfHQY\\xe4\\xa0\\xbc\\x8d\\x05\\xf1G\\xba\\x87*\\x84\\xa2\\xec\\x8f\\x84\\xe02Z\\xa0\\xc7\\x82\\xd4\\xe3\\xa1\\xf1\\x8b\\xb6?b\\xc4\\xcc\\xbf\\x105\\xbe\\xa2\\xcd!\\xd2r\\x88\\xb1\\x18F\\xa9$\\xf3\\xcc\\xf8\\x12&\\xd4\\xf1>#\\x04\\xb7\\xba\\x18\\x9e\\xca\\xa1xO\\xa8\\x8c\\xc9If\\xee|I\\xd1m\\xda3[\\xb4&\\xeda\\'$gi!\\x02y.10\\xe2\\xed(G$))\\x16K\\\\\\xfc\\xc2\\xdfFb\\xcaV\\xee<\\x1bN.b\\'/\\xf0\\xae\\xb6u\\xcf\\xc2-#\\x8a\\xd1\\xdd%\\x0c\\x94\\xc9\\xf4\\xc34\\x9a\\xa8Ib+-c\\x11u+\\xc5\\xab-\\x18I\\xa6(\\x01\"\\xdc\\xf2\\x9b\\xe3\\x83\\xf3\\xeb^\\xc0\\xe1{\\xbe\\x82!\\xc8d\\x04\\xdeG,\\xe6\\x0f\\x18%\\x9a\\x1d]\\x9b\\xf1\\xd4-\\x1aJz\\x06\\xbd\\x9e\\x9b\\x9eM\\xc9q6\\x11\\x7f\\xe4\\xf9\\xeekl\\xb9,b\\x90>-;\\x1e\\xbe5\\xad\\x0b\\x9a\\x8a\\x18|\\x93n\\x8a\\x817\\xa7G#\\xd6\\\\\\x98\\x9d\\xf1\\xa0\\x18(\\xba\\x94\\xe8I\\xe8(\\xb3?\\xc4\\xa0\\x84\\xad{H\\x16\\xca\\xe7{\\xec\\xc3P\\x05\\xd5\\xd4\\x821\\x0bkTL:\\xcb\\r\\x1e\\nB\\x91\\xd5.J%\\xa7<1@\\x9c`\\xc3<{o\\t\\xc9!2Z\\x04\\x89\\x88\\xce\\xc4\"\\xa5\\xaa!R\\xb6\\xce\\xe1\\xcdR\\xab\\x82\\xad\"\\xeeAB\\xe4\\xeb\\xbd_\\xb8\\x82\\xac\\xed\\xce\\xba\\xfd6\\xd2\\x9e\\x0bdef\\xd3/\\xe2\\xa3\\xff\\xb2\\xed\\x02mr\\'\\x8f_\\x8d+\\x148\\x08\\x05\\xbf\\xecE\\x86\\xaa@\\xc97\\x98\\x7f62iI\\xae\\x10:~5R\\xfd%\\xd4\\x04\\x9cS\\xd3\\x82t\\x16h\\xeb%\\x00\\x7f/\\x14\"@\\x93\\xdbi\\xb5\\xb1l\\xf8\\x9e\\xbbm\\xcb\\x08\\xab\\xb0*\\xa8t_U%<\\xb6h:\\xbd\\x9f\\xb4\\xa6\\x8e.\\\\\\xe3\\xf8j\\x90\\xfb\\xee\\xf0P\\xe5\\xbfO\\xab!\\x8dS\\xf1\\xa14\\xa1g4\\x93\\xad\\x8b\\xd4\\xbf\\xd0\\x97I\\xb9\\xd4\\xee\\xacz(m/\\n\\xbbH\"\\x16\\xabE\\xeeS\\xda\\xf7>\\xe2Q\\xb2Sd\\x1c\\xf0\\xf1\\x97U\\x95\\x95\\nv\\x97\\x10\\n_r\\x92\\xe2\\x01\\xa4i5\\xf9\\x14\\x89\\xb2@\\xa1\\x82a\\xaf(\\xc0t\\x12\\x91z\\xd1\\xe4\\xfc`\\xc4\\xfe} \\xfa\\xf5\\x9e\\x82\\x8e\\x87\\xef\\xf8\\xb4\\xb0\\xa2\\xf4\\xf1\\xa0\\x91+\\x9f\\xc7\\xb9\\x15u\\x84\\xd1\\xb8b[\\x80\\xbb\\xe7i\\xd5\\x8c\\x8a/\\x92\\xc8\\x02@\\x886\\xa2\\xfe\\x0c\\x16\\xf76\\xe2\\xfa\\xa2M\\x9cw\\xc0b%P\\x11{\\r\\xa3\\xaf\\xad{1\\xe2\\xbf\\xf2{\\x94\\xab\\x90>\\x9e\\x06\\xe1\"\\xc5\\xe1Oz|\\xb9{4D\\xc1V\\xdd\\xebBA[+%\\xb1\\xfa\\xfa2\\xa0L\\xd5\\x1c\\xe3\\xf4\\xed\\xcec\\x0c\\x96\\xa7\\xa4a\\xbdMTC\\xa7\\xa4\\xa8\\xd5\\x1e\\x02\\xcc\\xbe)\\xe2gd\\xe1\\n\\x8cl:\\x82e<\\nx\\xf4\\xa0\\xd4>\\x16\\xfa\\xc0\\xbe\\x1c\\xc2\\xff\\t\\x16\\xf7\\xfa\\xa2\\xe4_>\\xc5\\x08\\x05\\xd5\\xcb#\\xdbKexy\\x18\\xad\\x8d\\xdd4j\\xc3g\\x94\\xa64\\x08\\xfb\\xa3\\xc7\\xc3s\\xeaB\"b5h\\xdd\\xb2\\x08`\\xa4\\x8f\\x17\\x16*t\\xa4$t\\x97\\xe9\\x8a\\xd4\\x8c\\xdd\\x02/l\\x8c\\x85|\\xca@kU\\xaa{\\x88)\\x02\\x88@H\\xae\\xf3\\x85\\x02\\x81\\x17\\x144\\x1e\\x1d33\\xa7\\xa39\\x9c\\xb9)P\\xa7\\xf0\\xc7\\xdf\\xff\\x8bV\\x80\\xf12\\x11\\x80p[\\xac\\x08\\x99/\\x94\\xfa\\x9e\\x17P\\xe8\\xc5 \\xf7\\x98\\xfb\\xac.\\\\\\x8e\\x90UV\\x0f\\x85\\xd8\\xf9N\\x17\\xad\\xaeE\\xeaB\\x813\\x15\\xc4\\x15B\\xfc\\xa9\\x95P\\xe7a\\xa5\\xb1B\\xed\\xbd\\xaeq\\xb9MPx\\x9a?\\xfa\\xf3\\xab\\xce\\xa7\\xaf\\xf1R0\\xd9t\\x9fJE\\x1b9\\x88\\xfc\\xa6\\x97\\xdf\\x85*\\xda\\x9fw8b\\x9eY\\xb6\\x14\\xecz\\xbe\\xf1{{N\\xf9\\x0b\\xac\\xb4\\xd1\\x81\\tHS/\\xd8\\xe9*1\\xde\\x83\\xc7\\xc8\\t\\xfd;H\\xc8\\xe7\\x0cuvd\\xf1\\x86&\\xed\\xa6$\\xc7n\\x17\\x0fy~j\\\\\\x8a\\xf0\\xd4\\x85\\xe6\\xb7\\xc5?Z[fj\\x9b\\xa7\\xe2\\x94\\x92\\x95\\xb5|\\x81SO\\xc5W\\x00A\\xdd\\x96\\xd6\\xf4\\xc9\\xbf\\\\nA\\xb1F\\xc2U\\x81z\\x19\\xc5{o\\xe0\\xb1\\xa74h\\xba\\xf5\\r\\xabR9fG\\xde\\xb9\\xa3\\x06\\t\\xf2\\x8d\\xf0\\xc8\\xf7\\x00PQz\\xc1\\xc0\\x10\\xf2n\\xf4sk\\x83v\\x95\\xae\\xae\\xb8\\xe2\\xeb\\x0f\\xb0\\x82\\xe5\\xc6\\x18\\x1d\\x18\\x01`\\x1b<\\x82L\\xa2K\\xefdl/U\\xce\\xfd\\xac\\\\\\xf8\\xaah\\x98\\x8c\\xda\\x07\\xe0\\x9dX\\x1915\\xf0C\\xb7\\x17\\x89p\\xb2\\xf6\"\\xe5\\xcc\\xfd,+\\xdd\\n\\xb7\\x0f\\x0fr\\xcf\\xf0\\x86\\xd9\\xd2\\x13d\\x16\\xee\\x18\\xf6/is\\xc7\\xf48\\xb0\\xe9u\\xe0\\x97\\xfb8&x?e\\xcc\\'\\xb3\\xa9r\\xcf\\xc2\\xe6\\x8et\\xd4\\xa921\\x04\\xfe\\xac;\\x883\\xf8\\xf6\\x1bM\\x96X\\xf8;(\\x062f\\xb4\\xbc_\\xf8\\x95\\xd3\\xe7\\x11\\xcd\\xcc\\xdb-\\x9et\\x82\\xc4R\\n\\xe5\\xbf\\xce\\xf5;pn%&o\\xb9\\xe6*5\\xf0\\x1c\\xe3|\\x93=\\x96Sm\\xe2\\x01\\xfc\\x8ba\\x9dEH\\xcc\\xc3\\xea\\xd4\\xa1>\\xa53\\xcfa\\x88@\\xaa\\xb2\\xad\\x18\\x06\\x10\\x08\\x8e\\x11\\xa5b*\\xe2;\\x10\\x01\\xa5\\xb1\\xc1`\\x1f6\\x84)\\xcc\\xe7\\xc8\\xde>\\x95\\xc5\\x15\\xd2\\xb5o\\xc6\\xdb\\x92\\xf4\\x19\\xda\\xdc\\x85+\\xba\\x12A|\\xe1\\xcd\\xa1J-\\xea\\xc77*\\xa9T]\\x01\\x97\\xc1\\xa2\\x10Gp\\x8e\\xf4\\x86D\\x1b\\x0b\\x14F\\xf2a\\x8b\\xf0\\x059\\xdaL\\xd6_\\x9a9 +\\xd4\\x18\\xcfQ\\xbc?\\xac\\x97541\\x08S\\x02.\\xefT\\xd3\\xf8)W\\x9a\\x84J\\xdc\\xa4\\xe4\\x0boi\\xfb\\x11\\x99\\xc3 \\x8cf\\xa0\\xe1\\xd9+@}X\\xf5j\\xc2\\xd5\\x9b-\\x18{\\xfct\\xda\\x1d\\xf6\\x1a\\x0c\\xa5\\x97\\xa5\\xd7r\\x8b\\xc5VL\\x1e\\xeb)\\x95*\\xd6\\x04F\\x9aG\\xf6P\\xa6\\xe6*\\x81\\xe6t2\\x8e\\xbcr#\\xa1>b]\\xd1\\xbc\\xf0\\tU\\xee^\\xf8p\\xf9`F\\xa3J\\x16hE1\\xbdQ\\x17\\xc6\\xd4cBW[\\xfc\\xe0L\\xfc3\\x15\"\\xaen\\tF9s\\xd7S8\\x86\\xc4\\xee\\x86\\xbe\\xb4\\xe8w\\x19\\n\\xda\\x1f\\xa0\\xd8\\x85%\\xbf\\xf5\\xd3\\x8d\\x1b\\xc0Cq\\xb9\\x94\\xc2h\\xb5Z$\\x17m\\xbf\\xa2\\xac\\xa2\\x93\\xaa\\x9f\\x8eP\\xa5Q\\x93\\xfd\\x06\\xc8\\xc3\\x87j],\\xca\\x0e\\xb3\\x97\\xba\\xf4p2b\\xf5z\\xf5&\\xb5\\xebVi4d\\xbf\\xbfT\\x85\\xd3\\xdd\\xf1\\x83VZ\\x98\\xa0=XY\\x98\\xfeH};\\xa518\\x01:/\\xd1\\xecK\\x91?M!0\\x01\\xcbw\\xfd\\xe0\\x00\\x7f\\x9c\\xec?\\xff\\x1c\\x8c)9\\xd3\\xd9\\xa7\\xc97\\x12~\\xb8\\xb8\\xaa7\\xbd\\xe4\\xa8\\x16\\'\\x0c#\\x0fI5R\\xf5P\\xe9t\\xf9\\x0c\\x82\\xebf\\xfc\\xd4T\\xeb\\xb1\\x9d\\xec\\xca\\xa6pt\\x87\\xedh\\x8c7\\x7f4G4a\\xa1R:\\x1b=\\xa7\\x92\\xeb\\xd6+\\xd2\\x03\\xc1n\\x13\\xf4Q\\xa3(\\x1c\\xfaag\\xa9ci\\xaa#=\\xfa\\xb8\\x9dY\\xaa\\xaaq\\xf8pz\\xa4xW\\xcb\\xc35\\xc9\\xfes\\x12\\x98\\xe7t\\x1eO\\xd5\\xd5\\xd5\\xbb\\xabgO\\x12\\xad\\xa1\\xbbWv\\xffC!A\\xb5K~\\xbc\\xd8\\x14\\x0f\\x1bAy!\\xcd\\xd2\\xb9\\x19\\xedi\\xae\\xe29\\x15\\x1b\\x0b\\x9b\\x01\\xbc\\xf0\\xfeQ\\xd3\\x1b\\xbe?\\x95\\xbb]\\xe7\\xcaf\\x9d\\xa7L\\xab\\xd8\\x921,\\x89\\xe8I`\\xd9d\\xf7{\\x03M\\xdb\\xaa\\x1c\\xe16\\xa1\\xfb\\xf1\\xf04\\t$\\xcc\\xe4H\\xd4-v\\xa6\\x04\\xfb\\xf7w\\x1a\\x8aXK\\x074\\xbd\\xe5\\xa2\\xc0K]\\x8a\\xee\\xc1\\x1a\\x97\\x9b\\x07\\x8f\\x86\\x03\\x8a\\x82\\xee\\x10\\x8dg\\'\\xb5\\x8a-\\xc8\\xc2\\t\\xfd\\x95\\xed\\x1e\\xee\\x9e\\xecy:\\xd1\\xf1\\x07$\\x9a8\\xa51Wsl\\xfb\\xf5\\xf7K\\xa1\\xfaWc1\\xd8,r\\x08=J\\x9f{\\x92:>h\\xe0\\x7f\\xf8\\x9c\\x15JPj\\x16JA\\x99\\xce\\xb0\\x1a$$Ma\\x9c\\xe2h\\x0c\\x8e\\x9aZI\\x01\\xe4\\x83S\\xbb\\xd8}\\xfah\\x1d\\xdb^\\x96o\\x89\\x8d\\xa6\\xe0L\\x9b;\\xf6\\xbf\\xdfL\\x86\\x1e\\xc2\\xf0W3|\\xbb\\x13:\\xb6\\xd1\\xba\\x05\\x97jhf;\\xad\\x97\\xab\\x85\\xb2\\xa4m^]\\x9b\\xb9\\x06\\x1fd=\\x18\\xe7Y\\xacvP\\xa1\\xe8\\x87\\xe7P\\x83\\x0b_\\x85\\xc3Bm\\x8e\\t\\x11\\xcbOQ\\x0f_\\x0b2\\x99WaF\\xd1\\xbbG\\x86\\xfb\\xd1\\xfbA\\x1c\\x9f@V\\x04\\x7fK\\x13\\xaf?\\xa2\\xe4!\\xaa\\xe2\\xb3\\x1f&\\xc5\\xc1\\x80H(v\\xed{(\\x7f\\xe8m\\xa1\\x18\\xb7\\xc8m\\xe8\\xc4\\x1a\\xe6,\\xe1\\xc0W\\x0e\\xb2\\xa0\\t\\xe1\\x1d\\xd2I\\x82\\xdf\\xf2P\\x10\\xb1\\xf4\\xf1\\xa0\\xd4vJu\\xafQ\\xdcy\\x98F\\xf8\\x0e\\xff_@n1\\xfa\\xe0\\xe2\\xbbD\\xd6\\x95\\x13M\\xbeS\\xbf\\x19\\xc1/\\xec\"H \\xa4m\\xc7\\x9d\\t\\xc0\\xc2\\xe6v\\xe6Uc\\xa3\\xbf\\xb1\\xedf\\xe0t\\xcb>T\\xa6\\x1e\\x14\\xbb\\xc3\\xf6I\\xbd\\x9d\\x13\\xfcI\\x00\\x00\\r\\x13\\xa7W\\xb0J:Z\\x89\\x1d\\xd7\\xa7K\\xf0\\xa7\\xb2\\xd9\\xd9\\x1d\\xf0\\x82\\x9d\\x85ab\\x9fb\\xc7\\xef\\xff\\xa5\\xa0\\xfe#7m\\xa8\\x89\\xc4\\x84\\xb3n\\xa2.\\x17\\x08\\xf6\\x87\\x88q\\xb4\\xf2\\x9b\\xfa2A~\\xa4\\xb4\\xed\\x8by|\\xf3\\xdf\\xce\\xad\\x15\\t\\x8b\\x7f\\xb3 E\\xbdJ\\xb4\\xae<6\\xc2]\\xe8\\x8e\\x1f\\x0fs\\x18\\xe2\\xb7b\\x1e=\\x00\\xae\\xe6j$\\x96\\xdd\\x7fK\\xdd\\xa1\\xd8l\\xf3\\xa3\\xff\\x98\\xa59\\x0fn\\xbbd5\\xa3M\\x9b\\x04\\r\\xab\\xe1o\\xf1\\x99\\xff\\x03PK\\x03\\x04\\x14\\x00\\x00\\x00\\x08\\x00\\xcfL\\x97GlI^md\\x11\\x00\\x00,Q\\x00\\x00\\r\\x00\\x00\\x00Test/test.fa0\\xad\\x1cIv\\xdb8v\\xafS\\xa8\\x0f\\xd0\\xba\\xa3\\xfdLR\\x0b\\x1e\\xa0v~\\xcf\\x8b&\\xcd\\xb6\\xcd\\x92\\xc4T\\xe2^x\\x91S\\x00\\xd2e\\x1a\\x7f\\x02>&JJ\\xb2\\xa8\\x8a-\\x93\\x1f\\x7f\\x9e!s\\xb2Of\\xb0\\xcd\\xd6\\xf4[\\xf3r\\xe9\\xcd\\xb05\\x07\\xbb7\\xc7\\xad\\x19\\xddo\\'3m\\xed~k;\\xb3\\x98\\xc9=e\\x1b3\\x98\\xc3\\xb9\\xdd\\xdaGs\\x80\\x1f\\xb7f\\xc0\\x87\\xcc\\xe8\\xde\\xb4\\x1d\\x00\\x9a\\xf0\\'\\x07\\xb4\\xb5{\\xbb\\x87G\\x0e\\xf8Kk\\xe6\\xf3|\\xe9\\xb7\\xe7W\\xdb^zx\\xf2yC\\xaf=\\x9a\\xef\\x04\\xeb\\xc3}\\xfe\\xe4\\x1eA\\xd8\\xef\\x0e\\xd2\\x14N\\xd8m\\x04?|\\x07\\x10Y\\xdc\\xe3\\x0e\\x95\\xe6\\xd2\\x03\\xce\\xee\\xff3\"\\xdb\\xb8\\x0f\\x13\\xc0\\xcf\\x1b\\xfat\\xb6{Bw\\x86\\xcfm\\x93>7\\x02 \\xf7\\xf1\\x0e\\x00\\x99\\x05N\\xd9\\x9e[\\xdb\\xa5o\\xe2Y\\x80\\xffp\\x9e\\xdd{\\xf8\\x9c\\xfb\\xf3`>\\x81a\\x9d} \\xbe9\\xae-\\xf0\\xea\\xa3C\\xf4\\x11\\xa0\\x9c\\xec\\x1e\\x0f\\n\\':\\x9a~\\xbe\\xff\\xdb\\x9c\\xe8\\x1fG*\\xfe\\x03<X\\x80$\\x96L\\x00m\\x16\\x06\\xad\\xc5\\xf3\\xe5\\x98\\xfb\\xa6\\x0f\\xba\\xf4p\\xda\\x0b|\\x0c\\x98}\\xc0\\xb1\\xb6#p\\x07sB\\xf4w\\x9b\\xf3+P\\xe3>s?\\x0c\\xf6\\x01^y\\xde\\xc8\\xcf?\\xdf\\x01\\x89\\x93\\x93\\xd6\\x1e\\x84\\xd6\\x82H\\xdd\\xbb\\xb3\\xed@\\x14Hu\\x87\\xa4\\x83\\x8c\\x1d\\xb8K\\x7f~\\x85\\x8f&\\xfb\\xb4\\xc5\\'\\x8f uxV\\xb1\\xf1<\\x03k\\x88{\\xfd\\xd6\\xa9\\xdew\\xf7\\xfb\\x00\\xc7\\x02\\x19\\x80}c&\\x02e\\x06\\xd0$\\xfb\\xc8\\x80[\\xf7\\xe0\\x01 \\xb4\\x8ewsP\\x0b\\x14-*\\x84\\x83:!\\x9d\\xac]\\x03(\\xf1@\\\\:\\x03\\x9d\\x9d\\xd7M\\xc0\\x11\\xc1\\xc2\\x07\\x8e\\xe0\\x13\\x90:\\x82v\\x82hA\\xfe\\x1b\\xa7~\\x03\\x98\\x86h\\x01\\x9e\\xe9\\x19\\xc60\\xf0P\\xcf\\\\3\\x07\\xa4\\x91~\\xa7K\\xac\\xed\\xa4\\x99\\xbfL!h\\xa9\\xc3\\xa3\\xd3V:\\x9a\\x81\\x8e\\xfc4\\xdf\\xe0\\xe17\\x07\\xf8\\xd3v\\xa8\\xc3\\xa0\\x94f\\x86\\xb3\\xbc\\xea\\xdb\\x07\\x87\\xfc\\x011\\x06\\x94P\\xf5\\x81\\nu\\x8eW2\\x90\\x14\\xa8\\x18\\xb0\\x05\\xff\\xb5]\\xa4\\xc5\\xc9\\t\\xa3S\\xb3\\x01>Ds\\xf4`PU\\xbcv\\x02\\x8b\\x10\\xd8l\\xf710\\xdb\\x91\\xbbh\\xdc\\x8f{\\x80\\xcc\\x16mN\"\\n\\xe0\\xf0(h\\x02D0\\xc5\\x01|\\x05H\\xa7EFL\\xe84\\xb6\\xc0C\\x80\\xe5\\x1eY\\x1c!@*2m\\x11n\\x8d\\xb1\\x92\\x04\\xb75\\x9a\\x83\\xd8]K\\xfc=\\xd8\\xbd`0\\xda\\'\\xd0{G\\x8b99\\x91\\x12_\\x1cC\\xdf\\xb4$\\x80\\xb3\\xc0\\x13\\xe0\\rc\\xd3\\xa0w}\\x04I\\xb3&h\\x91t\\x88\\xc9\\x17\\xea\\xc4@o\\x80@\\xcc\\x9b\\x03\\xf7N\\\\\\x98\\x11\\xb9\\xdd\\x06`\\x8b\\x0c\\x99\\x1f\\xbb\\x94\\xf3H\\xfb,\\xba\\x8a\\xda\\xb4\\x07\\x9f\\x8b\\xac\\xbf\\x82\\x9c\\xe8\\x05\\x13\\xec\\xe0\\xfe\\x00\\xa8[\\xdbzW\\xb9+\\xc2p8\\x8e\\x97^^\\x04\\xa0\\x800\\xfc.^;\\x92\\xde\\x0e~x\\x03\\xdb\\xb4]\\xaaqEf\\xedHC@\\xa6lap\\x9a\\xfbs\\x17\\xe8\\xcd\\x19\\t\\x9a\\x84\\xea\\xd7\\x8ay\\xc2\\xab\\x0bz=\\xe4\\x0e\\x997\\xfec\\xfe1\\x07VK1H2\\xf6\\x99\\x02\\x17\\xe8\\x0e(\\x80\\xb6ir\\x84?\\xdf\\x01\\xad\\x15\\x17\\xf7\\xac4\\x07\\x1e\\xb8\\xe9\\x14\\xe4w`g\\xbb%Gd\\xdb\\xdce\\tB\"=VV\\xd1d\\xf6\\x0c\\xa0\\xc9-`\\x8a\\xce\\x85\\x05c\\x9e\\xcb:E\\'.\\xc0}E\"\\x98\\x10h\\xd3; \\xf3\\x05\\xf0\\xb3\\x0c\\x00\\xc2\\xbd\\xfb\\xf1\\xc3L \\xae\\x05\\x04P\\x90~\\xee\\x86l\\x17\\x10;\\x92VE\\x18c\\xb0=^\\xfa\\x88\\xeb\\xc2\\x1e0G\\xd3\\x07M\\xb8\\xae\\xa1\\x1b\\x9f\\xf1\\x00\\xad\\x91#\\x9du83\\'4\\xa0\\x06\\x19\\x8f*\\x18\\xe74\\xdf\\x9c\\xea\\x8c\\x91\\xa2n\\xe03\\xb4\\\\\\x86,1\\xd36\\xc1\\r\\x02/O\\x0e\\xed\\x89\\x1c\\x1ej\\x1e\\xfc\\x0fEj\\xbf\\xd8A\\xba\\xf7\\x8e\\xc4[\\xf8c|p\\x14\\xcbGf3I\\xad\\xa4\\xd8$\\xe4/\\x94\\xde`\\x8e+J\\x8c8\\xab\\x04\\xc3Y\\x91\\xf9\\x04@\\x07\\xf7\\xe8\\x14\\x1fL/\\xe3c\\xca\\xdd\\xe3\\t\\x00\\xb3\\xc4\\xb0J\\x0e\\x12\\xd8\\x9f\\xa4O\\xbf\\xe0\\xc4\\x94,\\xe2\\x8c,\\xc6\\xed\\x07&.w\\xa0(\\xb6\\x91\\x86\\x7f\\xc4\\x80\\xf0D\\x7f\\x99%\\x87\\xa0v\\xe0\\xd11\\xa7j\\xc1+`\\x1e<\\xa1\\x88\\x18H\\xd0\\xb8O\"\\x85S\\xaf \\xd2\\x18I\\xc9\\x86!\\x8f0\\x0b\\x08\\xc2!\\xf4/\\x10\\x05+\\xdd\\x19\\x14\\xa8\\xad\\x84V\\xcc$\\x8e`\\x14i\\x8e\\x102\\xff\\xba\\xa6\\x02\\x1fP\\xa3\\xbb<qF\\xe5\\x8atdFU\\xdam\\xd2D\\x03\\x9dw\\x9a\\xd2\"\\xa5I\\xba\\xe6\\xc1\\xe7r7cl\\xd4\\x9cP\\xb8\\xbf\\xec\\xc2k\\x0c\\xba\\x90\\x88g\\xf5\\xc9\\x96\\xc4\\xe4\\x1d\\x13\\n>M\\xeb\\tZ\\xed\\xd5\\x8a\\x81H6\\xc5\\xb8\\x16\\x85RU<T(0\\xd0\\x07\\xf3\\xc3\\x9by1EP&\\xae\"\\x01\\x06\\x1f\\xd3\\x17r;\\xb2\\xee\\xd4;\\xd8N\\xb4+\\t\\xa9\\xda\\x80\\xaeV\\x1fu\\xd32\\xb3\\xa6\\x8f\\xb2\\xa0\\x16\\xaa\\r\\xa6\\x84\"\\xcd\\xc2\\xda\\x88\\xa9\\xc2\\xa7\\x07\\x07\\xd6\\x92\\x86\\xd8\\x88H\\xc7S\\xb246D3\\xab\\x12#\\x0e\\xbdYz\\x8e\\xf6*\\x7f\\x9dt>\\xee\\xdc\\xfa,\\x85\\xef+\\x14UO\\x1c\\x15\\xc0K\\xa3Ew\\xe1<\\x95\\xa0;\\xc7i\\x1f41\\xa8\\xe3\\xc4\\xb5\\x88b\\xf1\\x14\\x9eF\\xcc+%Jc\\xb6yO\\xf6\\x16\\xb2\\x0e\\x88\\x8cp\\n\\x05\\xe3\\xf8\\x10\\x04R`\\x83\\xaa\\xcav\\x9b\\xc0=z\\x97^\\xd2n\\x80R\\x92\\x91\\x9c\\xc0\\x84Z?\\x98C\\x80\\xe7\\xabv\\x90\\xb5\\xf9A\\xca\\xc0,a\\x98\\xca)0W\\xb0\\xd2!\\xe7\\xf9\\xc6!\\x1c\\xdeP\\x92\"\\x8f\\xac\\x98\\x9d\\x96\\xe7\\x92\\xfc\\x9c_\\xe5\\xf7\\x81\\xab\\x90\\x06\\x0b\\x93K\\xcfu\\xd5\\xec\\xfe\\xfb@\\xb9\\xa3\\x1cs\\xa1%\\xfa\\xb9[9\\x12\\x13\\xd5\\x13\\xe0-\\x99\\x05\\x96\\x10x\\x92\\xaf\\xda>\\xa9L<by^\\x84\"\\xe9\\xdb\\xff\\xcc\\xdf\\xf8\\n\\xb57l\\x1b\\x01\\xe4h\\x8dY\\xd7Q%1*u\\xe2\\n\\xde>x\\x07M.\\x99x\\x19R-\\xca\\xaf\\xd0cP\\xaf\\xe3(\\xdcN\\n\\xdc\\x9a\\xfb\\x8a\\xebA\\xb4\\xeb\\x86*/\\xd6\\xe2\\x179\\x0e\\xd4E\\xb4\\xc5\\xabsAm\\xb4\\x1a&\\xfa\\x8c\\xc8<\\xd8\\xc7L\\x16qd\\n>-A\\x8f^H\\xdbCi\\xf6\\xb1\\xea\"o\\x08\\x1dJC\\xbdhP\\xa3\\x93\\\\,\\xb1A6\\xdf\\xcc\\xef\\xb7B\\xbd\\x19\"\\xdf\\x0b\\r%\\xdbhc)a\\xe4\\x8b:\\x81\\x82h\\xa0\\xa1Q\\x8a:\\xeb\\x84\\xbc\\xd0\\xa4\\xfa\\xe6\\x88x\\x0f\\x1d\\xa9]`\\x17\\x05V\\xdf\\xb7;\\xb2\\xa7A\\xfc\\xae\\x1f\\x15N\\x88\\x9a\\x06r\\x1e\\x92\\x92\\xb4eH\\xe0A\\r\\xc4%\\xe0IA\\xd1R\\xab\\xe5\\xbfGzr\\xe5ao\\\\T\\x9a\\\\\\xfa\\xc2sU\\xca$q\\x03W[*\\xf1\\xd2\\xacn\\x14\\x93\\xd3\\x81[y\\xe2\\xa4\\xd4O\\x9b@\\xd5\\x932\\x16\\x06\\xefY\\xb4\\xc5B\\x7fi\\x95\\x12\\x8d7\\x97\\x94u\\x98i\\xc9x\\x17h\\x1d\\xe7\\x91\\x07Q\\xe5z\\xe9uf\\xbc\\xa6\\n\\xa0\\x95u\\xb1Q\\xd4\\xd0&\\xa6\\xaa\\xb8\\x9b\\x9c\\x1f\\xe3\\x199*\\xd3\\xc7\\xaaw\\x8bE\\xc4z\\x9f\\x82\\x8b\\xabf\\x87\\xcf\\xc1L\\xa1\\xce6\\xcf\\xba\\xcc\\xcd$\\x9a\\x95\\xb6Q\\xf9\\x89\\xe5\\x0c\\xc0\\xa7\\x8f\\'\\xa0p\\xbd.\\x0fB*\\'\\xa8@d\\xd9\\xb1\\x04\\x8f\\x925q\\x81\\x10\\xfc\\x9b\\xf2\\xc8\\x05\\xb1\\xe8\\xbc3\\x15\\x8dr\\x85\\x1eI?\\xcd\\xd0\\x1dN\\xa07J`\\x0b\\x06\\n\\x1d\\xd8bC\\x92f\\x05\\xdc\\x1e~\\x03\\x1egm\\xe7\\xe7\\xe0\\xb7t<\\r\\xb1^\\xa2\\xb9c\\xd27\\x88 \\xe4M\\xe3\\xecL\\x81\\t\\x9d}NY\\x01Wxb:\\xbf\\x86\\xbc54\\xe1)\\xad\\x07\\xc0\\xa4\\x1a\\x97\\xbe\\x9a\\xd4:\\x00\\xcd\\xa5\\xf7\\xe6\\x18\\x88L\\x8f\\x06\\x02\\xce\\xadh`8\\x0c\\x18\\x0e\\x14\\xa9F\\x93\\xbc\\xca\\xc8&hz\\x1e\\xa0X\\xccP\\xcb\\xb6\\xf7\\xae&\\xdd\\x9bY\\xe5\\xda\\xcf\\xa14G\\xc1\\x0f[\\xea~\\xdc\\xde\\xae/\\x95\\x01\\xfea3\\xe8T\\x1c\\xd5\\x04\\xa1\\xa1k\\xd1\\x8d\\xb4\\x1b\\x0f\\x8b\\x84]\\x1c\\x10\\x98\\x97Z\\x15\\x80\\x9d.\\x95\\xcc3*Q2\\x7f=\\x8f\\x8a\\xdfB<\":\\xd8\\xfb\\xe5S2\\xc4\\xc3\\xf0TN2\\x15\\xaa\\xab%\\xef\\xb44\\xdeR\\xcdsr>\\xaa5\\x9a4\\xff\\xe8E5\\xdd\\xd8\\x11J>\\xf0jw\\x80\\xa6\\x97g\\xb7\\x8c1{\\xa7O3\\xe79-\\x05\\xf3\\x86\\x06\\x06E7\\xe4K\\xf4\\xce\\xb1|N\\\\\\x81wQ\\xde\\x02\\xd4\\xa4\\x80\\x9c\\x16\\x86\\xe6S\\xec~E1\\xa9E\\xe9Q\\xa3W\\x92\\xce\\xa4v*\\xbb\\xe2\\xa81\\xcd\\xcb+\\t\\x9f\\xe6*\\x91-$\\xae\\x0e\\x172\\x7f\\x868gQ\\xe3\\x86\\x86M\\xb1\\x1b\\x17\\x8b\\x98\\xe1\\xd6\\xcd\\x03?\\x9d\\x89\\xd4x\\xaa\\x98g\\xcaH$k\\xe7\\xac\\x8d\\xa1\\x18a\\xc1kp4>\\xe2\\x84i\\xc8\\xfc\\x96\\xf2x\\x9b\\x04\\xaeO>\\xf3\\xe1\\x9dwf\\x19U\\xea\\x05j\\xcb\\xd1sE\\x96\\xe8\"n\\xd0}~\\x17\\xf6\\xf7\\x84\\xad\\xea\\x84\\xa8\\x01\\x95r\\xb1l\\x0f%\\x15\\xaaV\\xc2\\x91+\\r\\xfe\\x1e\\x91@\\x87\\x14\\xd5\\\\\\xfe\\xa8(NG\\x02$$\\xfc\\xc8\\x18\\x06j\\xa3\\xef\\x15\\x0c\\x94\\xaa\\xb8\\x7f\\xbf\\x07\\xf5Dq\\xcd\\xe0\\'b\\xbf\\x00\\xb5\\xf9B\\x8d\\x04v!{\\xf7\\xcetG\\x17\\xad@Y\\xf0\\xa5\\xd9(P1\\xbd\\x90\\xd8\\x05\\x81\\xa5\\x05\\x9a\\xce\\xb6Fe\\xe7Xk\\xc3\\xc8p\\x86\\xbe\\x02\\xfcJ3\\xe8\\xe8!\\xa9\\xd0\\xcb}\\xc9\\xc8\\xe5\\xe5I\\xd7N%\\xc6\\x95\\x1d\\x87L\\x10Q\\x05\\xb9\\x00\\x1a\\xdb\\xf3_t0-\\x0e\\xd4\\xbd\\x0b\\x9ex\\xbfk\\xd9\\xe5\\x1e\\xcc+\\xfb\\x9a+#\\xe5^\\xabUu_S\\xea\\xc6+\\x10w\\x9btr[\\xf7[Qd7\\xd8w4\\x87\\xb87!\\x14\\xfeY\\xc7\\x16G\\xea/\\x12<\\xb1\\x00\\x1aT>\\'\\xe1\\xa9\\x15\\xce\\x18\\x8e\\xa0R8\\xdb\\xf0.l\\xcc\\xfcU\\xe4\\x87\\xf2::\\nC\\xb5\\x94M\\xf0\\x15:C\\xc3;\\xb8\\x87\\x82\\x0bR\\x03\\xc9+\\x1d.\\xdb\\x14\\r\\xb7\\x11\\xc6Q\\x1f\\x95\\xbc\"\\xbcF\\xfe\\xfb\\x03J\\xc7\"R\\x15\\xcb\\x90\\xb8l\\x8e<\\x14\\xa2^v0\\x14\\x19~\\xe5\\xe6\\xb6\\xe6 \\xcb\\xdd\\xaad\\xec\\x81\\'\\x15O\\xc8g\\xa4i+\\\\\\xd7~j\\x12\\x19\\x9cU\\xc1C\\x95\\xca\\xfa\\xac\\xee\\x8b\\xdc\\x0f\\xea\\xfe_\\xee\\xe7\\xff\\xd8v-\\xb4{j\\to\\x1dg\\xb9\\x90D\\xf8$\\x91\\x00\\xaf\\xdaY\\xf4\\x08\\x14V0L\\xaf\\xb5\\xe0\\r\\x95\\xf9)\\xf2+\"\\xdb$`\\xa4\\xea\\x18wg\\x07\\xdb\\xb0Ez\\xaf\\x06y\\xe0\\xef\\xd5\\x9cV7\\x04\\x93\\xc6e\\x16\\x83|\\xb9KNL\\xfa\\xd1\\x08N/\\xa9\\x00\\xcb\\x8aM\\x01N\\x9e\\x8b\\xbd\\xa5.\\xdd\\xcez\\xc7\\x98=\\xe0\\xd8\\xc6\\x0c\\n \\x98;\\x06\\xa4\\x9b\\xfb\\xe1\\x1b\\xc9\\x9aI\\xce\\x94\\xba\\xcb\\xef\\xcd\\xa5\\x8f\\xd0OE\\x8c`\\x0e\\xaa\\t@fZ\\\\\\xd2K&R(\\xbe4/W\\x91r\\xf0\\xca@2\\xae\\xc0\\xce\\xe7f \\xf4w|pN\\xfb\\x92\\x95\\xb6\\xc0\\x9d1\\xa5\\xd8`{4\\'\\xdc\\x0c\\x8b^+\\xcd\\xc0\\xabp\\xf5\\xa8\\xe7\\xfe\\x86\\xfbs\\xaaMj\\x90\\xac\\xf5\\xd46\\xf1Hkr\\t\\xc4\\x07\\xf4\\x13\\x90E\\xa9KX5A3\\xaf\\xf6\\xea\\x8bX\\xa9A\\xaf\\x86\\x9d)\\x87C\\xa0E!\\x04\\x9e<\\x87qV\\x91+\\x9eg\\x959\\xd6\\'\\xb4\\x16d\\xcc\\x03\\xc3,\\xaf\\xbf\\xe6\\x84\\t\\xaa\\xdf\\x94\\xe1\\xb0\\x15*DE\\xe0JN\\x17e\\r>t\\xd5\\xd2\\n\\xdb\\xac\\r\\xf3H\\x10@g%\\x86\\xdb}\\xa9\\x90\\xa5\\xae\\x1fJ\\xe9\\xfc\\x9a\\x8e\\xf7@l\\x0b\\xad\\xf7\\xa0\\xda\\x9b\\xb9\\x18\\xac\\xe8\\x1d\\x87\\x96\\xdds\\x15\\x8e\\x91\\x9dl\\xc7W\\xee\\x92\\xd9tf(\\xb4vd\\xe1\\x8d\\x1fj\\xc1\\xa3\\xe0\\'\\xb4\\xbb\\xc0\\x0b\\xbe\\x00\\xbc\\xd4\\x17\\x82\\x0fIT2\\x98\\xc8\\xdaY\\xa9^\\xadp\\xca,\\xd4^^\\xeb\\x9a\\xf9\\xc5NE\\x81\\xaa\\x17\\x12Y\\x95\\x96\\xb6Pw*\\xab\\x9d\\xbc\\x96\\xa1\\xfcls\\xe9\\xef)\\xb6KE\\xbc4U\\xe5=\\xd5\\x8b\\xafC\\xce\\x12\\xb2\\xf2\\x10\\xf2;\\x10\\xb9\\xe5\\x92\\x07\\x99~L\\xddXT\\xca\\xdeV\\xe8\\\\\\x1d\\xf1\\xd4\\xcb\\x04^\\x19\\x9f\\x00\\x85Z\\x15\\xcd\\xe1\\xef\\xa0\\xfc\\xbf$\\xa7@m\\xbc\\x00;d\\xad\\x0f\\xe7W\\xcc7\\xf2{A\\x07JQ?\\xb0i\\x01j\\x99z\\x9c\\x9c\\xc1\\xf1i\\x90\\x8fwO\\xb9z\\xa4\\xd0L[D\\xd7\\x06\\x01\\xde\\x19\\xb3\\xf4\\x10\\x8eR\\xa6\\xb5\\x9eT(k\\xd7B\\xb3@(\\x8e\\x12\\xf2\\x8c\\xee\\x16a\\x96\\n\\xcaK\\x9fFk\\xdc\\x8c0C\\xf9\\x86\\x01\\x12\\x9f#\\x8c\\x0c\\xa4l\\x7f%\\x9e\\xe3\\x98)\\xe9F\\xb62\\xcd@\\xee\\x94;\\xfa\\xb7!\\x08\\x98\\xf9\\x99)I%\\x8b*\\xa4#\\xbb\\xed\\xedy\\x05\\x0b:\\xb1Q\\x1d\\xc7S\\xa3\\xd7\\x81=\\xaaT\\xf3\\xce\\xa6x\\xfc\\xd5\\xb2\\x0cd\\xc8+.2+\\x878\\x00>\\xbe\\xc0k\\x9f\\xa9o\\x94\\x7f\\xbc\\xf4\\x95\\x92\\xb6\\xdee\\xc0\\x01\\xa3m\\xd9\\x10\\xc9i\\xc2Iy\\x8f\\xa7\\xde\\x03\\xab\\xa4\\xbf\\xd7\\xe6\\xc9#\\x93\\x89+\\xcf:\\x95\\xb7Mq\\x01h$(\\xf5\\xae+\\x82\\xadV\\xfd\\xab<\\xc0\\x80]\\xe4]\\x98\\xbb\\x06\\xcf$\\xea\\xeb\\xa9\\xba0\\x84\\xbb0@\\x80jM\\xb8\\xa2\\x1ck\\xbd\\x04\\xaaC\\xa1\\x07{\\xa1))\\xb9\\xd5b\\x98\\xd5\\xb3\"\\xdd\\x97)\\x87T\\xa2\\xb0\\xa0xQ\\xf3\\xe0\\xe2\\x97\\xa4P\\xd7\\xd1:!\\xb7\\xdcS\\xd1\\xdb\\xf2\\xa0\\x0bGZ\\xfaA\\xa5\\xb8{\\xb4\\xc7\\xcf\\xbc\\xeba\\xf7\\xdc\\xe3\\xc0\\x1b4\\x97>8\\x04\\xec\\xb7}\\xe1\\xef\\xe2\\xefm\\xa33\\x17\\xbc\\xd3@\\x19\\'\\xfcL\\xc7\\xab\\x90\\x9e\\xed\\xd8\\xf8-\\xb2\\x8a^\\x95#u\\xbe\\x1dtc4^\\xab\\xbaDJE\\xe8YI\\xe6qy\\x87\\xbf9\\xa1\\xfe\\x17k\\x14\\xa3V/\\xe9\\x06\\n\\xa5A\\xe1\\xa2\\x8b\\x17l\\xb2\\xde\\xba(\\xd1\\xc4f\\x8b\\n\\xbeR7\\xdc\\xb2\\xdbc\\xf71\\x84t\\xa7\\xa1\\xb2#@5B\\xb2Y\\xb2\\xe2_*\\xc2\\xfcM\\xe4e\\x92\\x98,L\\xd9.\\xab2\\xd7n\\xe4 \\xeb\\x11\\xa1\\x90N#T\\x99\\xbe\\xd6\\x92\\x92\\x05|E\\xaa\\x99\\x10\\x94\\xd8\\x89\\rg\\xb1\\x9f\\xc2\\xc6o\\xd4,\\xa2\\xfa\\xf0JS\\x9e\\xdb\\xc1#\\x16\\xa8\\x07=\\x8ctu\\xe0>,j\\xc7\\x93\\x05Q\\xc7\\xb5~\\x94y^\\xbd\\xd7\\xe2\\xc7*\\xa5\\xb5\\xa6r\\x00\\xafL\\x81\\x92\\xab\\x89rx\\xb4\\xfc\\xadM\\xfc\\xeaT.b\\xa3/2c\\x0e\\xdc\\xb6\\x18\\xefg\\x8c_\\xf2\\x91\\xbe.\\xf2+\\x10w\\xb5\\xe8aj\\xf7\\x1a(L\\xad\\\\\\xcc\\x89\\xaa\\x1an;L\\xcc\\xf0,=0\\xd9\\x08\\xc8\\xea[\\x94+\\xed\\xc8\"\\x8aQu\\xb3\\x82b=6\\xd6^B\\xea\\xb5\\xa7\\xe58\\x94}\\xce\\n\\xbf\\xdbPV\\xa4\\x94\\xeb\\x8dL\\xc8O=\\xed\\x83\\x8c\\xc7_\\xc0\\xa1C\\x18\\xc2\\x12\\x85\\x92Y\\xcc\\xae\\xbcWAN.~Z\\x07\\x18\\xddg\\x0ezZ\\x93\\xb6\\xdco\\x1e+\\xef6W\\xef[\\x05G\\x1b\\x9f,Mw\\xab\\x17$\\xf5e\\x16\\xee{\\xdc\\xed\\x08#\\x0c\\xd4\\x14\\xfd&\\x87(\\xce\\xf9F\\xef\\xb96\\x84D}\\xb8r\\xff\\x84\\x85Y\\xde\\xd5\\xbaQ\\xa0\\xb7\\x9c\\x10-\\xb2e^.+\\x98\\xbc\\x83s\\xee\\rS!+\\x1b*\\xc2\\xd2\\x02\"\\x15\\r\\xb9\\xbfx\\xe2\\xed\\x9c\\xd0)\\x9f\\xec\\x93PFs\\'*+4M\\xa97F\\xbd\\x91\\xf8\\r\\xfc\\x05\\xed\\x1c=\\xecB\\x17<\\xf0 Y\\xd9\\r\\xca\\x14\\xc5zY\"\\x12\\x9cF5\\x1az0S\\xe8\\x7f\\x8a\\x9f5|\\xfb\\x91\\x071\\xfe\\xdf+;o\\xb6S\\r\\xb7\\x00\\n\\xb74Q\"\\x95\\xad\\x01\\xe5B\\xd1\\x9c?\\x1d\\x8e\\xffTODN\\'\\xa3 \\xba\\xd6\\xa6w>s\\xa1\\xafy\\xceX\\xe9\\xec~u3\\x02|\\xc2\\xdd\\xeb\\x11%\\x84\\xee\\x99o\\x92\\x9e\\x84\\xad\\x93\\x17*\\xb2\\n\\x8b\\xb0\\x81\\xf1\\x9e1\\x85\\x91~\\x9c,\\x14\\x93P\\xa8\\xb2\\x8a7\\xb4D\\xe7\\x97\\xa8;p\\xcf\\xd5\\xbf\\xcam\\xb3Z\\x98\\xd7\\x94\\xb3\\x9fK\\xd6\\xe3\\xd0|B#Z\\xb7\\x13\\xa2\\xc5\\xd5(P\\xa4}\\xbe\\xc0\\xec\\xdb\\xe4\\'(\\xa0]a;Q\\xaa[\\x1a\\x15\\xc2\\x97!\\xa0\\xbaU\\xab\\x8fd\\x96\\x85\\x1d\\x94\\t\\x9b:\\xb2\\xdbG\\xcd\\x81u\\xf7]N\\x05\\xc3W^\\\\\\xcbMmSl\\xfa\\xea,\\xd4\\\\Y\\x92H\\n0}\\xff\\xeb\\xdav\\xec\\xda\\xc0\\xe2\\xa6}\\xae5\\xbb\\x96\"{!4@\"\\x80\\xf1yN\\x81\\x96\\xd6\\x00\\x94\\x97\\xaf\\xf6\\x8a\\xcf\\xaf\\xd7\\xef\\x90d\\xf9\\x9f~\\xb4z\\x93\\x04\\xf9\\\\?8\\xed\\x16\\xb3\\x14\\xa3oQ(\\xb9\\xcf\\xba\\xc1\\xe5n\\xf4O\\x81\\xbcz\\xef\\x8a4t\\x8f:\\x86\\x9c\\xa1t\\xb2\\xd2\\x11\\xbe\\xf4\\xd9\\xb7\\\\d\\xd6\\xf1!}W\\xec\\xbd\\xd07>\\xf4\\xa5\\x85\\xd1\\x08\\xdf\\xdf\\xdc\\xad\\xaat\\xbd\\xd5\\xee\\x13\\x9eK_\\xdf\\xa2\\xba\\xf9Q\\xf8\\xf1E?u\\x8f$\\xc7\\xfd\\x0e9v\\xa49X? \\x97\\xe3\\xd1\\xe5\\xae\\x80By\\x99>ru\\xfd*\\xe6\\x11\\x8a\\xf7\\xa3\\x14\\x86\\xa9\\xc5|\\xacr\\x8da\\xfd\\xd98I/1\\x12\\xf3\\xbf\\xe8\\xb1\\xc2\\xe5\\xde\\x95<1]bM\\xe6_\\xf7\\xd4\\x1d\\xd5\\xda6*\\x11t[.i\\xf8\\xc7\\xdb\\xb6sa\\x85<x\\xf0\\xe4.L>t\\r5.\\xc6>\\xfb\\xe5\\xd3\\xef$\\xe0\\xe3Ln\\xbb\\xcb\\xfb\\x87\\x0b\\x9a\\xd2m\\xd5(\\x0f\\xc5\\x15q~8.T\\xfd\\xc950\\x9d\\x05\\x9e(\\x13\\xb7|\\xe1\\x81\\xbc\\x02/\\x83\\x8f \\xae\\xf3kdj\\x11\\xd7\\x17\\x18M~\\xdaF_\\x88\\xf0#l\\x92\\x8b\\xa6\\x019\\x92w\\t^8\\x8e\\xa9Q\\xc5\"\\xdf\\xc71\\xa4*[e\\x10\\x89\\xfd\\x0f,v\\x85\\xb4a\\xb5\\xc9K\\x1a\\xf4\\xe7]a~\\xef|\\x9bj<-\\x16\\x80fV\\xc7\\\\\\x9b0\\x00MoI*S\\xcd\\x03\\xd6\\xfa\\xc5G\\x84\\x9c\\xee\\x86\\x84\\x1a\\xdf\\xe8\\x1b\\xed\\x1c\\xa3\\xab\\xe6\\x8c\\xb0\\xae\\xf8\\x14\\xb4\\xadZ-Z\\x91\\x8e\\xa3\\xf4o<a\\xd1\\xd7\\xa1\\xbc9\"\\x06\\x96\\xbe!\\xc2_\\x95\\x93\\x89\\x1d&\\x11\\xa7\\xd5\\xcb\\x15>\\xebJn\\xf3\\xda\\xa6\\x1c \\xd6\\x16!\\xd2\\x05\\x10\\x8di\\xe6O\"\\xc8\\xfa-\\xc2\\x8cO\\xb8\\xf0~X\\xb6/B\\xdfg\\xf1\\x8e\\xdb\\x1f`\\xb9\\xf0VX\\xf0\\xcb\\xe0\\x89~2\\xd8r\\xef\\xad\\x98\\x12\\x16;w@\\x11\\'&\\x02i\\x92\\xdc,\\xea\\xc6\\xd5&\\x87\\xd7v\\x15\\xcaM\\x0c\\x93\\x7f\\xdd\\x84\\xae)\\xa4.\\xf1\\xa6Q\\xecPuI\\xd5$t@\\x19\\x8f\\xbd\\x0cV\\xe9$\\x93\\x13\\x07\\xe5\\xdb-\\xe4yy\\xa0<\\xc3\\x07\\n\\xe7\\x91*\\x81\\x85\\xbaolF\\xa4\\xbf\"\\x8bt\\xbb\\xd1\\xea\\xa9z`\\x8d\\xaa\\xb7m\\x1b\\xef\\x8e\\xcfQR\\xd0q\\xb1\\xaa\\xc2\\x01\\x02\\xe1\\x0e\\x03\\x86\\x14q\\xae\\xd1=0\\x19t`\\x90X\\xf5\\xb1\\xd1\\x97\\x0be\\x9e\\xf6\\xffPK\\x03\\x04\\x14\\x00\\x00\\x00\\x08\\x00\\xcfL\\x97G\\xc5\\xb6\\x00@\\xa8\\x11\\x00\\x00\\x18S\\x00\\x00\\r\\x00\\x00\\x00Test/test.fa1\\xb5\\\\1v#\\xbd\\r\\xee}\\n\\xfd\\x07\\x88\\xce\\x18\\xfbyF*\\xd4\\xa5I\\xe7\\xf7\\xdc\\x8c\\xacX;\\xbf\\xa4\\xd9\\xecn\\n\\x17{\\nR\\xear\\x92\\x10\\x00\\x01\\x82$8\\x1a;I\\xb3kKC\\x12\\x04\\x81\\x0f\\x1f\\x00\\x8e\\xdd\\xc5?\\xbb\\xc1w+\\xb7[\\xf9\\xce\\r+\\xb7w\\xc3m\\xe7F\\xfc\\xc1o\\xe0\\x9b\\xd1\\x9dV\\xee\\xe4\\xb7\\xee\\x1c>\\x0c\\xdf]\\xdca\\xe5\\xb7+\\xbfq\\x93;\\xf8\\x0e\\xc7\\xb9\\x93\\xbb\\xe0\\x90U\\xf8\\xf9\\xe0\\xb7\\xbe\\x83G\\xfds\\xf8\\xcco\\xe0\\xd1\\xc1\\xf7\\xe1\\xd3-L\\xb5\\x87\\xc9n;\\x98\\xfa\\xe5\\x01\\xc7\\xf8\\'\\xf7\\xc3\\r\\xb8L\\xf8\\xef\\x18\\xe6w\\x07\\xf8m\\xc0\\xb5\\xd6\\x0f\\xee\\xf5\\xb6\\x83\\xa9\\'X\\xca\\\\\\xc6w\\xb7\\x1dM\\xebF\\x14\\xae\\xf3==\\x98&\\xe7gha|\\x02\\xe6\\x83\\xf1\\xf0Q.\\xc8>>\\xb9\\x86\\xd9d\\xe1\\xb0\\x97k\\x8f\\xff\\x84\\xa9\\xce\\xb7\\xdd\\xca\\x1dx\\n\\xd0S\\x18\\x89\\x02\\xc0\\xbe\\x86\\xeb\\x88kf\\xb3\\x86}\\xfc\\xc5]\\xe0\\x9f0\\x06\\x86\\x9f`Z|p\\xe3\\x1fI\\xafA\\xabS\\xf8\\xcc?\\x85Y\\x9f\\xc2Zn\\x7f\\x1dA\\xf0\\xdbN\\x1d\\x13)\\x1f\\x1f\\x8fG\\xf2\\xfb\\x18\\xe4\\xfd\\xf0\\xbd{\\xcf\\x06\\x7f\\xf3[8G\\x1a|r\\x17\\x94o\\xfdp}\\x03q\\xc3g\\xe1\\x87\\xc1?\\xc2\\x93/\\x0f\\xe9\\xe7\\xcb\\xf5\\rt\\x89\\x9b\\xc5\\xc3\\x1d\\xfd\\x06\\xce\\x81$\\x85\\x9d\\x1c\\xc3\\xa3\\xcfA\\x82\\xdb\\xee\\xfa\\x06\\x1f\\x1d@\\x03\\xf0\\xe4\\x19\\x8e\\x1a\\x9e%\\x9d\\x81\\xa6V\\xd7\\x116\\x87K\\xc3\\x06\\x9e\\xdd\\x8f\\xf0\\xfb\\x80\\xa7\\xb0\\xa5\\x19\\xe08\\xc3\\xc0\\'\\xfc-l\\xa5\\x0f\\x0f\\x9cX\\xdb\\xb8\\x9b\\x0e&`\\x93\\x80\\x91\\xa8\\x068\\xd2\\x03n\\xb1\\xa7-\\x0e`\\xa5\\x03\\xa9\\xe4\\n[\\xdc\\x80-\\r,\"L\\x8f\\x1f\\x84\\xbd^n\\xbb\\\\\\xb9\"4\\xee\\r\\xb6\\x81\\xd3\\x89\\xae\\xe2\\x1c\\xb8\\xa8\\xe8\\xd5\\x8d\\xc5\\x0e\\xc2\\x0f\\xefn \\xe9\\xdf|\\xcf\\x16\\xf9\\xc5m\\x82Y\\x06\\xa96\\x86\\x83\\xbe\\x87\\xdf\\x7f\\xa1\\x81\\xb8_h|g\\xf7\\xd3o\\xa2\\xf1\\x82\\xf5\\xb9\\xf1\\xb6\\xd3\\xc6\\xfex}\\x8bn\\x00\\x82\\xa1\\xcd\\xfb\\x8d\\xf6\\xb4\\xeb\\x1b\\x88\\x81\\xb2lW\\xa0\\x1f0\\xaa\\x00\\x11\\x9b\\xcc\\xa4\\x8a\\xd9\\xf7\\xc1\\xe6\\x06\\xf8\\x10\\xfd\\xa0_\\xa1\\xad\\x80\\x0b\\xa21\\x82\\x92p\\x96\\xd1o\\xf3Y\\x18\\x17\\x82\\x0b\\x03.\\\\\\xc7\\xa6\\xb1\\xe2\\xe7\\xfb8\\xeb3<\\xe3\\xce\\xf0\\xc4\\x04+\\xd3\\xa8\\x91\\\\\\t\\xd4\\tS\\x86O\\xa6\\xb0\\x11\\xd1\\x7fP\\x9e\\x9b\\xa2\\xdeX\\x8b\\x99\\xd9\\x08\\xd8\\xc12<q\\x02\\xaa \\xc3>\\xac\\xbc\\x018\\xf8\\x08HG\\xa6\\xfdv\\xdb\\x81HA\\xab\\xef\\xfa`|\\x87\\xd6\\xf3\\x04\\x87\\x1dM@\\x9f\\xc2\\x06\\xd7\\xfd\\xc0\\xb3\\x1eHl8\\x03\\xf7\\x1e\\x06\\x1f\\xc9\\xb8F\\xbf\\xa1E\\x07\\xfa\\x85\\xf6\\xb8O\\x86\\xa1\\xc5\\xc0=\\x8f\\x82#\\x8f\\x08\\xd5c\\xb4\\xfdL\\x96L\\xbf`\\x0b\\xa8\\xdd\\xb0\\xd7\\x9f\\xe0\\x00A_\\x04a\\x84z\\x9d\\x1b\\x8a\\x03\\x19A\\x18\\xfaj\\n\\xdbz\\xc6!\\xe4irHI\\xc0\\xe8\\x06g\\xb2\\x981\\xbaJ\\xf8r\\x08\\xd6z\\x88Vfj\\n\\xc6F5l\\xa3<\\xb2\\xc7Z{{\\xd8-\\x9am8\\xb6-\\xed\\xa8#3\\xdc&\\x7fC\\xdd\\x80\\xd5\\x06\\xdb\\xef\\xc3\\xa3{\\x80+\\x00\\xab\\x13\\x1d \"\\xdc\\xef#,<\\x83]/\\xca\\x0c\\xe0\\x81\\x05k\\xc4\\xa0\\x80\\xdb\\xe2\\xf3\\xef\\xc8O\\x18d*Lb\\xb9\\x94\\xa7\\xae\\x1f\\xd8\\xc3lw\\x07\\x83\\xf5\\x1dG\\xa6\\x88\\x1d4qnC,\\x06\\xd8\\xf8m\\xa7v\\r\\xf8\\xf2\\x08\\xf2P\\\\\\x05\\xf1>\\xc8\\xa7\\x9e\\xe0\\xbf\\x02$\\xf0t\\xe1[Q\\xba8\\xe9z\\xd5@\\x1b\\xdf\\xb1\\xa9\\x83:\\xf7\\xa8\\t\\x89\\xa5\\x12\\n\\x87\\x88+\\xa6\\x89/0ga4\\xeb\\x12/G0%\\x80\\x1a\\xb4Ct\\x94\\x0e6\\\\p\\x94G\\xd8\\xea\\xf7\\x10\\xe0\\xf6\\x99Qb\\xf0C\\x05$\\x1f\\x84\\xf99D\\xfa.\\x81\\x1e\\xa8\\xef\\x12\\xc4?\\x10\\xbc\\xb9S\\xf4\\xcd\\x9e\\xc8\\x82\\x9b82\\x05\\xfb\\t\\xa3\\xcf0\\xbe\\x10 \\xf3\\xbc\\xbd6l\\x8a\\xb8\\x1f\\xe8\\xe6\\x83(\\xaei\\xcb%]8\\x81\\xfd\\xc0\\x7f8;\\xe1\\xcd\\x14a\\xceo\\x93\\x83F\\xef;\\xc3d\\x96\\x86\\x1aX]\\xe8\\x9cg\\x8b\\xf4\\xe6.D)}\\xd3L\\xb68l\\xf8K\\xa5*\\xc1\\xa9\\x0c\\xe9\\x89\\x87\\xb9?\\x83\\xa8}E\\xe6\\xc0c\\xc1t\\x91\"\\xf5`\\xc0\\xbe\\xc7O\\x06\\xff\\x9cx\\x01\\x19\\x97\\xfbE\\x1b\\xa2\\xbd\\xf54o.&\\x13[\\x08\\xf7\\x00\\xa6h>\\x7f\\x80\\xfe\\xa3M]\\xc12\\xfah\"\\xc8\\x01N\\xad\\xa0\\t\\xb8\\x90y\\xc2\\xe8&E\\x91\\x8a\\t2:\\x8a\\x82\\xb5,\\xb61\\xef\\xfa\\x81Y\\x03\\xe8@\\xbc\\x175\\x94\\xf3\\x08\\\\}\\x12\\x03\\xc0\\xd1\\xa4\\xe3\\x9c\\x9f\\x89<-K`\\xda\\x10\\xe6[\\xab\\xa7\\xb3\\xa4\"\\x1d\\xe0%_\\xd1b\\xd4x\\x90\\x02M\\xc9n\\x8d)\\x8b\\xd9\\xe2P\\x0bz\\xfcV\\xa8S\\x94\\xfcs\\x1c\\x07M\\x0e\\xbc\\xf6\\xd1\\xfdd_\\xb7\\x89\\x01\\xa97!\\x80\\x8a\\x11\\x18\\x9d\\xdc\\xae\\x02\\x89B\\xb2\\xf0\\xe9;\\xb8`\\xb4s\\x94\\xa0\\x0c\\xad\\xda\\xe1\\xee\\xe7\\x19u\\x9a\\x177\\xea\\xc6\\x1c\\x1e(\\xeb:\\xa0\\x04\\x14\\xb5\\xddH\\xe1\\'\\x03\\xe8\\xe8S\\xed\\x10\\x8c|\\xd8w\\xd7\\xb7dv)\\xb1\\xc8\\xe3r\\xc2F\\x8ay\\xc8\\xac\\x14\\x11_\\t\\x0fO`\\x8c9-\\x9c\\xf4+d\\x87D\\x14\\xe9\\x0c(\\xc9\\x01\"$\\x11Ao\\xa8\\x03>E\\x1a\\x98\\xd8\\x05F\\xe2\\x7f\\xd1IxkH\\x1b9V\\xd3o\\xb9\\x0b\\xb0\\x81\\xc2\\x89\\xcc\\xef<\\x9f\\xb9\\x8c\\x08\\x89\\x04\\x8b\\x86\\xd6\\x0fIY4\\x16\\x07\\xc1z\\x04\\x16H\\xf70\\x85u\\x074p\\xf8L)\\xd0\\xd8g\\r\\x01\\xf1\\x1b\\xa2<\\x94\\xc5\\xe0C\\xc4\\x97q\\x9b\\xa0\\xba\\x12m3\\xb0F\\xeaN\\xd3\\xc4L[\\xa2yM\\x85\\x00\\x9e\\x91\\xcb\"J\\xbf#\\xc4\\'\\xee\\xf9Bx;`\\xf0\\x1f\\x98\\x81\\xf6\\xf3\\xc7\\'\\x16\\xba.\\x04\\xc0L\\xe1\\x02\\xdb\\xe1\\x98\\x87\\xd9B\\xdc\\x83%r\\x92\\xf6\\x15\\x14\\xc5\\x84\\x8eh\\xda74\\xfc\\x01\\x93\\n\\x9c\\xfb\\xb6\\x8bE\\x88\\xbe\\x98\\x9bu\\xda\\xc7\\x92L*\\xd8\\x9c\"F\\x13/\\xc8(\\xce\\xc9\\r\\x19Q\\x0c\\xfc\\xe0\\x14k\\x18\\niq\\xf5\\x94YgX\\xd5\\x88=e\\xa2\\xa9\\x13\\xf2\\x98\\x1b\\xff>V6\\xf5*2\\x19\\xd6\\xa5\\r\\xb54\\xfb\\x9e\\xc2,\\xd4)\\x9e\\x0c\\x92\\xc7\\xec:,\\xf9\\x03\\x84,a\\x12\\xe5\\x04\\'6\\xea=\\xf9N*\\x04\\xadbC\\xe44\\x8aT\\x95\\xe6h\\x05\\x9a\\xda\\xbaYvv\\xe26\\xb5\\xa3\\xa4\\xfd\\xc5\\x08\\x16}V!HE:w!2\\x1f\\xc0\\r\\xe3\\xbb\\xd4\\xc1\\xa6H\\xf9\\xf4X\\\\\\x1c\\xbf#N;j\\xf6N\\x0e\\xfd=H{\\xd4j\\xcb\\xcb\\'\\x1c-)\\xe2~#\\xd3_\\xb93\\xc5\\x1a\\xd9\\xf2\\'\\x96\\xd2\\x04p\\xd3^\\x98\\xdd\\x8dM#\\xf9J\\xee\\xdfhx\\xc9\\xa5\\xe9\\xfb\\x8c\"\\xdd{X\\x1c\\x0f\\xfc\\xe2\\x1a\\x0c-2 5\\xae\\x1a\\xd2\\xdc)\\xa2\\x18\\xc7\\x83*s,9N\\x02L\\xe5\\xb2\\xd1;4\\xb2K\\xde$\\xa6\\xd5X\\x02\\xcd++/\\n\\xfa6\\xfc\\xb6*B\\xcdl\\xc0\\x107\\xfa\\xd5\\xffe\\xe2\\x04\\x13\\xd1\\x91\\xda\\xd5\\x93;fq\\xdfB+?K,\\xba\\xc2\\x80\\xfb\\xb8\\x99\\x0e\\xb1\\xc27\\x16%7\\xd1y\\xcfi9\\x89=\\xfb\\x86\\xa2A\\xb4b\\xa64T\\x10n\\xe7\\xd2\\x1c\\xbb\\x8c<\\xbaNr)\\xf5\\x05\\xe6\\x8a5\\x8e\\x03\\x8c\\xbe\\x1b\\x8c\\xdc\\xcb\\x1c\\x05n\\xef\\xd1\\xaa\\n+\\xa4V,\\x963w\\xcdc\\xcb\\x83B\\x0f!\\x14\\x17\\xc9\\xa4\\xf7\\xa1\\xab\\xa4\\xb0\\xc1\\x8c\\x10\\xd7\\xeek\\xa6\\xf4ef\\xaa\\xea\\x89F\\xaa\\x84J)\\xaa\\xcfr\\x16\\xc2\\xb5\\x02vB\\xb0!\\xec\\xadi\\xe0\\xcbC\\xab\\x0c\\xed^\\x85\\x9bI%_\\x95\\xa2/w\\x182\\xac\\xd1!_\\xc7\\xf2B\\x9fv\\x95\\xfa%\\xf5\\n\\xe1\\xf0\\x0f0\\x9f*\\\\\\xe9\\xa7P\\xd0 \\xe3\\x06\\xf7X\\x08L\\xe7\\x10\\xbd\\xc0d\\xec\\x1b\\xb4\\xe6\\xdeb\\x96Tgt\\xa9\\xaf\\xc4\\x05\\xb9J\\xc5v\\xb9\\xc0\\xd2l| \\xd6\\x87\\x85\\xe0S:r\\x81\\xa3y\\x05=\\xe9\\xbd\\x8e\\xeet\\xbf\\xc5\\x90\\x1fr\\xbd\\xb4\\xdf\\xdaiE\\x95\"\\xf5z\\x99\\xc5\\x0c\\x8cd\\xcf6\\xa7\\xb7Pb^\\xd5[\\xc3\\xc5\\xa5\\xb9\\xc7 \\xba\\xc5\\xf2\\x80f\\xd3\\xe0G\\xc2\\xa5\\x11wt)\\xb6()\\xa6\\x84\\x10\\xd3\\xcb!\\xd6+\\xf6\\x8cV)R\\x97x\\x90UL+\\xe9\\x99+\\xff\"\\xce\\x92\\x8a\\x1b?\\xc27G\\x9b8\\x97;f|\\xba\\xed\\x12\\xfe\\xc5Czwc\\xd5P)\\x04\\x88\\x98\\x063\\xcb\\xe2l\\x00l\\xac\\x99)\\x1b\\xb6\\x8d,\\x80\\x1fN;bx\\xdcS\\xe2b\\xd5\\xc6\\x82s\\x01ec\\x172S\\x99_\\xa9\\x07\\xa3\\xf2\\x12\\xdf\\xe7\\xad\\xdc\\xd9\\xc6\\x06l\\xca\\x92\\xb9\\x884Y\\xc3\\xc0\\xc2\\xc4f\\xbb\\xc5\\xb0\\x8b\\xa2\\x91\\x8c\\xbc\\xbe\\xb3=\\xdeo\\x94\\xce\\xb1\\xc5D\\x1a\\xc9;\\x9e\\xda\\x11u\\xd0\"\\x83\\x1f\\xb5\\x9f\\xcd\\xb0@l\\xb4n}\\xafP\\x91\\x0bln\\xca\\x90\\xf4\\xa1\\x98Y\\xa8o\\x0b\\xd2\\x8df\\xa5\\xa3\\x02\\x89<\\xa2\\xbb\\x8cU>\\xf5\\x08\\xb1\\x8b\\xd3\\xa5\\xacq\\n\\x93\\xc7\\xed\\xa5F\\xd9\\xfd\\xd4\\x97L<\\x05\\x04;Q\\xaf,C\\xfa\\xf9\\xee\\xb5\\xca\\x01\\xd3\\x92F\\xf2I\\x9a\\xf9\\x0e\\xe0\\x9e\\xa7{n\\xd0\\r\\xee\\t\\xc9\\xa5\\xe1\\x8cxl\\xa3\\x1br\\x98\\x97:\\x02\\xfahJ\\x9b\\x97\\x97\\xfc\\xdc\\xcb}/\\xb0\\x80\\xab8\\x85\\x8aH\\xcaAVIb\\xc6\\xe6D\\x9d\\xa4:\\xba\\xc7\\x10\\xd6\\r\\xb3\\x9d\\x81,\\xf9\\x8e\\xfa\\xe6V\\x15\\xa1*\\xf5\\xdd\\xad+$n^\\x02\\xa5q\\x00*{\\x9d@\\xbc\\xd5\\xf5\\xef\\xb4X\\x18\\xb2)\\xa1\\x07\\xa7\\xff|c\\xb5\\xc6\\xbcM\\x86yl\\xff\\xf5jx\\xfa\\x0b\\xd2\\xd7\\x1c\\xb7b2k\\xca.T!-\\xdb\\xc6\\xb4\\x8c-8,\\x8cRW\\xc2\\x9d\\xf2\\x90]\\xec\\x90\\x91\\xaf\\ry\\x19\\xae\\x99\\xc8g\\xa1]\\xc6\\'\\xfcG\\x04\\xad3\\xe9\\x05\\x02I\"@\\xf1>\\x0cH{\\x06\\rl\\x16\\\\\\xf1\\x01%\\xe4h\\x95\\\\\\x7f\\x1e+\\xb2\\x12p\\x01\\x8a\\xb2\\x11V@\\xd6@\\\\\\x82_IA\\xffr\\x7f\\x82\\xacb\\xbaV\\xc5\\xce\\x94\\x10\\xf5\\x1d\\xb3-\\xc4X\\x18F\\xc8\\xff\\r.T\\x98\\xc2U\\xcc\\xea\\x82.\\xd7D/\\xcb\\xe2\\ngl\\xa3\\xaa\\xf5\\x1cBVa\\xe1\\xb1\\x1bp\\xc4\\xa3U\\xf6Z\\xcc7\\xdb\\x16\\xcek\\xffYc8\\xf5b\\x13\\xd0\\xad*t+h\\x03\\x12\\x85w:\\x8bF\\xef\\xb5\\xec\\xca\\xb5\\x9d\\xae@\\xaf\\xfa\\x1eMD\\xff\\x98\\xe5\\xa2\\xb1S\"\\x16%\\xa8\\x1b\\x95\\xc6\\xdd\\x12\\xb7\\xd3\\x86\\xf1\\x8eV\\xff\\xfc\\xfb\\xa8a\\t\\xeb\\xe4\\x19/\\xe6\\xc8\\x03\\xf6\\x903\\x17\\x15\\x91\\x07\\xbf\\xcd9)\\xa5E\\xf1Y\\xa0\\xa3\\xff]j\\xac\\x0b\\x9cLXo\\xbb\\xac{\\xd4J\\x93\\xab`\\x02s\\xa1W\\x8cf\\xc9b><\"\\xcc\\xc6\\xd2\\xbe\\xd0\\x96\\x98\\x12\\x07\\x8d<\\xea\\x984SL\\xf6\\x9b\\x1c\\r\\xab\\\\\\x1e\\x99\\xc0@\\xf5\\x92A\\x17\\x1f\\xbe\\xde]xpc\\xdc\\xbd$\\tdJ\\x94\\xc4\\xf0\\xef\\xdd\\x8d\\xce\\xbb\\xb8\\xb2d\\xa8P\\xcc\\xab\\xce\\xc6\\xa8&\\xbc7\\xee\\xd3(\\xb3L\\xd4\\xc0}\\xf7\\x1d\\xb7\\x80O\\x10q\\xe8z\\x01\\xa3[\\x95\\xfb\\x18%w0\\x81#\\x16\\xb1\\xc6\\xa2\\xa4[+\\x978\\xcc\\x97\\xc2\\xa3\\x01\\x02\\xe1\\xa3\\xa3\\x7f.n\\x8e,\\xbe\\x86`\\xa4\\xd0\\xa9w\\xd1(e\\xde\\xcf\\xa7m\\xd3\\xc3\\xc2\\x00\\xb7-\\x94i\\x13zkN\\xf3\\x1da\\xf0I\\xc5\\xe1\\x04!\\x88\\x08\\x8d\\x186\\xe8\\xb3\\xd1\\xdc\\xd1\\x8d-\\xb1h\\xba\\xe8\\xb0\\xb5\\xc1\\xa8\\xf9\\x14\\x08\\xc0\\\\\\xbc\\xdd\\xaf4\\x80\\xd6\\x0f\\xf4\\xfd/`\\xed\\x92l\\xe0=\\xb5\\x0c\\x1f\\xc4\\x94we>\\x9cT\\x90\\x04TW\\x8fhe\\xcd~\\xe8\\xe6QMD\\xda|\\xc9\\xbd\\xaa\\x0c\\xc8n\\xd4\\x14\\xf9&u\\x0cH\\xe8gd\\x07\\x07\\x01u>\\x03PW;\\x99\\xdbVu\\x00\\x88\\x94Ra\\x11\\xf0\\x8f\\xb7;\\x06\\xa8\\x8e\\xf1\\'\\x13n\\xaf\\x11\\xc1h\\xd9\\x03\\x88\\x05\\xdc=\\xc5M\\xc8\\x042\\x8a\\xb7\\x89\\x84M\\x03$0><\\xda7#\\xce\\xa6\\x13\\x89\\xd56n\\x0bUeB\\xd3\\x00g\\x15\\xe2&\\xaa\\xeb_>\\xdb\\xbb\\xb7\\x8bF\\xad\\x16\\xba\\xc5\\xc48\\xa8\\xe6\\x88S\\xf2/\\r\\xe5\\x04\\xdd\\r\\x94ig\\xe0R\\xbb\\xe6\\x87Ug\\xa4=]\\xc58\\xed\\x9e\\xb1r\\x89\\x8b\\xdfJ\\xf3\\xdc\\x9dKx\\xcc\\xf2\\xfd\\x18Y\\xc7\\x98\\xd3\\xde\\xeb\\xa7\\xdcm\\x83\\xa1t\\xfa\\x9a6a\\x15\\x84\\xd3\\x93\\xdf\\x16dI\\xc2H\\xe4+\\x19\\x9d\\xf8\\x01\\xae\\x15\\xa7\\x86\\xd5\\xe3\\xaci&\\xbf\\xa9j\\xea\\xfb\\x85t#i\\r\\xfb\\x99tqz\\xa2DlO\\xfd\\xfb\\x9c\\xd0\\xc5\\xc1\\x94G\\xa7\\x8b\\x0f\\xf3-\\x17\\x01\\xf2\\xaa\\x80W\\xd8\\x92.\\xe1\\x15\\x99\\xbd\\n\\xc6Y\\x92?\\xd3\\x9f\\xc9\\x030x\\xc6\\xb2\\xa3\\x95\\xb9\\xebL;\\xd1\\xd1\\x8a\\x11H\\x1d*\\x19]^^)6\\x81\\x1a$\\x8fj\\xf1\\x05\\xdf)\\x8c\\xa1\\t\\xa4\\xfe\\xdb\\xa3\\xef\\x81c\\xaa\\x04\\x9d\\xe4\\xae`\\xfdS\\xb2\\xaaJf\\x045v\\xbcV\\xc4ZLe\\xd8\\x10JG\\xae\\xe0\\xa0\\x0e\\x08=>=[\\x1cF\\xfd<\\x93\\x1f\\x88\\xc7\\x0b\\xc2\\x0f\\xb7]\\xa1bI<\\xe8ljv\\\\\\xe6\\xf53\\xd5\\x97Y\\x06o\\x17\\nI&\\xab\\\\\\xb8\\x8cx/h\\xfb\\xf7,\\x07\\xfab7O\\xdb!\\x9b6\\x0bIqk\\xbe\\x9f+\\x89\\xdc\\xad\\x06\\xa3\\xb8\\xa6^Q\\xc4\\'\\xb8k2\\xc1\\xfe[\\xf5\\x13\\xbd\\xf5)\\x12<\\xb4\\xfa/\\x88\\x16o\\x14w_.\\xb5 r\\x9dt\\xd1j{/X\\xcfG\\xdel\\xabf\\x19\\xa5\\xc2\\x88x\\xe7\\x05=#\\xa2\\x0c\\xd7\\xdcq\\x0fr\\x99C\\xa4D\\xb9{=.Y\\x0e\\x9f\\x82\\xa2\\xd8\\xbe\\x8b\\xa5 ,*\\x83Z\\xb1[\\xe9\\x06\\xaa^~\\xe0\\xef*\\t\\xcd\\xe0JF\"(\\x1c\\x88\\xf5F\\x8b\\x87sHYu\\x95\\x8c,\\xa9\"\\xcf\\x86}p\\x803\\xdf\\x1b3\\x8a\\xbd\\xc9\\xcdX\\xe3\\xa9\\x17Y%\\x138I^\\r\\x1e*\\x8a+\\xd5$\\xfa\\xe0\\x08\\xdf\\x06\\xbd\\xff\\xc3\\x9d\\xd4;M\\x92#^\\xfc\\xe6S\\x97*4\\xe35\\x03\\x98\\xc0\\x00\\xa66e>\\xa3\\x8d\\xa6Q\\xe2@\\x86O\\xa0y\\x8c\\xf4\\xf8\\xd9\\r\\xa6LF1\\x83\\x0fc\\x06\\x9d\\x1a\\':+\\xefc[^P\\xb9\\x18\\x83q\\x9f\\xbc z\\xe2;\\xf56\\xd8\\x0e\\x8a7!x\\x81\\xd4@/\\x18\\x0e4\\xe0\\x7f\\xe2\\xe0\\x02\\xb6r+}\\xe4\\xaa\\xd9+\\\\\\x7f\\xc7\\'\\xe0\\xf7\\x944\\xe6Y\\x9bO\\xef$\\xcd\\xf7=b\\xf1}\\x8f\\xf6\\xf8\\r\\xb6\\xb2Z\\xc77\\x18\\xd9\\xa6%\\xf1N[\"u\\x17\\xf4~\\xa6\\x8e\\xe7^>\\xfb\\x0e\\x94\\x1b\\xd5\\x95:\\xfb\\xee{\\x9d_T/\\xa9\\xf2\\xe2\\xd9\\xbb\\x04Z\\xb3w\\x9b\\xa6\\x99J\\x05f\\xad\\xa6\\x96xF\\xab\\xa5\\x15\\x89>\\x7f\\xa4\\xdf.\\xfa\\xfc|\\xeb\\x06oy\\x02n\\xe4\\x86V\\'\\xb6x\\x01&\\xcf\\x97\"\\x10\\x1d\\xb4z\\x17\\xb4\\xd9\\xbc\\xbe\\x1c3S\\xbb\\x15\\xd9\\xe2\\x82w_\\xceY\\x10?\\xed\\xb1\\xf8`l\\x01:\\xdd\\xaa\\x01|\\xaa\\xbe#+_[W52\\xfbz\\'\\x8f\\x92\\xd7;\\xfc#\\x07\\xb7W@u\\xc8\\xae\\xe0\\xb1\\x89\\xa80\\x96\\nz\\xe5\\x9b{JJX7\\x8b\\xdc\\x81$\\xc8\\xdbeEW\\x83\\\\dy\\xf3\\x1f\\xf7\\x19R27I\\x07F22c5\\xe9\\x91dV8\\x11\\xd4\\xcb\\xb3\\xa0\\xd3\\xcf\\xbc\\xd2a\\xc1d\\x9e\\x18.\\x85I\\xc1\\xd7\\x14\\xb6\\xeb\\x1cr\\xa0\\x11\\xd9\\xc0%M\\xe0\\xf9W\\x9b\\xe6x\\xfcR\\xb8[\\xb2Bv\\x8b\\xafv\\xc8*)\\x13\\xc8\\xab\\xdfD%\\xdd\\xb6lm\\x06e?\\x9b\\x9a\\xc5a\\xec\\xe9\\xaf\\xf0\\x1fo\\x908\\xe9 \\x15sZ\\xa7\\xc4h\\xb6\\xa6\\x93D\\xa3&B*\\r\\xd8p\\x9d\\x84*\\x18\\x82&\\xc9tK\\xddo$\\x8d\\xacg\\x15\\xc6\\xcfm,\\xf9\\xbfl\\xdb\\x80\\xcf\\xc0Q\\xea\\xa1\\xc8b\\xf0\\x18j\\xeb(A\\xf5\\x072C\\xfb\\xda$j\\xd4\\xbe0)\\x80;\\x07\\'\\xb3\\x90Z\\x18\\xdb\\xb6U./3Q|\\xa3\\xdf\\xcd\\xbe`\\xb2\\xd0%\\xbe\\xdaN\\xa6\\x92\\xfcH\\xe0\\x9c.D\\xeb\\x17\\xf2$#\\xacnV\\xc0\\xf6*\\x06a\\xf3\\xe8\\x95\\xfd\\xe6\\x1f\\xdb\\xfb\\x94W \\x96\\xe1\\'\\xec\\xfes\\xaf\\xc4Y\\xef\\x19\\xb2\\xa2\\x9a\\xaf\\x1c\\xa9J\\x06\\x1c\\xbfQ\\xedkV\\x16\\x17\\x9d]\\xbc\\xe3j\\xd2\\xe4\\'\\xca\\x93\\xf7\\x90Q\\xdfvY\\xf61\\x91-\\xaa\\xfa\\x84;`u\\x08h\\x05_S\\xed\\xee\"vE\\x06\\xdd\\xe7\\xfe\\xdcJ1\\x83\\xc5D\\xeb+\\x03\\xf1\"\\x90\\xf9&\\xee|\\xf7.\\xa6\\xeaU\\x91-\\xd5\"\\x16\\xdd\\xa6#o\\xf6\\xbd\\xed\\xcd\\x82o#\\xfe\\xd9\\x87xE\\x06\\xfc\\x06\\xf3\\x86K9\\xbbYS(h\\\\\\xbb:\\xc3\\x06\\xa82^+:\\x19S\\xcaC\\xf5\\x8bC\\xf3\\x15!\\xb30\\x1d\\x8f2\\xfbc\\x1b\\x16\\x92\\xb6=\\xadF\\xd4{S6\\xd0\\xc2\\x04\\x8b;hJsm\\xc1\\x7fI/D,E\\xe8\\xf6_\\x0b\\xe2\\xbf\\x86R;\\xca7\\xae\\xefR\\xd9\\xe6\\x00O\\x197\\x81\\xb5\\xb4\\xba\\xe2\\x01\\xab}\\xedz[U\\xaf\\xc6\\xdb\\x0e0\\xe2\\xce\\xcb\\x18\\xea\\xc5H \\x8b\\xd4\\xbd\\x80s\\xcf\\x1b\\xab\\xb8\\xe6?\\xb9\\x88E\\x17\\xa3\\xab\\xae{c!F\\xb5\\xdd\\xd2\\x11\\\\\\xd4s\\'i\\xa7\\xdc\\x91%5{\\x1b!\\xb9%\\xda\\x9d\\xa7s\\x96^\\xf3Db\\xc5\\xf2\\xf7j\\x8a\\xb7\\xbc\\xe7\\x89`\\x15\\xc4>\\x91\\\\\\xcce\\xb2Y\\xa9$\\xbe\\xcaPw\\x07\\xb2\\xf2G~\\xa7/\\xa5\\xaaD\\xe0\\x84v\\x96\\xafA\\x19%\\x8b\\xd6\\r+\\x9e\\x91\\xa2\\x9e\\xffXD\\xbb\\xddh\\xd0(+/M\\xbd\\x10\\xe9\\xd7K\\x08\\x9d\\x84\\x8e\\xc5V\\x1d\\x9c\\xecR\\x0e\\xd4\\xbaM\\xa7\\x19\\xe0\\x85\\xd96\\xa6\\xdd\\xe1\\x87\\x7f\\xff\\xf5ox [w\\xc9\\xfcK\\xfa\\xbd\\xc0\\xd4\\xf7$H\"KQit>z\\x07y\\xc0\\xe4\\xbc:\\x96\\xe6\\xa1\\xa9N\\xf5I\\xadGC\\x0fE1f\\xd9M7.\\x9f*Z\\xb0\\x9a\\xe1\\x05\\x02rs/g\\xb5pm%\\xb0\\xe6\\xfbz\\xf5{W||\\x97U\\xa87\\xc4\\x19\\x08\\xe4\\x7f\\x1f\\x8d6\\x18u\\xcf\\x9f\\xab\\xf7]\\x8b\\xbf\\xb6`G!\\xbeg\\xe8\\xb3[g\\xcc4\\xf4q\\xa9[&\\xc5[\\x8eE\\x92\\xa4\\x92|\\xc7\\xd4&\\x85\\xe7X\\xec\\x18\\xcd\\x96B\\x8c\\xa1\\ne\\x84\\xe5\\x8f\\x19\\x88\\xc5\\xa0_\\x154\\x1b(c\\xd7\\xee\\xd1\\xdc\\xe9\\x84\\x11d4,\\x95\\xa6\\x15\\xdf\\x9d$\\x7f\\x06\\xa9\\xc0\\x1ccS\\x12]:\\x7f\\x11\\x89`\\xff\\x00p\\x9a\\xffu\\xba\\xccw=\\xd6\\xf2\\x94)\\xc0\\x19\\xb40\\xa2\\xbc\\x81Bb\\x1a\\xc9V>I\\xcc\\x14\\xe3\\x1d\\x19\\xbe\\x8e\\xe2\\xb7\\xcd\\x9b-Y\\xf5Q\\xa61Kp\\x05\\xadrC*\\xd9\\x11\\xc6\\xa4\\xe4\\x81\\xd9\\x96\\xb8\\xe3*\\xf3\\x87\\xd9\\x86cV\\xcdw\\xc7{\\xa6\\x01\\xbb1\\x10\\xb1\\xbaQ\\xbb\\xae\\xc8\\x81\\xc9\\xc9\\xf0\\x8b\\x1fh\\xedO\\xb8c\\xa9\\xcbG<\\xe2\\xc4\\x89\\x81\\x8a\\xab\\'\\x88\\xae\\xdcz\\xa2d\\xfa\\x10\\x1ezw\\xfb\\xf4\\xa6\\xcf\\x1f\\xb8\\xfb\\xea\\x86Zjf%\\xa7K9\\xb2\\xef\\xf3\\xca\\xd1\\xa2\\xfdkjJ\\xb3^ \\x9d\\xcdr\\xb4c\\xec\\xbe\\xfc\\x8f\\xc1\\xf5?PK\\x03\\x04\\x14\\x00\\x00\\x00\\x08\\x00\\xcfL\\x97G\\x8e\\x12\\x8d\\xf0v\\x12\\x00\\x00hU\\x00\\x00\\r\\x00\\x00\\x00Test/test.fa2\\xad\\\\;z#\\xb9\\x11\\xceu\\x8a\\xde\\x8di\\x9e\\xd1\\xd27\\xddd\\xc0\\xcc\\x07\\xd0\\xf7m\\xe0\\xe6\\xd0\\xe2\\xf4\\xf21;#\\x07\\nt\\n\\x80\\xcc|\\x12\\xa3\\x1e\\x00\\xaa\\n@\\x93\\x1c;\\xd8\\x1d\\xb1\\x89\\x06\\n\\xf5\\xf8\\xeb\\x05\\xd0\\x9d\\xfc\\x177\\xfa\\xbe[tn\\xbcn\\xdc\\xd8\\xf9>\\xfc\\xcfm\\xf1\\xd3\\x84\\x7ft~\\x15\\x06\\xb8mxpr\\xbb\\xcf\\xbd_\\x87\\xffV\\xee\\xecv\\xbe\\xc7\\xe1\\xeep\\x19\\xc2\\xf7~\\xd5\\x85\\xe9z\\xb7\\x0b/\\x849\\x07\\xbf\\xf6kw\\xe8\\xdc>|\\xff5<\\xbd|\\xf5\\xc3u\\x03S\\xbd>\\xb9o\\xe1\\xaf/\\xd7M\\xe7\\x0e\\xe1\\xfd\\xbd\\xdb\\xb9\\x1d\\x0c\\x1d\\xdd\\x89\\x06\\xaex\\xe5\\x17\\xf7\\x03\\xe6\\x87O\\x07\\xbf\\xc6\\xb7\\x97OLiX\\x7f\\xcd\\xc3\\x80\\x88s\\xf8v\\x08\\x7f^74\\xb4\\x0b\\xdf\\xfa\\xde\\x0fv\\xa6\\xd7\\'z:\\xf95\\xae\\xe6&x\\xee\\xfb\\xf6\\xb2\\xb0(\\xcc\\x86\\x0b^\\x86\\xeb\\xc6\\xbe|\\xdd\\xe0\\x9e\\xc6\\xcb\\x04\\xef\\x9c\\xdd\\x19\\x06\\xbc\\x04z^h\\xc6w\\xe0\\xe4\\xe8\\x8e\\x81?\\xe1\\x9fw\\xe4\\x90\\x7fv;bZ^\\xed\\x0f`1.\\xeaN\\xb8\\xd7\\x05nM\\xf1\\xde\\x7f\\xf8\\xc1\\xbd\\xdd\\xb1\\x00\\x08\\xa8\\x039\\xb87\\x98\\xe2[\\xa0x\\xf4+\\x12\\xc06|\\x98\\x02\\'\\x83\\\\&\\x14?\\xac\\x08\\xdb\\x03q\\xf8\\x01w\\xa3\\x9e\\\\7\\xcc\\x1e\\xdc\\xe1\\xe9\\xf2\\x159|\\x19@\\xd2a\\xc4\\xe4WQx\\xcb\\'\\x1c\\xe3W0\\xf0;\\xbe\\xbf\\xeb\\xae\\x9b\\xcbWx\\xb4\\xf3_:|\\xe1\\x08\\x93\\xc2\\xd83n\\x10\\x99z\\x99\\x80\\'\\xa0v\\x0b\\x94B\\xd8\\xc7\\xc1\\xfd\\x05\\x1cxw\\x7f\\xe24 ;\\xd8u\\x1f\\xa7\\x0cs\\xed\\xc2L/\\xf8)h\\xdcs\\x10\\xd7\\n\\xc8zA\"\\x98$\\x149\\xaaI\\x98|\\x87| E\\xa49\\xc2\\x0c\\x81\\x0f\\xa7\\xeb\\x86Y8^7\\x91i;7&\\xb2\\xb7\\x97\\tT+\\xea\\xe09O\\x99X\\x0bR\\x80u\\x13[\\xd3\\x96\\xd1\\xca\\x06C4\\xf2\\xe1\\xe0\\xd7l\\x19nB\\x95}d\\x83b\\x87\\xc0\\xb2@\\xd4\\xaai\\xc9\\xef\\xee;\\xb0\\xe4\\r\\xf8IZs\\x00}u\\x13\\xac\\x97\\xcc\\xc2?\\x07\\xe2\\x0f\\xb8/\\\\\\xb0\\xe7i\\x82y\\xba\\xb70\\xd1\\x1e>\\x04^\\x81*\\x06k_\\xddV\\xc4\\xa1\\xb2\\x98\\x1c8\\xa2\\xd5\\x02\\xbd\\x1f\\xc4v\\xbf\"\\x8c\\x01#kN\\x8f\\x1a\\x87\\xd6\\x03X\\xd3\\xa3F\\x87%\\x8c\\x9e\\xa3\\x1d\\xa1\\xa6\\xe3\\xf3m\\xe4\\x17\\xf0\\x19\\x0c\\x18D\\x1d\\xc4s\\xf6\\x03riG\\xca\\x7f\\x00b\\x9eQ\\xf1\\xfb0\\xec\\x1c\\xf6\\x90$\\xb4\\x00\\xfb&\\x8eF\\xfeJ\\x8d\\x92x\\xe9W<\\xb3A\\xaf\\xad\\xff\\x12\\xbeZ\\x06\\xa9#H\\x05~\\xbf\\xc1KU\\r\\x85\\xa9\\x80i\\xc0<&\\xacG]zq\\xa3\\x81T\\x12\\xdf\\n_\\xfe@\\x1d\\x1a\\xe9\\x8d,;\\x9a\\x7fB\\xfa\\x96O\\x81\\xb4\\x9f0+r\\xe6\\xbaI\\x06\\x1c\\x19}/E\\xa8\\x89\\xa8\\x99\\x01T.\\xa0\\xf8(\\xab-\\x98\\xd1u#\\x96\\x82\\xed\\x0e\\tn\\x97FV\\x13I\\x8a\\xcc\\x0f\\x889\\x07\\xce\\x8c\\xfe\\x8bx\\xab\"\\xc90\\x1e\\xd8\\xe7\\x8e\\xb4\\xe8\\xc4f\\x08\\xb4k\\x15T|\\xc3\\xe9\\xc0\\x81\\x05U#\\xc3\\xb9n2I\\xe7\\xf0\\xe8\\x1b)\\x83_Y\\x96\\xa2bL\\xc4[\\x84Q\\x182\\xc4\\xad\\x80~\\x9e\\x91L\\x12\\xc7\\x0bH\\x1b\\x06\\xa3.Gc&\\x90\\x98\\x08Z\\xdd\\xf4\\xb9\\x87\\x7f\\x01\\x03A[\\xe0\\r\\t\\r\\x04\\xaf8\\x06X\\xa9\\xa0\\x12\\xe4\\x9e\\xf4\\xc9\\xf7\\xb7\\x17\\xd2\\x8b\\xb0\\xf3\\x82y\\xa3\\xf6\\xf4\\xf0\\xbd\\x05\\xac\\x8c\\x90\\xf0=\\xe1 \\xeb2L}\\xddDt\\xb9Dc\\x875|Od#\\xbd\\xee\\xcf\\xc8qdP\\xf6\\x17\\xee\\xb5\\xad\\x88\\xe4\\xa8\\xcf\\xa0F\\x82\\x07\\x0bvE \\xa6=\\x90\\xfaA\\x86\\xf1\\x02\\xff\\x08\\xd4\\x07\\xc5@\\xfd<\\xb3\\xb7\\x83\\x05\\x8a\\xe9K\\xc0\\xc3\\xd93\\xea\\x81G\\xda\"k\\xfc\\x8a\\x18\\xe8\\x8eI\\xf1\\xc7H\\x17\\xebO\\xa0\\xe5\\xd4i=\\xb9a\\xc2\\xca\\x08\\x80\\x14\"5\\xc6eK\\x0b\\xe3 \\xcc-\\xec\\x93\\xc2-0\\xbb\\x1eE\\x95\\xd10E^\\xdf\\x1dh\\xb7\\x80\\x89\\xe5\\x13+\\t\\xecx\\xf0=Nz\\x8e6\\xfb\\x0ep\\x07\\x8c@-\\nS\\x1d\\x89\\x9f8ZM<\\xb9\\x83r\\xfe\\x80\\x0bk\\xd8<\\xa8\\xd9\\x91\\x9f\\x04\\xea>P\\x0f{\\xd0\\x88F\\x04\\xa2\\xcd\\x84\\xe2\\x84\\x0f\\x84\\x92\\xd1\\x1dg\\xcc\\x00hg\\xed\\x04~\\xbc\\xcfGA1\\x04\\x8dR&$[S\\xf4y\\xca\\xe31\\xae\\x1bi\\x075\\x866\\x9c\\x8b\\x11\\x91\\r\\xf2*\\xf8\\xd8@\\xa3N\\x82\\x11O[\\xa7\\xed\\'\\x05Xw\\x93hP\\xb3\\x0cQ2\\x92\\xb3528\\xc0\\x86^\\x9f8(\\xda!\\x1fA\\xc8;\\xf8\\x0c\\xff\\x02T\\xc4I\\xd0]\\x1e0\\xd8\\xa0\\xed\\xd1N\\x87\\x9a\\n\\xc5h\\x11b\\x1d\\x84z@\\x94\\xdf@(\\x1c\\x11\\xa2\\xb0\\x7f\\xc0`V\\xc8\\xac\\xf65\\xbf_\\tg\\xdch\\xdfS\\xb1=\\xd2\\x841GEY\\x01\\xc3\\xfa\\xebFL\\x89\\x9e{\\x05,@\\x88\\x8c@\\x80\\x8cQ\\x99\\x0b-lU\\x90\\xe2Q\\x8a\\xe3\\xabJ\\xa0\\x04\\xc7\\x1a\\x01\\x8br\\x00\\x14\\xe6\\\\f\\xe25/Qv\\xf7\\xa5\\x1d8+\\xc91YC\\xd6\\xe1\\xca\\xb4\\xf3\\xafFC\\xf2\\x03Em\\xfc\\xe4\\xb1\\xc8\\x0cw\\x0b\\x86\\xfd\\xec~FH\\xa8\\x07-\\xc4\\xdf\\x8c\\x0f@\\x82\\x0c\\xaa\\x16\\x89\\x90\\xcf=\\xe3\\x82\\x85\\x94\\xf0\\xcf\\x1bb\\x8f\\x08)\\x8c\\x8b\\x97\\x96\\xc6s\\x99\\x04\\xec2hV\\xb7\\xac\\xd0M\\x1a&\\x00\\xebB\\x10O~\\xd6M\\x94wKDgC\\xd2N^n\\x0f\\xde#\\x7f\\x16t\\xe7\\x87\\x7f.]~\\x91T,[I\\x93\\xdb\\x89\\x9c\\xc2}\\x8f<\\xd9]\\x86\\xbfqZ\\xff5\\xd9i\\xca)0Z\\x07\\x8c\\xa0\\x8dR\\x1a\\x94\\xd0\\x03\\x07\\xab\\r&\\xf0H{\\xc3x7\\xfa~\\n\\x82\\xfb\\xdb~R\\x86\\xba\\x89\\x1d\\x99\\xaa\\x1e\\xbe\\x8f\\xd4F\\xaa\\xd4\\xba8e\\xc9\\x9dE\\xe2\\xe3\\xf2)\\xb3\\x94\\xad\\xfa\\xc0N\\x86\\xe4\\xd3e\\xf2v\\xe8\\x90FwPl\\x16|\\x81RA\\x05\\x1b\\xf09s\\xe7\\xecW2\\xd9\\x84g\\xe4\\xca9\\xaeS\\x88\\x9d\\xf6Z\\x96\\x1eb\\xdd\\xe2\\x9d\"Iw\\xfc\\xdc\\xb3{\\x00\\xac\\xc6!\\xb1\\x0c\\xe0\\xfb\\x14$3D\\xee`~\\xd83\\x18\\xce\\xacx\\x8d\\xe2.\\xd3\\x97\\x96 7E\\x920D\\x81\\rF\\x07\\x89YP\\xf6(n\\x9c\\x9b\\x84\\xb6\\xc4/\\xc2p\\xb6e\\xa0 \\x90\\x8b\\x19\\xe8;l\\xc6\\xcc\\x1c\\xb5)\\x18\\xa3;\\xaaRV\\nK\\xc9\\xcf\\x1e/\\x13\\x17I\\xdc\\xd1\\xc4R\\x077\\xda8\\x16\\x88:^72\\x98b\\xe5\\x95%\\x80\\x16\\xf8\\xc5\\xf5\\x94\\x83\\x92\\xa9U\\xe7\\xc6\\x874N\\xd9\\x01:\\xde\\x80\\x9f\\xfe\\x85$3W\\xcaSHg\\xc9\\xc2\\xf7\\xb4\\x9f\\xcc\\x155\"\\xdb\\x847\\nl\\xabZh\\x11\\xb8Y)\\xacA\\xb3\\xb6\\x02a\\x06h8&V4\\xf6\\xcd\\xf4\\x16\\xfe\\x054\\xbdVZ\\x0b\\x14\\x9f \\x00\\xb6\\xae\\n\\xb6\\x19\\xdf[\\x90\\x89|\\xa0\\xfdR\\x04<\\x15\\xc9\\x83\\xfb\\x8e\\xa9\\t<\\x94\\xb5\\xc4X@\\xa2\\x8d\\xa5\\xb8\\x0e\\x1dw\\xaa\\x87\\x1e\\x89\\x03\\xd1\\xea\\xefZN\\x84\\x88i\\xf1\\xe6\\xba\\xca\\xee\\xb2\\xe2d\\xeb\\xa1\\xfco\\xa8[=\\x7f\\x8fz\\x03\\xcfo\\x0eM\\x86\\x08\\xecD\\xbf\\xd6\\x18wc\\x8f`\\x04\\xd1\\x83\\xcc$\\xb464B\\xf7\\x81\\xaa&\\x80\\x9a\\xedF\"\\x7f\\xce\\xdbn\\xadQ\\xa8Y\\xb2g\\x98\\xa3f\\xbb\\xad\\x8a\\xdc][\\xda\\xc2Ky\\x91\\xc6\\xfc4\\xe7\\t\\xc3\\x05x\\xe1\\xd7&W~5\\xe7\\xc6Eb\\xce\\x12\\xeb\\x11\\xbd\\xde\\xb0\\x00\\x12\\x03\\x13\\x0ci\\xee\\x11(\\xac\\x9c\\x8a\\x92\\xca\\x08cby/\\x94fy\\xe2\\xb2\\x12\\n\\xef#E%\\t\\x15\\xbb\\xc15\\xaa\\x93cQ \\x95\\x04`\\x16r\\x15\\x00\\x1e\\xb26\\xdb\\xca\\xe6\\xfd\\xc06\\x04\\xd9)\\xf8\\x1bYr \\x8fD\\xdc\\x9f\\x98\\x15E\\xce\\xce\\x8ej\\x8a`\\xf5z;|nn\\xb0Q\\xeeC\\x90\\x07\\xd1\\xd4\\xc5$#a+\\xaaX~\\x0c8(\\xb2\\x05J%h\\x96XK\\x0e\\xff\\r\\xa6\\x9a\\\\\\x1a\\xb3H\\x8e?\\xf7EJKe\\x827\\xe0\\x8f\\xcd\\xb4D\\xbc\\x11\\x03\\xb0\\x18L\\'\\xa8\\xcfa\\x06\\xc9\\xe8\\xad\\xb4s9\\x0f\\x07\\xd1@\\xe0ucBi\\x8e\\xb6d\\xabC*\\xc3u\\xd3\\x08\\xb6\\xc3\\x1c=U\\xcb\\x0e\\xf2\\xa5e\\x9a0\\xaaZ\\x9a\\x97\\xd2\\xd1\\x0e\\x88K\\xf3\\xdf&\\x90\\x04\\xe0\\xc6\\x1a\\x11\\xb8\\xff\\xec\\x89M\\x7f\\x01\\xe0\\xb3sc\\x86\\x18[G\\xb0<\\x8d\\x85\\xc4\\n\\'\\xd3\\x1bn\\x94I\\x01f\\x93\\xb8\\xc4\\x99\\xf6\\x1b\\t\\xb8g9-B\\xb3&\\x86\\xe4\\xadDDk>\\x93\\xa0s\\x87\"\\x04[d\\x17\\x82\\x8c\\x87\\xa0\\xa6S\\xdb\\x92\\xf4s8\\xeb\\x8e\\x1c\\x17\\xcd\\xb6!\\x91.\\xc7\\xcd\\xd1\\x18\\xcd`m\\x9a\\x91#\\xf7\\x18 f\\xc9]\\x060\\x8eT\\xc3\\x89\\r\\xcb\\x8a\\x10u\\x94\\\\\\xd8\\xbd\\x0c~\\x13L#\\x17dT>\\x1f\\x1e\\xdfB\\xa2,\\xad\\x94\\xb4\\x07\\xc6\\xbc\\xc1\\x90\\xb2\\x92!\\x19g\\x11L\\x06\\xbd\\xec\\xbare\\x1ax\\xa0\\xa1\\xc2h\\xf3\\xce\\xaf\\xcd\\xd6\\x90\\xd0-%.\\xb5\\xda\\xd9 \\x82\\xaez7\\x98\\x13\\x92\\x84\\xc7\\x99\\xe4\\xb9\\x8eL\\xa4]\\xafW\\x0f\\x1e\\x1e\\xae/\\xd5[\\x1e\\x9a\\x17\\xc6\\x9c\\xd8Q\\xc7>\\x00kvf-z&\\n!j\\x917\\xbe\\x99\\xbb\\xbe\\'\\x82\\x1ciRm\\xc7\\x1cb\\x90#\\x88\\x16\\xf6\\xccP\\xa8 \\xcf\\xce\\x8c\\xdc3K\\xd8`w\\xa6\\xfa\\xa17\\x1eH\\xc1\\xf7.P\\xe1\\x9c\\xd2 \\x8b\\x82\\x15\\xb1\\x84\\xd0`\\x1dui\\x94\\x8d\\x93\\x18\\xc9D\\x06\\x8a|\\xaa\\xd4\\x1e4\\xb7\\xebf6\\x7f\\xe7\\x97\\xad\\x0f\\x8c\\xd19#\\x9d\\xca\\x0b-\\xc6\\x11?R\\xb0r\\xc0\\x10dt?R\\'\\xfc\\x07r\\xfaE\\x9f\\x87p\\xa6\\xdf\\x03_`\\x9f\\x13w\\x08\\x02\\x9d\\xdc\\xa8\\x92Tl\\xa7\\x9d)\\xf6\\xeer\\xc1\\xa7\\x16\\xdc!\\x85\\xf1\\xf4C.\\x1d\\xd9m\\xc2\\xab\\xcd\\x0ee\\xc9zU\\x1a^*!\\xda\\xe4P\\x85j\\nG\\x90\\x12\\xb4\\x08\\x8d\\x8d\\x1c\\xa5\\x955@\\xa1\\x06~}\\x13.\\xc5\\xc8\\x1d\\xfa\\xe2S\\xd9l\\xe3\\xe8\\xfc\\x16\\xae\\x16R1I\\xee\\x19\\xec\\xa1#kB=\\x8c\\x15\\x14\\\\\\xe6\\xe1>\\xf2Mx\\x8c\\xc6\\xa1\\xf5\\xfe\\xae$a\\xc8\\t-\\x98 V\\xe9Q\\x11\\xcf\\xa9\\x9fNn\\\\\\x98`\\xb3j\\xa8\\x02\\x08\\x87\\xd5Uw\\xf8\\xdc\\x93\\x95iWn\\xb6\\xa4\\x82\\xc7\\xff+F\\x9a\\xa0\\xe1\\x83\\xb0\\xcd\\x1d\\x89%\\xfe9\\xd2\\x80G!0h\\x80 \\r\\xab+gr\\x86\\xe8\\xab\\xa2B\\'\\xc4\\xdb\\x96x\\x07=\\xbd\\x08e2\\xefo\\xe3\\x88*,\\xab\\x13(i\\'\\x91\\x13\\xaay\\xd9,QV\\xcax\\xb9\\x88G\\x90\"\\x95dK\\x95\\'?TH\\xcc,\\xb7g\\x97\\xc8G|\\x83\\x1cW*\\xd4\\xf2\\xd6\\xb9/\\x13d`g(\\x9b\\x90\\xd5\\xbe\\x9aI\\xb6pW\\x0fS_\\xea\\x02\\x0e-Z\\xa4L\\xcb\\xf9\\xb39\\xba\\x81\\xa0\\xfb\\xd4\\xb9\\x05\\x9c\\x01\\xb0\\x04\\xbdvy\\xc2$\\x9c\\x9f{\\xd5%\\xae6\\x86Q\\xd9WT\\xc9\\xfa\\xa7\\x1f\\xee\\x0fC\\x14\\x93\\x8a\\xbd.\\xba\\x0e\\xa7\\x8eI3Z\\x04\\x85\\xc1q\\xa5\\n\\x08WN\\xde,\\x84\\xb9j(?\\x92\\x9dr\\n\\x06\\xf8\\xe0\\xfb\\xe8\\xb2\\xdaA\\x1e\\x91\\xff{\\xc7f\\x90\\x84Yo\\x1f\\xd5\\x13gS*\\x14\\x1d\\x83\\x99\\x94\\xda\\xeb\\xfe]\\xa1wQ\\xa9O\\rG\\to3\\xba:\\xaa\\xff\\xbbm\\xd1\\x88\\xa9\\xcb\\xab\\xbe^v\\xeb\\n\\x0b\\x0b5\\x81\\xf5\\xf9\\x18\\x97\\x1be\\x01\\xa2\\xda\\x8d\\xc8U&jL\\xa4\\xfeJ\\xf8t\\xe6\\x12bR\\xbcNi\\xe6\\x9b8\\x9c\\x80\\x89N\\xfc\\xdcs\\x80\\x9cc\\x11\\xb5q_k\\xea\\xc1h\\xa1Msh\\xf2{\\xd4\\x85z\\xcd\\x9d]-\\xed\\x82Ye:\\x90.\\x1d+\\x9d[\\xa7l\\x85\\x82U\\xe0\\xc99\\x99#\\xb8i\\xa6\\x9e\\x92\\x8b?\\xa4\\xe7\\xd1\\xfe\\xef4\\xdb\\x1ah\\xf4tH@O\\xf1\\xc89\\x08\\xbb\\x08\\xf2\\xa8h\\x89\\xc0\\x1263\\xf7l\\x13Ev^\\xd7W?\\xd8\\x93\\x06\\xd1J\\x90\\x9b\"7\\xdc\\x05\\xca\\xbeA\\xe5\\x86#p\\x03Z\\r\\x8c\\x10g\\x8a\\xb3\\xa8d@\\xda$\\xcd*D:\\x05\\x80+\\xc9\\x86vF\\x01\\x98+n\\x19\\x1e\\xde\\xc51Y\\x17g\\x17\\x8b\\xaaO%\\x84\\x18\\x90\\xc3\\xf7I\\xad\\x17& _0\\xa3\\xc4q)\\xd3\\x97\\x89\\x01\\xa3\\xaa\\xa15#)\\xc2\\xd2v\\xe3\\x16yOkRW\\x01Y\\xca\\xb50i;s\\x19\\xdf\\xba^*\\xf0=\\x97d3\\x04\\'6Z\\xf5D\\xa6\\xcd\\x9d\"C\\x95\\xa7x>\\x05y`\\x82d\\xf4\\xf8iM\\x89\\x00(\\x9ci\\x80\\x95KIT\\xa5\\x83V\\xc9\\x89\\x05\\xf9\\x1e\\xb3_\\x1a\\xf9\\xe8V\\xd8\\xebwl+\\x95\\xad\\xb5E*\\xe3\\xc5\\xd6SQv\\xac+\\xe6=g\\t\\xda%\\xce4\\xb7\\xaa:\\xb4\\x8fF\\xd7\\xe2\\xcb\\xecj\\xabq\\x0b\\xc5\\x91\\x12\\xfd\\x15\\xda?^\\x13Q\\xb3\\xd7\\xba\\x9f\\xecOe\\xcf\\xe5\\xdeu\\x8a\\xb8\\xbb\\xde\\xbb\\xce\\x96\\x95\\xce\\xb2\\x81\\x90\\x8bc\\xb7\\xf2\\xc0\\xbai\\r\\xb08o\\xf6\\xeb\\xeei\\xdb$\\x8b\\xa1 iP\\xe5\\r\\xd0\\x0e\\x92]\\xd1`\\xe0\\xe7\\xc9Am).R\\xd5>\\xd8\\x82)d\\xc5\\xc0Ld\\xc4\\xcd\\x98\\'w\\xf22\\xf7\\xb0\\xa7\\x8a7L0\\xd6\\xe3\\xe8k\\x8b\\xcc\\x8f\\xd4\\xe5c\\xb4\\x1fx\\x07\\x03F\\xc6}\\xfa\\xa1\\x88\\xab\\xcb\\x82\";\\x02z=\\xf9\\r\\x13v\\xe8\\xba\\xa2\\xad5\\xd4\\x9d\\xbc\\xac!T{@5\\xc7\\xce!\\xc6-\\x99\\xd3\\xbcE\\x17\\xbd\\xcc\\xf41m\\xe3J\\x00\\x1e\\xfc\\x9b.\\xe8\\xbdp\\xf8\\xed\\xa6\\x13I\\x952\\xab\\x99@$\\xa3\\x12N\\x98\\xcb\\xd3\\xd4_\\x9c\\xf0\\x9d4e\\x99\\x8c+\\'\\x0bj\\xdb {). \\x15>O\\xb9<\\xae.<~8\\xc9Z\\xf6,p(\\x0f$\\x03\\x92\\xf8~+E\\x87-8j\\xfb\\xc2\\xae\\xb3\\x87\\xb9nj\\xd5\\xa8\\xa8W\\xac\\x17\\xd2\\x9f\\xa8\\xeaB\\xc7\\xc5\\x85\\x99\\xbaO\\xb7\\xa8\\x18\\x89\\xe8\\xe9\\x16\\xd9\\xc6\\x8dbf+\\xfe\\xbf\\x85W\\xbayk2\\x84\\xfa{\\x96\\x93\\x113\\xfc0W\\x879\\xf8\\xf5|\\xbd\\x1a\\t\\xadq\\x11\\x99\\xf0\\xe2\\xde\\xcd\\xc9\\xf7\\xe5\\x93\\xc8m\\xe0+\\x15\\x03=F\\x899\\x1f=W\\xd1i\\xb8l\\x00\\x99\\xe4\\xdb\\x81lY)[\\x93\\x96\\xd5\\xfcy\\xe9\\xa8\\xb1\\xa2vP\\xd5(\\x96\\x85\\xbePV\\xe2\\x00\\x1f\"\\x00\\xa5\\xc2\\xc2\\xed+\\xd8\\xc2\\x1a\\x8ezI\\xbe\\xe4c$bxV\\x88\\xc8m76\\x01\\xf5\\xdfp\\x1b\\x01\\xef\\xaf]7\\x02#\\xa0 \\xfa\\x81\\x9f\\xa3o\\xa8\\xaa\\x8b<+B\\xf8T\\xf5\\xd3\\xb1.,\\x0f\\x9aY\\x97\\xcc\\x11\\x8c\\xa9\\r\\xb3\\xb7Sx\\xc66]\\x99\\xaeH\\x15\\xe5\\xe1\\x02\\xfc\\x13\\xb1\\xf7T+r\\xe1\\xecGy)\\xacRqH\\xd9\\x8a\\xe0\\xb16)\\xe4\\xaa\\xc9X._\\xeb\\x10T\\x94.\\xfc\\x1a\\xafJ\\xfc\\x15\\xdf\\x99k\\x0b\\x08\\xaf\\xcf\\xac\\x9f\\xc3\\x87F\\xf3\\xe0W\\tM=\\\\\\x12~\\xe5H\\xba\\t\\xc6\\x92~7\\xfa\\x1bK\\x1c\\x12\\xf1\\x9d\\xd4\\xca\\x84\\x19\\xb1}\\xee{j\\xcf0\\x84|\\xee\\xeb\\xdaX\\xbd\\x99\\x05\\xfe\\x86\\x13\\xd6\\xf1\\x12-\"\\x87\"\\xf74E\\xb8\\x02\\x0f\\x9b\\xc4$\\xf8\\x00\\xa3\\xf6H]p~C\\xe1\\xabd\\x93\\x87\\xb5q\\xb66W+\\xb9o\\xf9\\xd2\\xd0\\xa1\\xbd;\\xd1\\x1cP\\xf7\\xcd\\x8a\\xa5]\\xfd*\\xb1{\\xd5\\xd7\\x0f\\xee\\xe0\\xa6\\x89L\\x0b6f\\x95j\\x15\\x90rs\\x8b\\xe3mz$\\xd0;\\xdep\\x92\\\\\\x9c\\x9dkYp\\xafv\\xad\\x86\\x1cJ\\xfbJ\\x8dN_\\x08U\\xdcNr\\xb4\\xf0\\xe9\\xae\\xd6\\xe5t\\xec\\xdf\\xe7\\x8a\\xaf\\x894\\x95\\xac\\xcc\\xdc\\xf6)\\xda\\x11\\xda{\\xb5\\xde\\xc4\\xad_\\xd5\\xc1\\x10t\\x11\\xc5s\\xd8\\x16P\\x19[\\xafF\\x83\\xde\\xe8zb\\xee=?C\\xf8\\x08\\x1c\\xf8\\xc3\\x1dP(_`\\xd8\\x19\\xc1\\xfa\\x80\\t\\xfd 4\\x87:z\\xe7\\xd4\\x17\\xad\\xca\\x8c\\xd2\\xa1\\xb1\\xa9~\\xea:c<\\xe5\\xa9\\xbb\\x14\\xf5\\xa0\\x14\\x8d\\xfb\\x1b\\xb4\\xfd*\\xf7\\x05\\xf5\\xac\\xf98\\xba\\x04\\xc1\\x1ca\\xe74\\xdc\\xaf\\xf3\\xbb\\xc0\\xcc\\xba\\xef\\x10/~\\xee\\xf3U\\x08\\xb4\\xa5z\\xead\\x11\\xf0D\\t\\x01F\\xab\\x08H;\\x92\\xee\\x1cl\\xb6\\xd1\\xf2v\\xbfw\\xfe\\xa2\\xd3L@\\xbc,\\x04Z\\\\M\\x95)\\xf4=\\xeb\\xa8\\xfc\\xd9\\xa8\\xa4)\\xfdfL\\x014\\xe3[\\xb3\\x04U9\\xa7\\xbd\\x85\\xa8\\r\\xf5\\xb1\\x85\\xe1\\xe2=\\x85\\xbe\\xba\\x95\\xe3\\xe8$\\x9a\\xff\\x127\\x194\\xe5?\\x7f\\xff\\x87\\xb2\\xfb\\x9c\\xd5\\xd3z\\x16\\x94\\xa3f\\x1d\\xd8\\xe7t\\x8b&*\\x96eQ\\r?\\xd6\\xfbGK\\x87\\xb1\\xf1\\x14;\\xd4h@i\\xf8\\xfa^\\xbd\\xd4\\xca\\xdd\\'J\\xe3\\xec\\x89%\\x8f\\xb7h\\xe9\\x17)\\xaa\\xb7\\xef,n\"\\r\\x98{>\\xc3\\xdf\\x13\\x86\\xac\\xf5\\xe3\\x90\\xc8\\xb5\\xeaU\\xca\\xc4\\xf5R\\xefh\\xfe\\x19\\xfc4\\x9a\\xc6\\xbfu\\xd1:\\x9a\\x82)\\xaaH\\xe8b\\xaa]s\\xe3\\rZ\"\\xce\\xdeq\\xb7#7\\x81\\x85?A\\xe1G8v\\xe7\\x993\\xce1\\xd9*NE0%&8\\xa8\\x06\\xc0t\\x9dA\\x81\\x19\\xc7\\xe0\\xf6\\x96\\xa6<\\xdb\\xca\\xcagA\\x90\\xb4jm\\xdb3\\x8f\\\\\\x99\\xab]D\\xd4G\\x1f+W\\x8fp\\xa3\\xa9\\x06\\x87\\xfa\\x8c\\xea$\\xef\\x0f\\x9b\\xf0F{\\xf0;E\\xab%\\xfa\\x01\\x12e\\x14\\xa63q\\xf0\\xe3!\\x97\\xa1\\xe51\\xe4\\x8a\\xa9\\x00\\xe0v\\xee\\'wF\\xfd`k\\x197@]\\x82\\xa6\\xfd\\xb5\\x98[A\\xa9y[\\x0bl\\xeeX\\nq\\xbc~uw\\xf6\\\\\\xf3\\xd3}\\xc7K\\x1a\\x87\\xedfM<\\xb5\\x1d\\xf6\\x9e\\xfa\\x11| \\x06\\x0e`SD\\x17\\xa4~\\xe2\\x15\\x1a\\x8f\\xd3\\xc2\\x11\\nk\\xb1]\\xb3H\\x02NZZ]\\xbd%V\\x9d2\\x8f\\x9c\\xbb~4\\x7f\\xa6\\xb0Z0N\\xf7\\x84\\x19\\xcbk\\xbf\\xaf\\xf30&\\x08\\xea\\xff\\xef\\x93\\xcft\\x19Mr\\x8fS\\xafA\\xd1\\x89{\\x14\\xa36\\xaa\\xc5W\\x82\\xef\\x98\\x05.*V\\xf5\\x8d\\xcb\\xaf\\xa4\\xab\\xd8\\xf7\\xd3\\xfd\\x8a\\\\\\xe4\\x16\\x94\\xc3\\x98\\x13N\\x82?\\xe1\\xd3<\\'w\\xd7a\\xe2zA\\xc7\\x9c\\x9eH1\\xfd\\x89u\\xb8W\\'\\x85S\\x01\\x81\\xcaG\\xb1K\\xf7\\x03\\x82\\xf8\\xe8}\\x95\\xd3Gr\\xfe\\x8a\\xd5)j\\xdd\\xdf*xW\\xcf(\\x17w:\\xe76U\\x9d\\xe1&\\xad~\\xa8\\x13\\x9c\\x1b\\xc3sQi\\xebn\\xc8\\xdc;\\xe6gVZ\\xb7K>\\xe4\\xef,\\xe4\\x03\\xdf\\xf6\\xdaz<\\xb42Of\\xc5\\xc9\\xfe\\xe2\\xf9\\xe7\\xe5\\xd3\\xddY\\xb6<\\x8ej\\x9a\\x07e1\\xa6z[!{\\x12}\\xf1j\\xfe\\xb7`\\x1a\\xfd\\x80\\xb9\\xbe3\\xccn\\xdbq\\xfe\\xa3\\x91W`\\xa8g/\\xa3\\xde\\x95k\\xd3\\xd0\\xcc\\x96w\\xfe\\xbd\\x1e&\\xf2\\x11\\xa8z<\\nT\\x89\\x06\\xad\\x08o\\xc7B)\\x81\\x15\\xaeu\\x02\\xa9+\\x83\\x87\\x8a+R\\x04L\\x82\\xaf)Lo\\xddwkT?b\\r!\\x15\\x87\\xe8\\xdc.\\xc7\\xf4\\x85\\t5x\\xa4u\\xe6\\xa1\\x83|\\xb7#\\x9fJ+Y\\xdds\\xfe\\x9f\\xd0\\xf8\\x8e\\xb6!R\\x92\\xbaC\\xf0\\x99~\\xe8\\xafq\\xc2\\xe4)\\xb7j\\xe9\\x95\\xbc\\x82\\xb2\\xf9\\xc2\\x8d\\xd6\\x93\\xb4\"\\xfcCB>\\xf7JpRL`V\\xba:<\\x1bn4\\xf1\\x82\\xf6\"\\xf2\\xed2e.~\\tP\\xa4\\xd0m\\xe1\\xfd\\xcbm\\xe96\\x1e\\x00\\x1f\\nZ\\x08\\xa5\\xfaK\\x12\\xa0*k\\xc2\\x16\\x8c\\x88N\\x980X\\xe0\\x10\\xfd\\x03\\xc5\\x9c\\xaaDo\\x9f@\\x9f;\\x1bR\\xe00\\xd1\\x0e T\\xef;\\xd7f\\x84\\xf0\\xb1r|\\x06\\xbfh\\x9cZL\\x1bL\\xb3Tk\\x8f&^t\\xa3\\xfc\\x11\\xaf\\x92\\xbf\\xa8\\x03\\x8c\\n\\xcf@\\x99*\\xe6\\xfejg\\xb3t~\\xf1\\x9aO\\r9c\\xbe\\x143\\xaed\\n\\xb5\\xe0\\xb2<\\t\\x84\\xfcM\\xa6\\x93\\x1a\\x0e\\xa8\\xad\\x7fR#\\xaf\\xb3\\xe8\\xe5\\xd5\\xa52\\xcf\\xedn\\x88F\\x1a~\\x1bN+\\x90\\x01\\xa5_W\\xa2d\\xa9\\xfb\\x8d\\xa4\"\\xd15\\xf6S\\x91\\xfb\\x9aU.7\\x8f\\xfd\\xa0\\xabo\\xd9\\xa2\\xea\\xac\\x12ay\\xee\\xd5R!B&\\xb5\\x89\\x01\\x8f!\\xb2\\x14x\\x89\\xcb\\xff\\x05PK\\x03\\x04\\x14\\x00\\x00\\x00\\x08\\x00\\xcfL\\x97GA\\x1d\\xd8\\xae\\xcb\\x11\\x00\\x00\\x86R\\x00\\x00\\r\\x00\\x00\\x00Test/test.fa3\\xad\\\\Mv\\xe38\\x0e\\xde\\xfb\\x14\\xea\\x0b\\xf8\\x8c\\x93\\xbcH\\xd6\\xc2\\xb3\\xef]\\xbd\\x97E\\xcb\\xf1KJ\\xed\\xd85\\xd55\\x8b,\\xea\\x14\\xa4\\xbd\\x9b\\x93\\x0c\\xf1C\\x12 AY\\xf5\\xb3\\xa9Jb\\t\\x04A\\xe0\\xc3/\\xed\\xce\\xfe\\xc9M\\xbe\\xef\\xdc\\xbes\\xcf\\xb7\\xbd\\x9b:wpS\\xf8a\\x0e?\\x84\\xff\\xce\\xee\\xf8\\xfd\\xad\\xf3c\\xe7w\\xee\\xe2\\x8e\\xe1I\\xdf\\xbb\\xc9\\x9d\\xae\\x03>\\xe8w\\xf0\\xee\\xc1\\xef\\xe0\\xf3\\xc9\\x0f~\\xf4\\xa3;\\xc1G\\'?\\xde\\xf6\\xf0\\xe1\\xa7\\r<\\xd8\\xf9G\\xf7\\x15^\\xec\\xdc)\\xfc\\xf7\\x06d\\xdd\\x11~\\x9d`\\x8dn\\xbb\\t\\xc4\\xc7\\x8e\\x1e\\x85\\x15.\\xe1\\xed!\\xfcx\\xdb\\x13)\\xe4\\xa1\\xf7C\\xa7\\xa9\\xc5\\x07x\\xa5\\xd9\\x8fH\\xce\\xcd\\xf0)\\xfcQ\\xaf}\\xe0g\\xb7@\\x0eW\\xbc\\x0e\\x81\\xf9\\xe2\\xbd\\xdb\\x1e\\x89M\\xd7\\x19WP\\x14\\x82\\x90\\x02\\xe7g\\xfc7\\xb0\\x0e\\xff\\xc2\\xe3\\xe1\\xc9@`r\\xdf\\x02\\x91 \\x94\\x07\\xd8_\\xa0yq\\x17 \\xfe\\x186\\xf3\\x08\\xeb\\x9cP\\xc0\\xd7\\x19\\x98&\\xf1\\xecI|\\xee\\xd9\\x0f\\xee\\xd5M%%waJ\\xe90\\x02\\xff\\x1f\\xf0\\xac\\xa2\\xfb\\xd9\\x8fp\\x18D\\xf2\\xe4\\xcex\\x80\\xdb\\xcd\\xf5\\x056\\x14\\xfe\\x16~\\x98\\xfc\\x03<\\xf9i\\x93\\x7f\\x86\\xed\\xb9\\xf3\\xf5\\x05\\xe5\\x0b\\x82\\x80-\\xba\\x19\\x0fu\\xbb\\x81\\x8f\\xc3\\x9fN\\xee\\x0b\\x9ci\\xe0\\xe6\\xb6\\xbf\\xbe\\x00KG\\xff\\xd4\\xe1\\x93\\xefp\\xe4\\xb0\\x0c\\xc8\\xf0:\\xc3\\xaeA\\x16\\xe1\\xac\\x9e\\xdc\\xd7\\xf0\\xdb\\x04\\xcb\\x81\\xa0\\'w\\x0c\\x8f>\\x06\\x89__\\xc2\\x0e\\x86\\xf0\\xd9\\t^\\t\\xef\\x85_\\x1f\\xdd\\x9c\\x15\\x01\\xde@\\x89\\xc3\\xc1\\x1eq[\\x03mkr\\xef\\x1d\\x08\\x1b\\x1e\\xbb\\xc2\\xb6v$\\xba\\xc8QX\"l\\xed|\\xdbk\\t\\xd3F\\xba$\\x8a\\xf480\\x16N\\xcf?\\xc5\\xd5\\x92\\x10i\\xa7\\x99k\\xd8\\xe9\\tt\\xe5\\x05x\\x01\\xd5)\\x1eX\\xb5-w\\xc0sA-\\xfa\\xec\\x0e \\'ak\\xee\\x1b\\xea\\xde\\xbb\\xfb\\x07d\\xde\\xb9\\xd7 \\x85o\\xb8\\xc5`l\\xa0\\x13s4\\'\\xffp}a\\xcd\\x07\\x86|\\x9f\\xde\\xee\\xb2\\xe2\\x10\\x0b#\\xacH\\xff\\xfb\\x9dR\\x180\\x04 \\x90)\\xfbQ\\x18r\\x1f~\\x1caaV\\x92\\xd9\\xef\\xb2\\xe6\\x81\\x90\\x90\\xe8\\xecGI\\x94l\\xd1\\x9d\\xa3\\xd8A\\x9e\\x87(\\x000\\xdf\\x07\\xd0\\x7f\\xdf\\x83]\\x04\\x0e\\x81y\\x10\\xe9\\xaeC\\xe3\\x0b\\x82\\x80c\\xb9\\xf8\\x01er\\x8c\\xc6\\x02\"\\x03^X\\xb3z\\xdf\\xe3\\x8bQ\\xae\\x07\\xad$\\n\\x93\\x88\\x18[}\\xe4\\xea\\xe0\\x9f\\xc2G\\xdb\\xb02\\x1de\\x10\\xe6\\xab\\x9b\\xe4\\t<\\xfb!\\x9f\\x0cP\\x03\\t\\x81\\xa4\\x88%\\xdf#f>\\xc2\\xf1\\xb3J\\x04\\xca\\xff\\xfb\\xd7\\xbfQu\\x01\\xb4v\\xc8\\xd1\\x07\\xfc\\xddM\\xbc\\x8f\\x80u\\xee5P|#1E#cE\\xa2\\xbft,\\xb2-\\x89\\nN\\xb4^\\x1e\\x0f\\x04>\\x87\\x03`;P,)0\\x00UA(\\x80\\xdf\\xafCZ\\x8aq\\xcb\\x0f\\t)\\xb7\\xd6Z\\nWfB\\x15@\\xc4\\xb3\\xfb\\xcb?\\t*d\\x95\\xf9\\xd0\\xb7|p\\r\\xfe\\x95\\x9e\\x82\\xac\\x0f\\x80\\xf6tB\\x1d\\xa8\\x08292g\\x85<\\x93l\\xc2?\\xef\\xc4\\x14\\x88`\\x08\\xa7=\\x02\\x7f\\xe9\\x10z`\\x0fMd\\x84\\x13\\x9d\\x15\\x12!&\\xcc\\xa8\\x90\\x03\\xea\\xc9\\xc1?IK\\' \\x04\\n\\xbe\\xaf!\\xeeS\\xd6#\\xe4i\\x15q\\xf6-@\\x8f]\\x19\\x82O\\xf8\\x81\\xb4@\\x00X\\xe4#\\x1e\\x80<IPg\\x14{\\x05\\x1a\\xc8d\\xd8\\xeecXs\\xc7g#V\\x05\\xae\\xb5\\xa6\\xdd\\xf6\\xc9\\xff2G\\x178\\x06\\xb1\\xf3@\\xeb\\x04\\x04\\x92\\x19?\\xe0\\x9e\\x8e\\xe8E\\xe1P\\xe8L\\'\\xf7J?\\xc43\\xd0\\xc6\\xbf\\xedj\\xd0\\x82M\\x81La\\xbd\\xf7hY\\xe0g\\xdcA\\x89?j\\xc59\\xacu6\\xf4)\\x9b\\xca}#H\\xe1N<\\xb6h\\xe5\\xe8\\xebz\\xf4s3,\\xf5\\xe0NVX\\xf3%8\\x8c\\x83\\xb4zr.\\xb8G!\\xc8h\\xa5t\\x9e\\x014G<\\x88@e\\x07>3|B\\x9fk\\xe23\\x9f`\\xd4\\xfa\\xb1#\\xb8\\xf5=m\\xfeH\\xb8\\xecN\\x85Y\\x1eJ\\xb5\\xef\\x84\\xd6\\x93\\xcf\\xfe@\\xb4\\x98\\xa2\\x9c\\xdbjN\\xbc\\xd7\\xe1\\x87\\xff\\xc0c\\x7f\\x87\\x87\\x15\\xe4\\x0b\\xca\\x86\\xc4\\xfd\\xa8\\xcd\\x9d\\x8d\\x9a\\xc9\\xd4\\xf2m\\x841\\x1c\\x10\\x04\\x1d;\\x90\\'\\xf0\\xbd\\x05,:\\xfe2\\x81RC\\r\\x11nqW\\x18\\xd7zvK\\xdd\\xafB\\x8f\\x0c\\xe3\\x83\\xfb\\xc7\\x9dT\\xd4\\x99\\xe2+`\\x13\\xbc\\x06\\x86k\\x03\\xc0NXx\\xc0\\xdf\\x9e\"\\xa5\\xc0\\xff\\x1b\\xca\\xe4\\xc0\\xe6[kU\\x0c\\xaf\\xc3\\xa3Gw\\x81s\\t\\x8c\\xfc\\x81\\x8eo\\xb8\\x82J\"fD\\x0c\\x03\\x83\\xc0\\x18\\xc6\\xd8m\\x1d2\\xc4X\\x8d\\x96m)\\xab&[\\x86\\xe3ZmfP8\\xf2\\xd2;\\xd8<&\\x01\\x88\\xa3;\\x16I\\xdc\\x11\\x05\\x0ew\\xbc\\x0b\\xea/\\xfe\\xad\\x8c\\x1c%\\x0fR#\\xa2n\\x07R\\xdb\\xfc\\x90\\x16D\\\\\\'\\xd2\\x07-/\\x03}<\\xb8\\x04wB\\x8bmJ\\x15\\xcb\\xf4\\xfe\\x1a\\x9b\\x92\\xa1\\x9eb\\xc1\\n\\xe6\\x9a\\x1a\\x8b\\x1a\\n\\n\\xb1#eLx\"\\x0c|)\\x8eaw\\xe8\\xf65\\xe2\\x90\\xa2\\xfb\\xdd\"\\x8e\\x8cAuF\\x02\\xe2\\x89\\xc1\\xba\\x0c\\xa3Z@\\xb2\"=j\\x9a\\xae\\x9b5\\xce\\xc0\\x8e\\x07H\\x8exs\\x94\\xa0\\xc1\\xcaQ\\x83\\xd9\\xf2Z\\xf1\\x80\\x11\\xa2\\xe6dH\\x07\\tEV\\x014\\x1a\\tE\\xf0;3m\\xf9\\xe2\\xde9\\xff\\x86\\xa8\\x11I\\\\\\x84\\xcc\\x88U\\xf2\\xd3r\\x0f\\tV(\\xd8\\x8d\\x19\\t\\x85\\xc0\\xcb\\x01nTa8\\x05\\xbdO\\xb6G\\x05jqO\\xf9\\xad*\\x1d\\x8c?\\xc3\\x03$\\xd5./?%\\x83G\\x19p\\xec\\x01\\x94\\xf8x\\xdc?\\x9c\\x8c\\x1ah\\x80)\\x1do\\xfb\\x92\\x00\\x03\\xa3{\\xf8\\x1b\\x08.IZA\\xb4\\xdb[\\x15\\x00\\x10e\\x15a\\xbd\\xc4O\\'\\xa2\\x8cq1\\x18\\x14\\x83\\xe1\\x11HR\\x90\\x04\\xca\\xa28\\x86]\\x15\\xda\\xb5\\xb5\\x16\\xc6\\xd4\\xe5\\x0c\\xbc\\xc7 \\x05\\xd3\\x17\\xa3\\xc0!\\x82\\xc0.\\x87\\x85\\xffu\\x7f\\xe3\\xefQ\\xf3\\xd18N\\x00\\xf5\\x8a\\x16\\xe3\\x11\\xd8\\x84{/\\xddk\\x8a\\x81\\x007\\xa8\\xf2\\xe3\\xa6t4_\\xc3\\x7fo!h8A\\xecv\\xdb\\xcbx\\x88tJ\\xa5\\xd3\\xbe\\xb7\\xc1\\xa8\\xcelU\\xceok\\xc8sC?jMS\\x169b\\xcd\\xe31\\xe59\\xc1~\\x07\\x90\\xb0J\\xc1\\x0b\\xd7$\\x98K\\x95\\xb1*\\xb9\\xfb\\xb4)\\x01\\xaf\\xc62\\xd4\\xce\\xa6\\x0f\\x01\\x0cY\\xc2\\xc6J\\t-\\xe7R+t\\xda\\x17Z\\xc1R\\x0cH5\\x84O\\r/0D\\x19\\xc2K\\x02f\\xdd\\x99r\\x807`\\xa6\\x9dv\\xa6\\xd7\\x91\\x07\\xb4L\\x8aqg\\x99\\x0c\\x90\\x84\\x92\\xf0\\xbf\\x04\\xee\\xdf\\x8cj\\xd9vC\\x8e\\x96?\\xff\\x0c%\\x038\\xf8w\\x92w\\xda\\xfc\\xea\\x85f\\xbf[\\\\\\xed\\xe8G\\xa1=\\xd1n\\xfc \\xf4\\xb0\\xb4h\\xfe\\\\E=w\\x1e\\xceF\\x88I\\xfa\\xf77N\\x8a\\xea\\xa7\\x97\\xf7\\xc5\\nEHo\\xa4\\x9fe s\\x88\\x90(]x2!\\x0c\\x0b\\x0eY\\x91\\x9a\\x84\\xeb\\xa2\\xe6\\'z\\xb52`\\xad\\x98\\x8b\\xdcJ\\xde\\xd8\\xc8~\\x13)\\xe1\\xc1\\x9ec\\x86TV`D\\xd8\\xbct\\xd8\\xf7U\\xad6^aB\"\\xdb[\\x01\\x90\\xf9\\x84\\x92B\\xaecA\\xaa\\xa2\\x7fH\\x00\\xa74\\xbd\\xa2\\x89\\xd9y\\xd2D-\\x16\\xaau\\x89d:\\x1dD,>\\xb0\\xff \\xc1\\xb3\\x17J\\xc9p\\x0e\\t9W\\x85\\x9c\\xdf\\x9d\\xee\\xf9\\x96dzf\\x08Z\\x18v\\xb9;\\xab\\xa2\\\\\\x8a\\xbb\\xc0\\xe4\\x0e\\x8e(\\x9dW\\xc7\\xbd\\x02\"_E\\xfa\\x89K?\\xd6jyI\\xc4 F\\xc7\\x9f<\\xe2\\xa2 #\\xad\\x137\\xc0=\\x90\\xdeH(\\xa3\\x08)\\x9a\\xbb\\xed\\xcb\\xe4&\\xba\\xd2\\x84\\xc898 I\\xf0\\xa1~\\x01\\xe7A\\x08\\xda\\x0eF\\x81\\xa9\\xdb\\xbe\\nI\\xa33\\x06\\x0ed7\\xc0\\xef\\x80\\x11\\xf4J\\xa8#\\xb7\\xbd\\x1d\\xbd\\x86\\x85\\xfa\\xdb>Yk\\xde\\\\\\xa6\\x05\\xa2\\xcd\\xde4\\x96*\\xdd|\\x9f;\\x92\\xb9\\x9b\\xac\\x85\\x0b\\xf7\\x9c8-d\\x8c\\xaa1\\xd1>\\xab\\x04>\\xd6\\xedJ)\\xd7R\\xa47\\xd8\\x0eD\\xf4\\x8d*\\x80k\\\\\\xa8\\x04\\xc6!\\xb9\\xb9^\\xe30\\x99j\\xb9*\\xd2\\xb6\\xc2\\xfd\\x15\\xe1\\x15\\xf1\\x14__\\x19gA\\xc4\\xdbwz\\xa7\\xe5\\x96j\\x1c\\xac[u\\xc8\\xa8\\xe3\\xf6`\\x8cK\\xfch\\xd4\\xfc\\t`FQ\\xdd\\x07;\\x11\\r\\xbd\\xa2\\xdcx\\xdb[\\r\\x98-\\xbd\\x8b[\\xb6\\xa0\\x9a %\\x07\\xc8\\x05|T)\\x00\\xd9j\\xbd/\\x95\\x00\\xef\\xdc\\xeb\\xdd\\x00\\xaf\\x821\\xae\\x8bc \\x97\\xe3\\xfc#\\xe0\\x80\\x8e\\xfbH\\x8feY7\\xe5\\x07hnT\\xeb\\x80<\\xc5\\x80\\x95T\\x81\\x0c\\xe8\\xfb\\x9e\\xb3\\xa5:\\xe5\\x88!_\\x16-\\x851\\x89\\xed\\xc5JA\\xb9jD\\xcb_(\\xe6\\x98\\x1d\\x19\\xc3\\xa8\\xfdh\\xa3\"\\xfem\\xa6-\\xeb6g\\x1d%\\xe3VYW\\'7KSi;b\\x87\\xfd\\xd51\\xc5\\x12\\n\\xe3d\"\\xbb\\xddT\\xa4\\xb7\\xcd\\xba@\\x81\\x0b\\x94\\xa4PM\\x8f\\x1e(\\x95\\x1e\\xa5!E\\xfe\\x00\\xce&\\xa66\\xb2\\x01!\\x1b\\xab\\xba\\x99o&\\xca\\xdd\\x0ff\\xca\\xd5\\xc1\\xa4\\xce>\\xcaG\\'l\\x16pQ\\x1d\\xe5\\x0b \\xb1pnI\\x01\\x17[$\\xf0\\x08G\\x87\\x9c\\x1cO\\xf0oj\\xe1\\xc5$\\x1e\\xad\\x0e\\xf3\\xd9\\xf5\\xb54ko\\xd8\\xb7\\xa8\\xd0\\xa3\\x92x\\x92\\xb2a#Vf&\\xe3/L\\xcf\\xc32`;\\x10\\xbb\\xc0\\x02GU\\x14h\\xf64\\x88\\x0f?r\\xe4\\x85\\xaf@xP\\x94\\xf5\\xe8\\x84lp\\xb3\\x85z\\xce3\\x10\\x10\\x9f\\xfdI\\x8b\\x86\\x1d\\xee4\\x82\\xe0B?\\xdc8]\\t^Q\\xd3\\x0b\\xcc\\x12\\xa6|\\'z\\xa6@\\x8dS\\xc4\\x8a\\xc8v\\x93\\xdb\\xc7M\\x14\\x93\\x15\\xe6\\xca\\xc5\\xc3\\xa216\\x97N\\xb5\\xd8\\x9e5\\xa0 \\xec\\xb3F1\\x0b\\xb98\\x9a\\xf8 \\xc8q\\xef\\xa8\\x04\\x0f\\xec\\xf49\\x01\\xe2\\xea\\xd9\\x98\\xc2\\xd7\\x1e\\xf7\\xfc\\x0e\\xad=0\\xa0\\x8cS\\x07.\\xe2\\x89\\x92\\xa6\\xc4\\x9el\\xc3K&\\xafK\\xa2\\xc7\\xebK\\xc6\\xae\\xc5\\x1eh\\x8dBu\\xa2U\\xd6\\xc3\\xaa*X\\xc3I\\xf4\\xd1\\tP-\\x95 \\x12^#\\xbc\\xfe\\x0cpar\\xd5\\xb0\\x11*H\\x0b\\xe308\\xa5\\x08F\\xd8[\\x13\\x0c\\x0b\\x93T\\x9f\\xa2\\xc6f\\x8f\\x89\\xeb\\x9aZK\\xaf\\xea IV\\x11R/\\xb4\\xe8\\xd2\\xe6\\x06h\\xdd\\xa051J\\xa5B\\xd7?\\x03\\xd5\\xbf\\xfc\\xd0\\x9aj\\xa8RD\\tTm\\'\\x9f\\x05RO\\xc6\\xec)\\xe3\\x91\\x19\\'R\\xa7\\x83\\x8b\\xfc\\xdc\\xed\\xed\\x01\\xa6\\xd6\\xb2\\x87e\\x8a\\x18\\xf2\\x88\\xaf\\xec\\xaa\\xcejg\\xd4E\\x93\\x1e\\xe2.\\x9ei}\"\\x9a;O\\x0b\\xc5D#u\\x95\\r\\x92]\\xe7G\\xb3\\xdcp\\xa7QEZ\\xa7\\xa8\\xdd\\xf6\\xaa\\xd9\\xc2CEU\\x0e[I\\x11\\xc8\"\\x99\\xb9,1\\xe4\\x86\\xbe\\xe9\\x18\\xf1x\\x08u\\x1d\\x95\\xd2\\xdd\\x01\\x05g\\xd6+R7\\xdf\\xef42\\xd6J4\\xd0VX\\x9c\\xb9<\\xf0\\xa3u\\xfb\\xdc\\xf8\\xecbHO\\xaaE\\xd9B\\xfc\\xbd\\xbf\\xed\\xe5\\x86\\x1a\\x02\\xca~\\xbf1\\xbfX\\xf8\\xc5\\x84\\x17\\xd2q\\xdf\\xf2\\xac\\x07\\xea\\x93\\x01C\\xa9\\x02\\x9cs\\xab \\xdf\\x99\\xf4KiN-9*H\\xacty\\x0b\\xb6\\xaaJ#\\xbd{\\xf3Ob\\xc6\\xc4\\x1am\\xba\\xebO\\x7fo\\xd7\\xa0P,\\xd5$\\xcf\\xeb`|\\xe5G\\x11\\xf6C\\x8a\\x95]m\\x06\\x8a5\\xf9\\x94\\xa8\\xf3\\x19,\\x88\\x96tE\\xac\\x1c\\x8d\\xeaA04;K\\xc1h\\xde\\x9a*HW\\xbd5R\\xcd4\\x8e\\xc0M\\xc4\\x1e\\xc7\\\\\\x9f\\xe9\\xc4\\xf6e\\xb2\\x19SPf\\xc7\\xe8\\x15\\x03A:\\xa6\\x0cz\\xc2[*0lf\\\\q0\\x99\\'\\xd8\\xf2\\x98\\xce\\xec\\x9ft\\xf1\\x05\\x87Dfc\\xa8\\xa2\\x1e\\xd7La\\x06\\xd5\\xebDF\\r8\\x9e\\xaa\\x11\\xa9\\x88;E\\x8a\\xd0\\n\\xe3\\xbf\\\\h\\x1b\\x95\\xd3\\xe1i\\xae\\xa0\\x01#\\xd50y\\xfe\\x0cH`\\xa0\\x9e\\xab%;7\\xe5\\x88JB\\x175\\x82\\xa2\\x83\\x99xlHH\\x9e\\xcbS\\xb1\\x05\\x12\\xebh\\xa8*\\x90\\xde\\'\\xaa\\x856-\\x88\\x029\\xa4\\xcf/p\\xcc\\xcd\\xda\\x1d\\x8c1a\\x1da\\x97\\xdd\\xd2\\xd6(\\xaf\\xf8\\xbe\\xd5\\x1f\\xb6\\xa2\\xa7;\\x85\\x80:n\\x92\\xc0\\xcb@\\xab\\x80!3\\xc4\\xfc(\\xf4)\\xc6\\x85\\xcc\\x11\\n\\xd1VX\\x0br\\xb6\\x1c\\x8c\\xf9%\\x18\\xa2\\x9c`\\xe5jF\\xe9\\xe8&-\\xb5\\xaf\\xba\\xc5z\\xb7\\x01\\xd5\\xcch\\xb2\\xa6S\\x968\\xe8D\\x7f\\xa2>\\xf0\\x11\\xd8a\\x05\\x02\\xec\\x00\\x19\\xeb\\xf5\\xe3#\\xc9yp\\x94QD\\x16SU\\xa8\\x01j_@\\xef\\xd5\\xa0\\x87\\xd6P\\x0e\\x0b\\x94\\xb4\\xa8\\xc3G\\x17\\x06.\\xa0\\xfbe<\\x90\\xc61\\x13X\\xe8\\xe9B\\x00.\\xc4\\xce8K\\x94\\xeae\\t\\xa9\\xf1\\xb0pqw\\x11\\xf9\\'\\x9d78\\xf5R\\xe1b1\\xad\\xc8\\xc5m\\x1f\\xce\\xd7\\x1b\\xfcn9\\xca\\xa5r\\xc4\\xba\\x83\\xb6r\\xe3\\xdb\\xbe\\xf4\\xf3\\xa90D\\xf80\\x80\\x9e%}\\xb2#\\x05:\\xba\\xbab\\xdb\\x8c\\t2 \\x15\\xfd\\xcc\\x81\\xf8b\\x97\\xc9h\\xca\\'T\\xc0\\xff*\\xae\\x81\\xdd\\xd4\\xf5eo$<\\x97\\x8c7\\xbb\\x9f\\xc8\\xccY\\x17\\xca\\x84\\xb0\\r\\x10\\xa5\\xe7\\x18\\xf0%U\\x8f\\xb5Q\\x91\\xb0\\xfe)\\x9a\\xcd\\xe4\\xde\\x85K\\xb8\\xed\\xab\\xd1P\\x9e\\xd1\\xde\\x88\\x97\\xf1\\xf1F\\x92\\xde\\xae\\x9c\\xb8}3\\xf2\\xa6\\x92\\x1d1\\x10\\x1d\\xaa\\x8d\\xbcv\\xe9\\xfbg\\xc2h\\xdd\\x9c\\x1c\"?\\x08=\\xbdA\\xc0\\x1d\\x88\\x80Y\\x03\\xa2m5\\xaa\\x1c+*\\xb4\\xa8\\x9d\\x96<\\x91\\xa9G\\xf7\\r\\xc0g\\xce\\xf0\\xb1\\xdd\\xe4\\xdd\\xdc\\xf8}`\\xf9\\x87x@\\xc1\\xe6L\\xf1\\'*%\\xc0b\\xae\\'\\xcd~\\xcc`\\xac\\xfd\\xf6\\xb2\\xfb\\xe5\\xeb_G?\\xda\\xd5\\x0f##\\xa7\\x8d\\x00\\xa3h\\x9b\\xb1\\xc6\\x8d\\x0c\\xc7pm\\x90\\x8fe\\x1d\\x8e\"\\x85%k\\x00\\xc2\\x92\\xcdmOU\\xc3\\x8f\\x0c\\x07\\x80\\xe7\\xf8[\\x84\\x7f\\r>\\xa0t\\xe9]\\xf8\\x07\\xc5\\xf5D\\x90J\\xb1~\\xec\\xa2L\\xd0S\\xc2\\xcd|\\xb8\\xbf\\x015\\xa4\\xcd\\xf23\\xa6z\\xad\\x9b\\x9a\\n\\xb6BsS).\\x8d\\x93\\xed\\xd1\\x8dv\\xb5\\xc09\\x90\\x0e\\x04\\x07T\\xa8\\\\\\xd8\\xce\\xe0\\x98\\'\\xb2T\\x84K2M\\xdc\\xc4dS\\xd7\\x04\\xce\\xa0,\\xb8<\\xaa\\x1b\\x06y\\xf9\\x9e\\xd1\\xd2\\x00\\x8287m\\xc1\\xa8\\xf3w\\xd3\\x92z\\xf4\\xa9*;\\xf8\\xd1 \\x93\\x12C\\x15\\x8c\\xdb\\x8c\\xe6*\\x83p@\\x0bQ\\x92{6\\x8e\\xf8w\\xec\\x04N#i\\x8a1T\\xad\\xa3\\xbdb\\'\\xd1\\x83E\\x1d)B\\xd8\\rQ\\xd6\\xc1\\xcd\\xc1\\xcb\\xfb\\x1c\\x07\\xd8\\n\\xee\"\\xa9\\xd1%\\xe2\\x0b|\\xb4x\\x97\\x02<\\x1d\\xfb\\x89\\xe7k4\\xcb\\x1c\\xeb\\x10WF`m\\xd6\\xfe\\xb8h~\\x00\\x8f\\xedNY\\xba_\\xfd\\x18\\xd5\\x16\\xabb9,\\xbfw\\x91\\xb48\\xaduw\\x8c\\xd4\\x90\\x97\\x9a\\xf6^\\x1a\\xfe\\xcb\\xab\\xaa\\xc9\\xf9\\x88\\x02\\xad\\x02\\xa6\\nwu\\x11\\x91\\xafOmx\\xcf\\xebn\\x13\\xe4.E\\xfcS\\xf6\\x14\\xfb\\x86\\xf5\\xfd\\xfcM\\x05\\xfb\\xe6\\x94\\n7\\x9aWGT\\xb2\\xd4\\x132\\xe1\\xad\\x85>g@w{`^\\xde\\x84\\xcd\\xa7PW\\xbdEzT\\xdf\\xf4j\\xf2\\xb8\\xba\\xe7P\\xbe\\t\"P\\x80L.,U\\x98\\xe4g\\x08\\xe8\\xdb\\xc6\\xd8CC\\x10\\xaf\\xa4\\x1d\\xa9\\x1b\\xec\\x1f \\xc8E3t\\'\\xdc\\xd6\\x13(\\xc3\\x05\\x9d\\xc0\\x91\\xb2\\xefF\\x1c\\xbb\\xfdI3A\\xe7Y\\xb6*,\\xa5>\\x94X\\x10\\x0c\\xdc]R\\xf7S\\xdf\\x8bS\\xd4\\x17gEA\\x9a\\xb9\\xde|}\\xf9\\x81\\xa6\\xab\\x98{\\x17N|1#L\\x0e\\xb9\\x00\\xc7\\x04\\xde\\x8d\\xa7\\xd7vdQAZ\\x97x(*Y\\x8a\\xd2\\x9b\\x87\\xb8\\x8a\\xa4\\xecS\\xc9\\x80#\\xa2]\\x95k%\\xa0k\\xdd\\xeb$\\xd4k+\\x92\\xd2\\x89_\\xc8\\xbc\\xb8]\\x13\\xcd\\xfb\\x19\\xfe\\xa3\\xed\\xc4\\x90\\x94\\xac\\xa7\\x9c\\xee\\x93\\x00M\\x89>\\xde\\\\\\x7f#\\xa10U\\xa3\\xfc\\x9e\\x05\\xa1\\xee9\\x88z\\x82\\x0e\\x00n\\xa2\\x9f$\\xfal@2\\xf6G\\xea\\x86\\x08\\x16y\\x90 \\x8c\\xb0\\xb1\\x06\\xbb\\x19\\xeb\\x87v\\x11@\\xba.\\xbei\\xad;-\\x89\\x08\\xde{\\xa532T\\xa6\\x80WME|uA\\x12\\xb8y\\xb1P6%Q\\x01\\x96\\x10T\\r^\\xd2\\xf6\\xee\\xb6j\\xc9\\x83Q\\xfa)\\x0b\\x13\\r\\x13\\xb8\\xdf\\xe9M\\x8eC4}\\xb7\\xe6d\\xb0\\xb8e\\x96\\x1a\\xdb\\xb35\\xd2@\\xc7^\\x84\\t\\x8dHTH\\xf1\\xfb[\\xba\\xd3\\x86\\x14\\xc4\\x95JR\\xb5\\xd5\\x98\\xe8\\xe6\\x1f\\xbd\\xd4%w\\xc7\\xc2\\xd5s\\xa0\\xce\\xb8C\\x93+\\x11\\xb4X\\x8d\\xfeS\\x97\\x0b\\x80KC+<\\xe1\\x89\\xe2,\\xa3\\xdc\\x0f8I\\xb6\\x17\\xa4P\\xd77\\xf3\\x84\\t\\x9c\\x00\\x192\\x84\\xec\\xc5\\x1d\\xc4\\xfbP\\\\\\x04y\\xf9\\xcbE\\xee\\x85\\x9b\\xf0\\xa8\\xac\\x19\\xfb\\x85A\\x10wl\\xdf$m\\xd4\\xcd\\xd2nu\\x1d\\xac_;\\x82\\xb6d\\x841\\xf3\\xb8\\xd0\\xea\\xe4+8hx/\\t\\x9b\\xd5\\x80\\x0c\\xc8K\\xd5\\xe4IBhk^=\\x05m\\x02m\\xef\\xdfzi\\x94k\\xca\\x91\\xa1rR\\xac8\\x86\\x1d\\x7f{M}\\'\\xd0P\\xcb{\\xf0gQ\\xf7\\xe3/\\xd0^\\x03\\x8eDl\\x84\\xc3c\\xf1\\xcd\\xb66Y\\xd5F\\xb7o\\x98\\xc7g.\\xc9B\\xf9\\x96\"\\xcf\\xb4A=\\xf1\\xaa\\xd9\\x96\\xa3\\x0e\\xcd\\x892v\\xf0<\\xc0\\x8f\\xe7b\\x94x`[\\xc8lj\\x96[S\\xaft\\xbf\\xfe\\xab\\xae\\x81\\xd0\\xc9\\xe7\\x8b~\\x10\\x9e\\x85\\x1f\\xff\\x93\\x86\\x97D\\x08V-\\xdcX\\x86\\xa5\\xf5#/um\\xde,\\x866\\xec\\xbfZ\\x97\\x14\\xf8c#(o\\xbc@1Y\\x99\\xeaZ\\xdf;\\x94R\\xfev\\x04\\xd7\\xf8\\xda\\xa1\\xb2\\xe0}?!\\xa8\\xd3[Q\\x98\\xc7g\\xac\"~Q\\x9a\\xb0\\xc7\\xee\\x13\\x14\\xeb\\x1b=\\xb5c\\x97\\x85\\x06\\x91\\x12\\xd4\\xad\\xda\\x9c\\xaf\\xa2C\\x83\\xa6L\\x8a\\xa2\\x95?\\x9e\\xe3\\x0cP\\x91\\xbc\\xad\\xcc&SH\\xf3\\x8d\\xea\\x91b\\xc3\\xbfe\\x92M\\xc7\\xd0D\\x1c7I\\xdd\\x04\\xf8\\x08\\'\\x87w\\xf8]:gi<\\xf9(\\x9e\\xdd\\x81\\x01B\\\\\\xe2\\xd8.\\x7fg\\x88\\x95\\xcd\\xc6d\\x99r\\x11\\xb4\\t\\xec\\x96[_\\xcdT\\xc9#\\x1d\\xffo\\x1bA\\xcb\\x91\\xc0r\\xed\\xb6\\xfe\\n\\x10\\xd22\\x0b\\xe2\\x9a\\x97\\x94\\x16\\x86\\x00U\\xce%\\'\\xfai\\xe2\\x004\\xb0\\xd9\\xcc\\xda\\xe4\\x06hy\\x9b3\\x1b\\xab\\xe1\\x88b\\x9c\\xe2\\xd5|W\\xb2#\\x88\\xa7\\xcc\\xeb{Kw\\xefW\\xf8\\xee\\xe5A\\xb0\\xb5 \\x84\\x06W\\xc0\\x8b\\xec-\\xd6\\xa3\\\\\\xdaA\\xd1\\xc6bd3\\xc8[Z\\xdbM\\xa1b\\x040\\xaf\\xa4\\xc5\\xb0\\x1f\\x87\\xe3\\xd4\\xcd\\xbb$x\\xcaJ\\xd1\\xab\\x13\\xd7S\\x82-\\x84\\xb0\\xde\\xe4\\x8b\\xa7\\x0640\\x15.\\x9a\\xd6C&|\\xfb\\xcc\\xc9a\\x95\\xefo2B@\\x96\\x127\\xab\\x873H\\r\\xe2\\xbd\\'Sxp\\xe8\\x8c\\x03\\x0f\\xb0QU\\xaf\\\\j\\x11.V\\xe9\\xa3\\xae\\xc0^\\x0ch\\xacg[\\xab/\\xa0h\\x8cP\\xb6g!\\xca|\\x8e\\xbe\\xb7\\x8c\\x03\"\\x96\\x80Q9\\x009\\xa5\\x94*\\xe2\\x9a\\x97\\x17\\xa1\\xd8\\xc1\\x7f&Sf\\xa9\\x9f\\xb1_\\xf3A\\xcc0:t\\x7f\\xd09\\x95#g\\xa9\\xd3%,7\\xb7b\\xfd\\xa0+H\\xda\\x9al\\x01\\xca\\xf06\\xcd}\\xd6\\x8few\\xd5P\\x81_\\x82\\xe8\\xff\\x03PK\\x01\\x02\\x1f\\x00\\n\\x00\\x00\\x00\\x00\\x00\\x12\\x86\\xabP\\x00\\x00\\x00\\x00\\x00\\x00\\x00\\x00\\x00\\x00\\x00\\x00\\x05\\x00$\\x00\\x00\\x00\\x00\\x00\\x00\\x00\\x10\\x00\\x00\\x00\\x00\\x00\\x00\\x00Test/\\n\\x00 \\x00\\x00\\x00\\x00\\x00\\x01\\x00\\x18\\x00\\x0e\\xf8\\x90L\\x8e\\'\\xd6\\x01\\xd0$GH\\xf8]\\xd7\\x01\\x9e\\xafFH\\xf8]\\xd7\\x01PK\\x01\\x02\\x1f\\x00\\x14\\x00\\x00\\x00\\x08\\x00\\xcfL\\x97G\\xc5L\\xbfj\\xcc\\x0e\\x00\\x00E3\\x00\\x00\\x0c\\x00$\\x00\\x00\\x00\\x00\\x00\\x00\\x00 \\x00\\x00\\x00#\\x00\\x00\\x00Test/test.en\\n\\x00 \\x00\\x00\\x00\\x00\\x00\\x01\\x00\\x18\\x00\\x00\\xc3^XH=\\xd1\\x01\\x9e\\xafFH\\xf8]\\xd7\\x01\\x9e\\xafFH\\xf8]\\xd7\\x01PK\\x01\\x02\\x1f\\x00\\x14\\x00\\x00\\x00\\x08\\x00\\xcfL\\x97GlI^md\\x11\\x00\\x00,Q\\x00\\x00\\r\\x00$\\x00\\x00\\x00\\x00\\x00\\x00\\x00 \\x00\\x00\\x00\\x19\\x0f\\x00\\x00Test/test.fa0\\n\\x00 \\x00\\x00\\x00\\x00\\x00\\x01\\x00\\x18\\x00\\x00\\xc3^XH=\\xd1\\x01\\xaf\\xd6FH\\xf8]\\xd7\\x01\\xaf\\xd6FH\\xf8]\\xd7\\x01PK\\x01\\x02\\x1f\\x00\\x14\\x00\\x00\\x00\\x08\\x00\\xcfL\\x97G\\xc5\\xb6\\x00@\\xa8\\x11\\x00\\x00\\x18S\\x00\\x00\\r\\x00$\\x00\\x00\\x00\\x00\\x00\\x00\\x00 \\x00\\x00\\x00\\xa8 \\x00\\x00Test/test.fa1\\n\\x00 \\x00\\x00\\x00\\x00\\x00\\x01\\x00\\x18\\x00\\x00\\xc3^XH=\\xd1\\x01\\xbf\\xfdFH\\xf8]\\xd7\\x01\\xbf\\xfdFH\\xf8]\\xd7\\x01PK\\x01\\x02\\x1f\\x00\\x14\\x00\\x00\\x00\\x08\\x00\\xcfL\\x97G\\x8e\\x12\\x8d\\xf0v\\x12\\x00\\x00hU\\x00\\x00\\r\\x00$\\x00\\x00\\x00\\x00\\x00\\x00\\x00 \\x00\\x00\\x00{2\\x00\\x00Test/test.fa2\\n\\x00 \\x00\\x00\\x00\\x00\\x00\\x01\\x00\\x18\\x00\\x00\\xc3^XH=\\xd1\\x01\\xbf\\xfdFH\\xf8]\\xd7\\x01\\xbf\\xfdFH\\xf8]\\xd7\\x01PK\\x01\\x02\\x1f\\x00\\x14\\x00\\x00\\x00\\x08\\x00\\xcfL\\x97GA\\x1d\\xd8\\xae\\xcb\\x11\\x00\\x00\\x86R\\x00\\x00\\r\\x00$\\x00\\x00\\x00\\x00\\x00\\x00\\x00 \\x00\\x00\\x00\\x1cE\\x00\\x00Test/test.fa3\\n\\x00 \\x00\\x00\\x00\\x00\\x00\\x01\\x00\\x18\\x00\\x00\\xc3^XH=\\xd1\\x01\\xd0$GH\\xf8]\\xd7\\x01\\xd0$GH\\xf8]\\xd7\\x01PK\\x05\\x06\\x00\\x00\\x00\\x00\\x06\\x00\\x06\\x001\\x02\\x00\\x00\\x12W\\x00\\x00\\x00\\x00'}"
      ]
     },
     "execution_count": 14,
     "metadata": {
      "tags": []
     },
     "output_type": "execute_result"
    }
   ],
   "source": [
    "from google.colab import files\n",
    "files.upload()"
   ]
  },
  {
   "cell_type": "code",
   "execution_count": null,
   "metadata": {
    "id": "Wfiq44myR59R"
   },
   "outputs": [],
   "source": [
    "!unzip -q T*.zip  -d /content/gdrive/MyDrive/AFEC"
   ]
  },
  {
   "cell_type": "markdown",
   "metadata": {
    "id": "bCAB8C7Ozfrs"
   },
   "source": [
    "### Reading data:"
   ]
  },
  {
   "cell_type": "code",
   "execution_count": 2,
   "metadata": {
    "id": "pKCrzDj-qW-u"
   },
   "outputs": [],
   "source": [
    "class Data:\n",
    "    def __init__(self, file_name):\n",
    "        self.english_sentence = []\n",
    "        self.persian_sentence = []\n",
    "        self.english_sentence_valid = []\n",
    "        self.persian_sentence_valid = []\n",
    "        self.test = []\n",
    "        self.test_fa2 = []\n",
    "        self.test_fa1 = []\n",
    "        self.test_fa0 = []\n",
    "        self.test_fa3 = []\n",
    "        self.max_len = 0\n",
    "        self.vocabtoindex_en  = {\"<SOS>\":0,\"<padd>\":1,\"<EOS>\":2, \"<UKN>\" : 3}\n",
    "        self.vocabtocount_en  = {}\n",
    "        self.indextovocab_en  = {0:\"<SOS>\",1:\"<padd>\",2:\"<EOS>\", 3: \"<UKN>\"}\n",
    "        self.vocabtocount_fa  = {}\n",
    "        self.vocabtoindex_fa  = {\"<SOS>\":0,\"<padd>\":1,\"<EOS>\":2, \"<UKN>\" : 3}\n",
    "        self.indextovocab_fa  = {0:\"<SOS>\",1:\"<padd>\",2:\"<EOS>\", 3: \"<UKN>\"}\n",
    "        validation = np.random.choice([0,1,2,3,4,5,6,7,8,9])\n",
    "        print(validation)\n",
    "        counter = 0\n",
    "        with open(file_name+\"AFEC-merged.fa\", 'r') as file:\n",
    "            data = file.read().split(\"\\n\")\n",
    "            for d in data:\n",
    "                self.counter_fa(d)\n",
    "        counter = 0\n",
    "        with open(file_name+\"AFEC-merged.en\", 'r') as file:\n",
    "            data = file.read().split(\"\\n\")\n",
    "            for d in data:\n",
    "                self.counter_en(d)\n",
    "        \n",
    "        counter = 0\n",
    "        with open(file_name+\"AFEC-merged.en\", 'r') as file:\n",
    "            data = file.read().split(\"\\n\")\n",
    "            for d in data:\n",
    "                d = self.cleaner_en(d)\n",
    "                if counter % 10 == validation:\n",
    "                    self.english_sentence_valid.append(d)\n",
    "                else:\n",
    "                    self.english_sentence.append(d)\n",
    "                if len(d) > self.max_len:\n",
    "                    self.max_len = len(d)\n",
    "                counter = counter + 1\n",
    "        counter = 0\n",
    "        with open(file_name+\"AFEC-merged.fa\", 'r') as file:\n",
    "            data = file.read().split(\"\\n\")\n",
    "            for d in data:\n",
    "                d = self.cleaner_fa(d)\n",
    "                if counter % 10 == validation:\n",
    "                    self.persian_sentence_valid.append(d)\n",
    "                else:\n",
    "                    self.persian_sentence.append(d)\n",
    "                if len(d) > self.max_len:\n",
    "                    self.max_len = len(d)\n",
    "                counter = counter + 1\n",
    "        with open(file_name+\"/Test/test.en\", 'r') as file:\n",
    "            data = file.read().split(\"\\n\")\n",
    "            for d in data:\n",
    "                d = self.cleaner_en(d)\n",
    "                self.test.append(d)\n",
    "                if len(d)>self.max_len:\n",
    "                    self.max_len = len(d)\n",
    "        \n",
    "        with open(file_name+\"/Test/test.fa0\", 'r') as file:\n",
    "            data = file.read().split(\"\\n\")\n",
    "            for d in data:\n",
    "                d = self.cleaner_fa(d)\n",
    "                self.test_fa0.append(d)\n",
    "                if len(d)>self.max_len:\n",
    "                    self.max_len = len(d)\n",
    "        with open(file_name+\"/Test/test.fa1\", 'r') as file:\n",
    "            data = file.read().split(\"\\n\")\n",
    "            for d in data:\n",
    "                d = self.cleaner_fa(d)\n",
    "                self.test_fa1.append(d)\n",
    "                if len(d)>self.max_len:\n",
    "                    self.max_len = len(d)\n",
    "        with open(file_name+\"/Test/test.fa2\", 'r') as file:\n",
    "            data = file.read().split(\"\\n\")\n",
    "            for d in data:\n",
    "                d = self.cleaner_fa(d)\n",
    "                self.test_fa2.append(d)\n",
    "                if len(d)>self.max_len:\n",
    "                    self.max_len = len(d)\n",
    "        with open(file_name+\"/Test/test.fa3\", 'r') as file:\n",
    "            data = file.read().split(\"\\n\")\n",
    "            for d in data:\n",
    "                d = self.cleaner_fa(d)\n",
    "                self.test_fa3.append(d)\n",
    "                if len(d)>self.max_len:\n",
    "                    self.max_len = len(d)\n",
    "    def cleaner_en(self, text):\n",
    "        text = text.translate(str.maketrans('', '', string.punctuation))\n",
    "        text = text.lower().replace(\"  \", \" \").replace(\"  \", \" \")\n",
    "        token = word_tokenize(\"SOS \"+text+\" EOS\")\n",
    "        token[0] = \"<SOS>\"\n",
    "        token[-1] = \"<EOS>\"\n",
    "        tokens = []\n",
    "        for t in token:\n",
    "            if t not in self.vocabtocount_en or self.vocabtocount_en[t]> 10:\n",
    "                if t not in self.vocabtoindex_en:\n",
    "                    self.vocabtoindex_en[t] = len(self.vocabtoindex_en)\n",
    "                    self.indextovocab_en[len(self.indextovocab_en)] = t\n",
    "                tokens.append(self.vocabtoindex_en[t])\n",
    "            else:\n",
    "                tokens.append(3)\n",
    "        return np.array(tokens)\n",
    "    def counter_en(self, text):\n",
    "        text = text.translate(str.maketrans('', '', string.punctuation))\n",
    "        text = text.lower().replace(\"  \", \" \").replace(\"  \", \" \")\n",
    "        token = word_tokenize(\"SOS \"+text+\" EOS\")\n",
    "        token[0] = \"<SOS>\"\n",
    "        token[-1] = \"<EOS>\"\n",
    "        for t in token:\n",
    "            if t not in self.vocabtocount_en:\n",
    "                self.vocabtocount_en[t] = 0\n",
    "            else:\n",
    "                self.vocabtocount_en[t] = self.vocabtocount_en[t] + 1\n",
    "        return \n",
    "    def cleaner_fa(self, text):\n",
    "        text = text.translate(str.maketrans('', '', string.punctuation))\n",
    "        text = text.replace(\"  \", \" \").replace(\"  \", \" \").replace(\"\\u200c\",\" \").replace(\"\\xad\",\" \")  \n",
    "        normalizer = Normalizer()\n",
    "        token = per_word_tokenize(\"SOS \"+text+\" EOS\")\n",
    "        token[0] = \"<SOS>\"\n",
    "        token[-1] = \"<EOS>\"\n",
    "        tokens = []\n",
    "        for t in token:\n",
    "            if t not in self.vocabtocount_fa or self.vocabtocount_fa[t] > 10:\n",
    "                if t not in self.vocabtoindex_fa:\n",
    "                    self.vocabtoindex_fa[t] = len(self.vocabtoindex_fa)\n",
    "                    self.indextovocab_fa[len(self.indextovocab_fa)] = t\n",
    "                tokens.append(self.vocabtoindex_fa[t])\n",
    "            else:\n",
    "                tokens.append(3)\n",
    "        return np.array(tokens)\n",
    "    def counter_fa(self, text):\n",
    "        text = text.translate(str.maketrans('', '', string.punctuation))\n",
    "        text = text.replace(\"  \", \" \").replace(\"  \", \" \").replace(\"\\u200c\",\" \").replace(\"\\xad\",\" \")\n",
    "        normalizer = Normalizer()\n",
    "        token = per_word_tokenize(\"SOS \"+text+\" EOS\")\n",
    "        token[0] = \"<SOS>\"\n",
    "        token[-1] = \"<EOS>\"\n",
    "        for t in token:\n",
    "            if t not in self.vocabtocount_fa:\n",
    "                self.vocabtocount_fa[t] = 0\n",
    "            else:\n",
    "                self.vocabtocount_fa[t] = self.vocabtocount_fa[t] + 1\n",
    "        return "
   ]
  },
  {
   "cell_type": "code",
   "execution_count": 3,
   "metadata": {
    "colab": {
     "base_uri": "https://localhost:8080/"
    },
    "id": "R6StzBTurb93",
    "outputId": "eae4d52b-1305-4703-b621-61ac72c6a1ac"
   },
   "outputs": [
    {
     "name": "stdout",
     "output_type": "stream",
     "text": [
      "9\n"
     ]
    }
   ],
   "source": [
    "data = Data(\"/content/gdrive/MyDrive/AFEC/\")"
   ]
  },
  {
   "cell_type": "markdown",
   "metadata": {
    "id": "5LTxbTu7zOOK"
   },
   "source": [
    "### Hyperparameters"
   ]
  },
  {
   "cell_type": "code",
   "execution_count": 4,
   "metadata": {
    "id": "pyyGLGdEPjQr"
   },
   "outputs": [],
   "source": [
    "batch_size = 64\n",
    "emd_size_encoder = 256\n",
    "num_heads_encoder = 8\n",
    "emd_size_decoder = 256\n",
    "num_heads_decoder = 8\n",
    "dim_key = 64\n",
    "dim_value = 64\n",
    "dim_inner = 1024\n",
    "enc_layer = 3\n",
    "dec_layer = 3\n",
    "lr = 0.0001\n",
    "Betas=(0.9, 0.98)\n",
    "eps=1e-9\n",
    "en_vocab = len(data.vocabtoindex_en)\n",
    "fa_vocab = len(data.vocabtoindex_fa)\n",
    "max_len = data.max_len"
   ]
  },
  {
   "cell_type": "markdown",
   "metadata": {
    "id": "SF1FBmp8zoAQ"
   },
   "source": [
    "### Network:"
   ]
  },
  {
   "cell_type": "code",
   "execution_count": 26,
   "metadata": {
    "id": "7IxeqDSNmWCV"
   },
   "outputs": [],
   "source": [
    "class Embedding(nn.Module):\n",
    "    def __init__(self, vocab_size, embedding_dim, padding_idx = None):\n",
    "        super().__init__()\n",
    "        self.embedding = nn.Embedding(vocab_size, embedding_dim, padding_idx=padding_idx)\n",
    "    def forward(self, x):\n",
    "        return self.embedding(x)\n",
    "\n",
    "class PositionalEncoder(nn.Module):\n",
    "    def __init__(self, max_len, dmodel):\n",
    "        super().__init__()\n",
    "        pe = torch.zeros(max_len, dmodel)\n",
    "        for i in range(max_len):\n",
    "            for j in range(dmodel):\n",
    "                pow = 2* j/ dmodel\n",
    "                if j % 2 == 0:\n",
    "                    pe[i,j] = math.sin(i/ 10000**pow)\n",
    "                else:\n",
    "                    pe[i,j] = math.cos(i/ 10000**pow)\n",
    "        pe = pe.unsqueeze(0)\n",
    "        if device_flag_gpu:\n",
    "            pe = pe.cuda()\n",
    "        self.pe = pe\n",
    "        #self.pe = pe.requires_grad_(False)\n",
    "        self.dmodel = dmodel\n",
    "    def forward(self, x):\n",
    "        with torch.no_grad():\n",
    "            x = x * math.sqrt(self.dmodel)\n",
    "            pe = self.pe[:x.size(0), :x.size(1)]#pe = self.pe[:, :x.size(1)]#1\n",
    "            #Drop out?\n",
    "            x = x + pe\n",
    "            return x\n",
    "\n",
    "\n",
    "class SelfAttention(nn.Module):\n",
    "    def __init__(self, emd_size, num_heads, dim_key, dim_value, d_k, eps=1e-5):\n",
    "        super().__init__()\n",
    "        self.query_linear = nn.Linear(emd_size,num_heads*dim_key)\n",
    "        self.key_linear = nn.Linear(emd_size, num_heads * dim_key)\n",
    "        self.value_linear = nn.Linear(emd_size, num_heads*dim_value)\n",
    "        self.attention = Attention(num_heads, dim_key, dim_value, math.sqrt(d_k))\n",
    "        self.layernorm = nn.LayerNorm((emd_size,), elementwise_affine=True, eps=eps)#[d_model]\n",
    "        self.linear = nn.Linear(num_heads* dim_value, emd_size)\n",
    "        self.dropout = nn.Dropout(0.1)\n",
    "        self.num_heads = num_heads\n",
    "        self.dim_key = dim_key\n",
    "        self.dim_value = dim_value\n",
    "        #self.head_dim = emd_size//num_heads\n",
    "    \n",
    "    def forward(self, x, input_mask):\n",
    "        #print(\"x shape\")\n",
    "        #print(x.shape)\n",
    "        q = self.query_linear(x)\n",
    "        k = self.key_linear(x)\n",
    "        v = self.value_linear(x)\n",
    "        #print(\"qkv shape\")\n",
    "        #print(q.shape, k.shape, v.shape) #batch_size, seq_length, num_heads*dim_key/value\n",
    "        #x = self.attention(q,k,v,self.scale)\n",
    "        '''attn_scores = torch.bmm(q, k.permute(0, 2, 1))/self.scale#torch.matmul(q, k.transpose(-2, -1))/self.scale\n",
    "        softmax = nn.Softmax(dim=-1)\n",
    "        attention = softmax(attn_scores)\n",
    "        values = torch.matmul(attention, v)'''\n",
    "        attention = self.attention(q, k, v, input_mask).reshape(x.shape[0], x.shape[1], self.num_heads * self.dim_value)\n",
    "        #attention?\n",
    "        return self.layernorm(self.dropout(self.linear(attention)) + x)#relu dropout\n",
    "\n",
    "\n",
    "\n",
    "\n",
    "class POS_FFN(nn.Module):\n",
    "    def __init__(self, emd_size, dim_inner, eps = 1e-5):\n",
    "        super().__init__()\n",
    "        self.linear1 = nn.Linear(emd_size, dim_inner)\n",
    "        self.linear2 = nn.Linear(dim_inner, emd_size)\n",
    "        self.dropout = nn.Dropout(0.1)\n",
    "        self.layernorm = nn.LayerNorm((emd_size,), elementwise_affine=True, eps=eps)\n",
    "    def forward(self, x):\n",
    "        return self.layernorm(self.dropout(self.linear2(self.dropout(torch.relu(self.linear1(x))))) + x)#relu dropout\n",
    "\n",
    "\n",
    "class Attention(nn.Module):\n",
    "    def __init__(self, num_heads, dim_key, dim_value, scale):\n",
    "        super().__init__()\n",
    "        self.dropout = nn.Dropout(0.1)\n",
    "        self.softmax = nn.Softmax(dim=-1)\n",
    "        self.num_heads, self.dim_key, self.dim_value, self.scale = num_heads, dim_key, dim_value, scale\n",
    "    def forward(self, q, k, v, input_mask):\n",
    "        q = q.reshape(q.shape[0], q.shape[1], self.num_heads, self.dim_key).permute(0, 2, 1, 3)\n",
    "        k = k.reshape(k.shape[0], k.shape[1], self.num_heads, self.dim_key).permute(0, 2, 1, 3)\n",
    "        v = v.reshape(v.shape[0], v.shape[1], self.num_heads, self.dim_value).permute(0, 2, 1, 3)\n",
    "        #print(q.shape, k.shape, v.shape)#batch_size, num_heads, seq_length, dim_key/value\n",
    "        #x = self.attention(q,k,v,self.scale)\n",
    "        attention_scores = torch.matmul(q, k.permute(0, 1, 3, 2))/self.scale\n",
    "        attention_scores = attention_scores + input_mask * -1e9\n",
    "        #input_mask = input_mask.unsqueeze(1)\n",
    "        #attention_scores = attention_scores.masked_fill_(input_mask == 1, -1 * np.inf)\n",
    "        #print(\"attention shape\")\n",
    "        #print(attention_scores.shape)##batch_size, num_heads, seq_length, seq_length\n",
    "        attention = self.dropout(self.softmax(attention_scores))\n",
    "        values = torch.matmul(attention, v)#.reshape(v.shape[0], v.shape[1], self.num_heads * self.dim_value)\n",
    "        #print(\"values shape\")\n",
    "        #print(values.shape)#batch_size, num_heads, seq_length, dim_value\n",
    "        values = values.permute(0, 2, 1, 3).contiguous()\n",
    "        #print(values.shape)#batch_size, seq_length, num_heads, dim_value\n",
    "        return values\n",
    "\n",
    "\n",
    "\n",
    "class Encoder(nn.Module):\n",
    "    def __init__(self, emd_size, num_heads, dim_key, dim_value, dim_inner, eps):\n",
    "        super().__init__()\n",
    "        d_k = dim_key#????\n",
    "        self.multiheadattention = SelfAttention(emd_size, num_heads, dim_key, dim_value, d_k, eps)\n",
    "        self.layernorm = nn.LayerNorm((emd_size,), elementwise_affine=True, eps=eps)\n",
    "        self.feedforward = POS_FFN(emd_size, dim_inner, eps )\n",
    "    def  forward(self, x, input_mask, adding = True):\n",
    "        mha = self.multiheadattention(x, input_mask)\n",
    "        #if adding:\n",
    "        #    x = x + mha\n",
    "        #else:\n",
    "        #   x = mha#? x = x\n",
    "        #xnorm = self.layernorm(x)\n",
    "        #x = xnorm + self.feedforward(xnorm) #xnorm + ?\n",
    "        return self.feedforward(mha)\n",
    "\n",
    "\n",
    "class Translator(nn.Module):\n",
    "    def __init__(self, en_vocab, fa_vocab, embedding_dim, max_len, enc_layer, dec_layer,  num_heads_enc, num_heads_dec, dim_key, dim_value, dim_inner, padding_idx = None, eps = 1e-5):\n",
    "        super().__init__()\n",
    "        # input embedding\n",
    "        self.input_embedding = Embedding(en_vocab, embedding_dim, padding_idx)\n",
    "        # output embedding\n",
    "        self.output_embedding = Embedding(fa_vocab, embedding_dim, padding_idx)\n",
    "        # positional encoder\n",
    "        self.positional_encoder = PositionalEncoder(max_len, embedding_dim)\n",
    "        #enc X n \n",
    "        self.encoder = nn.ModuleList([Encoder(embedding_dim,  num_heads_enc, dim_key, dim_value, dim_inner, eps) for i in range(enc_layer)])\n",
    "        #dec X n\n",
    "        self.decoder = nn.ModuleList([nn.TransformerDecoderLayer(embedding_dim, num_heads_dec, batch_first=True) for i in range(dec_layer)])\n",
    "        #linearsoftmax Attention?\n",
    "        self.linear = nn.Linear(embedding_dim, fa_vocab)\n",
    "        self.softmax = nn.Softmax(dim=-1)\n",
    "    def forward(self, input, output, input_mask, output_mask):\n",
    "        output_mask = torch.tensor(output == 1)\n",
    "        mask = self.generate_look_ahead_mask(output.shape[1])\n",
    "        input_embed = self.positional_encoder(self.input_embedding(input)) \n",
    "        output_embed = self.positional_encoder(self.output_embedding(output))\n",
    "        for i in self.encoder:\n",
    "            input_embed = i(input_embed, input_mask)\n",
    "        #print(mask.shape)\n",
    "        #mask = torch.maximum(mask, output_mask)\n",
    "        #print(mask.shape)\n",
    "        if device_flag_gpu:\n",
    "            mask = mask.cuda()\n",
    "            output_mask = output_mask.cuda()\n",
    "            input_mask = input_mask.cuda()\n",
    "        for i in self.decoder:\n",
    "            output_embed = i(output_embed, input_embed, tgt_mask = mask.squeeze(1), tgt_key_padding_mask= output_mask.squeeze(1).squeeze(1))#, memory_key_padding_mask = input_mask.squeeze(1).squeeze(1), memory_key_padding_mask = input_mask, tgt_key_padding_mask= output_mask\n",
    "        return self.linear(output_embed)#relu dropout\n",
    "    def greedy_search(self, input, max_length):\n",
    "        input_tensor = torch.LongTensor(input).unsqueeze(0).cuda()\n",
    "        input_mask = torch.zeros(1, 1, len(input), dtype=torch.bool).cuda()     \n",
    "        input_embed = self.positional_encoder(self.input_embedding(input_tensor)).cuda() \n",
    "        for i in self.encoder:\n",
    "            input_embed = i(input_embed, input_mask)\n",
    "        trg_indexes = [0]    \n",
    "        for i in range(max_len):\n",
    "            trg_tensor = torch.LongTensor(trg_indexes).unsqueeze(0).cuda()\n",
    "            output_embed = self.positional_encoder(self.output_embedding(trg_tensor.long().cuda()))\n",
    "            trg_mask = (self.generate_look_ahead_mask(len(trg_indexes)).type(torch.bool)).cuda()   \n",
    "            for dcd in self.decoder:\n",
    "                output_embed = dcd(output_embed, input_embed, trg_mask).cuda()          \n",
    "            pred_token =  torch.argmax(self.linear(output_embed).squeeze(0), dim=-1)[i].item()  \n",
    "            trg_indexes.append(pred_token)\n",
    "            if pred_token == 2:\n",
    "                break\n",
    "        \n",
    "        return trg_indexes\n",
    "\n",
    "    def generate_look_ahead_mask(self, l):\n",
    "        mask = (torch.triu(torch.ones(l,l)) == 1).transpose(0,1)\n",
    "        mask = mask.float().masked_fill(mask == 0, float('-inf')).masked_fill(mask == 1, 0.0)#1 => -inf#2\n",
    "        return mask\n",
    "\n",
    "    "
   ]
  },
  {
   "cell_type": "code",
   "execution_count": 6,
   "metadata": {
    "id": "u-c1siw4iWKr"
   },
   "outputs": [],
   "source": [
    "def creat_minibatch(data,batch_size=20):\n",
    "    merged = [i for i in range(len(data))]\n",
    "    np.random.shuffle(merged)\n",
    "    batch = []\n",
    "    i = 0\n",
    "    while i < len(merged):\n",
    "        x = merged[i:i+batch_size]\n",
    "        batch.append(x)\n",
    "        i = i + batch_size\n",
    "    return batch\n",
    "def padd(tokens, l, target = False):\n",
    "    tokens = [list(t) for t in tokens]\n",
    "    mask = torch.zeros(len(tokens), 1, l, dtype=torch.bool)\n",
    "    if target:\n",
    "        mask = torch.zeros(len(tokens), 1, l-1, dtype=torch.bool)\n",
    "    for token in range(len(tokens)):\n",
    "        lp = len(tokens[token])\n",
    "        for i in range(l-lp):\n",
    "            tokens[token][-1] = 1\n",
    "            tokens[token].append(2)\n",
    "            mask[token][0][i+lp-1] = 1\n",
    "    if False:#target:\n",
    "        mask = mask & torch.tril(torch.ones([1, l, l], dtype=torch.bool))\n",
    "    return tokens, torch.tensor(mask, dtype = torch.bool).unsqueeze(1)"
   ]
  },
  {
   "cell_type": "markdown",
   "metadata": {
    "id": "GVTiGNctgfX4"
   },
   "source": [
    "### Part 1:"
   ]
  },
  {
   "cell_type": "markdown",
   "metadata": {
    "id": "gwqxFh3I_MGN"
   },
   "source": [
    "epoch epoch training:"
   ]
  },
  {
   "cell_type": "code",
   "execution_count": null,
   "metadata": {
    "colab": {
     "base_uri": "https://localhost:8080/"
    },
    "id": "yGXs-AaGET_A",
    "outputId": "0d83af7b-ff0f-4170-9b04-4233685f5614"
   },
   "outputs": [
    {
     "name": "stdout",
     "output_type": "stream",
     "text": [
      "training loss, validation loss\n"
     ]
    },
    {
     "name": "stderr",
     "output_type": "stream",
     "text": [
      "/usr/local/lib/python3.7/dist-packages/ipykernel_launcher.py:21: VisibleDeprecationWarning: Creating an ndarray from ragged nested sequences (which is a list-or-tuple of lists-or-tuples-or ndarrays with different lengths or shapes) is deprecated. If you meant to do this, you must specify 'dtype=object' when creating the ndarray\n",
      "/usr/local/lib/python3.7/dist-packages/ipykernel_launcher.py:22: VisibleDeprecationWarning: Creating an ndarray from ragged nested sequences (which is a list-or-tuple of lists-or-tuples-or ndarrays with different lengths or shapes) is deprecated. If you meant to do this, you must specify 'dtype=object' when creating the ndarray\n",
      "/usr/local/lib/python3.7/dist-packages/ipykernel_launcher.py:24: UserWarning: To copy construct from a tensor, it is recommended to use sourceTensor.clone().detach() or sourceTensor.clone().detach().requires_grad_(True), rather than torch.tensor(sourceTensor).\n",
      "/usr/local/lib/python3.7/dist-packages/ipykernel_launcher.py:143: UserWarning: To copy construct from a tensor, it is recommended to use sourceTensor.clone().detach() or sourceTensor.clone().detach().requires_grad_(True), rather than torch.tensor(sourceTensor).\n",
      "/usr/local/lib/python3.7/dist-packages/ipykernel_launcher.py:43: VisibleDeprecationWarning: Creating an ndarray from ragged nested sequences (which is a list-or-tuple of lists-or-tuples-or ndarrays with different lengths or shapes) is deprecated. If you meant to do this, you must specify 'dtype=object' when creating the ndarray\n",
      "/usr/local/lib/python3.7/dist-packages/ipykernel_launcher.py:44: VisibleDeprecationWarning: Creating an ndarray from ragged nested sequences (which is a list-or-tuple of lists-or-tuples-or ndarrays with different lengths or shapes) is deprecated. If you meant to do this, you must specify 'dtype=object' when creating the ndarray\n"
     ]
    },
    {
     "name": "stdout",
     "output_type": "stream",
     "text": [
      "6.9657125 6.4689674\n",
      "6.4605947 6.449489\n",
      "6.449489 6.4493546\n",
      "6.4493546 6.4490523\n",
      "6.4490523 6.4495087\n",
      "6.4495087 6.4494023\n",
      "6.4494023 6.4489\n",
      "6.4489 6.4496064\n",
      "6.4496064 6.4492126\n",
      "6.252212 6.0983453\n",
      "6.0866594 6.0954585\n",
      "6.0954585 6.095495\n",
      "6.095495 6.0954366\n",
      "6.0954366 6.0949774\n",
      "6.0949774 6.0949564\n",
      "6.0949564 6.095567\n",
      "6.095567 6.094706\n",
      "6.094706 6.0948873\n",
      "5.959551 5.8650618\n",
      "5.8488116 5.864218\n",
      "5.864218 5.865051\n",
      "5.865051 5.864659\n",
      "5.864659 5.8654246\n",
      "5.8654246 5.8647704\n",
      "5.8647704 5.864128\n",
      "5.864128 5.8645186\n",
      "5.8645186 5.864687\n",
      "5.7519045 5.697643\n",
      "5.678428 5.6982403\n",
      "5.6982403 5.698931\n",
      "5.698931 5.698806\n",
      "5.698806 5.6988873\n",
      "5.6988873 5.699809\n",
      "5.699809 5.6989985\n",
      "5.6989985 5.6986284\n",
      "5.6986284 5.69848\n",
      "5.598555 5.545737\n",
      "5.5263596 5.5565104\n",
      "5.5565104 5.5569286\n",
      "5.5569286 5.556346\n",
      "5.556346 5.556797\n",
      "5.556797 5.557654\n",
      "5.557654 5.5562325\n",
      "5.5562325 5.5563955\n",
      "5.5563955 5.556261\n",
      "5.4706006 5.4370866\n",
      "5.415136 5.4324036\n",
      "5.4324036 5.432862\n",
      "5.432862 5.4336386\n",
      "5.4336386 5.4329348\n",
      "5.4329348 5.4326577\n",
      "5.4326577 5.4336553\n",
      "5.4336553 5.432767\n",
      "5.432767 5.4325705\n",
      "5.358883 5.3222275\n",
      "5.3008256 5.337499\n",
      "5.337499 5.3383203\n",
      "5.3383203 5.337606\n",
      "5.337606 5.3380313\n",
      "5.3380313 5.337396\n",
      "5.337396 5.3378577\n",
      "5.3378577 5.3373723\n",
      "5.3373723 5.337501\n",
      "5.259461 5.228796\n",
      "5.205579 5.236654\n",
      "5.236654 5.2357545\n",
      "5.2357545 5.235589\n",
      "5.235589 5.235489\n",
      "5.235489 5.23569\n",
      "5.23569 5.2355723\n",
      "5.2355723 5.235698\n",
      "5.235698 5.2358365\n",
      "5.164571 5.1500144\n",
      "5.125949 5.155645\n",
      "5.155645 5.156469\n",
      "5.156469 5.156007\n",
      "5.156007 5.155513\n",
      "5.155513 5.155673\n",
      "5.155673 5.1567883\n",
      "5.1567883 5.156261\n",
      "5.156261 5.155895\n",
      "5.0898223 5.0753455\n",
      "5.0515075 5.0988455\n",
      "5.0988455 5.098868\n",
      "5.098868 5.098405\n",
      "5.098405 5.0991573\n",
      "5.0991573 5.0983796\n",
      "5.0983796 5.0991135\n",
      "5.0991135 5.099193\n",
      "5.099193 5.0989547\n"
     ]
    }
   ],
   "source": [
    "def initialize_weights(m):\n",
    "    if hasattr(m, 'weight') and m.weight.dim() > 1:\n",
    "        nn.init.xavier_uniform_(m.weight.data)\n",
    "device_flag_gpu = True\n",
    "net = Translator(en_vocab, fa_vocab, emd_size_encoder, max_len, enc_layer, dec_layer,  num_heads_encoder, num_heads_decoder, dim_key, dim_value, dim_inner, 1)\n",
    "if False:\n",
    "    net.load_state_dict(torch.load('/content/gdrive/MyDrive/net'))\n",
    "    net.eval()\n",
    "net.cuda()\n",
    "net.apply(initialize_weights)\n",
    "optimizer =  optim.Adam(net.parameters(), lr=lr, betas=Betas, eps = eps)\n",
    "loss = nn.CrossEntropyLoss(ignore_index=1)#\n",
    "trainlosslog = []\n",
    "validlosslog = []\n",
    "print(\"training loss, validation loss\")\n",
    "for j in range(10):\n",
    "    batchindxs = creat_minibatch(data.english_sentence, batch_size)\n",
    "    losslog = []\n",
    "    for i in range(9):\n",
    "        for batchindx in batchindxs[i*1000:min(len(batchindxs),i*1000+1000)]:\n",
    "            x1 = np.array(data.english_sentence)[batchindx]\n",
    "            x2 = np.array(data.persian_sentence)[batchindx]\n",
    "            l1 = np.max([len(t) for t in x1])\n",
    "            l2 = np.max([len(t) for t in x2])\n",
    "            x1, input_mask = padd(x1,max(l1,l2))\n",
    "            x2, output_mask = padd(x2,max(l1,l2), True)\n",
    "            out = net(torch.tensor(x1).cuda(),torch.tensor(np.array(x2)[:,:-1]).cuda(), input_mask.cuda(), output_mask.cuda())\n",
    "            #x = torch.argmax(out[0],dim = -1)\n",
    "            #print([data.indextovocab_fa[d] for d in x2[0]])\n",
    "            #print([data.indextovocab_fa[d] for d in x.tolist()])\n",
    "            out = loss(out.contiguous().reshape(-1, out.shape[2]),torch.tensor(np.array(x2)[:,1:]).contiguous().view(-1).long().cuda())\n",
    "            losslog.append(out.cpu().detach().numpy())\n",
    "            #print(losslog[-1])\n",
    "            optimizer.zero_grad()\n",
    "            out.backward()\n",
    "            torch.nn.utils.clip_grad_norm_(net.parameters(), 5)\n",
    "            optimizer.step()  \n",
    "        trainlosslog.append(np.mean(losslog))\n",
    "        torch.save(net.state_dict(), '/content/gdrive/MyDrive/AFEC/netpart1v3')\n",
    "        losslog = []\n",
    "        batchindxs = creat_minibatch(data.english_sentence_valid, batch_size)\n",
    "        for batchindx in batchindxs:\n",
    "            x1 = np.array(data.english_sentence_valid)[batchindx]\n",
    "            x2 = np.array(data.persian_sentence_valid)[batchindx]\n",
    "            l1 = np.max([len(t) for t in x1])\n",
    "            l2 = np.max([len(t) for t in x2])\n",
    "            x1, input_mask = padd(x1,max(l1,l2))\n",
    "            x2, output_mask = padd(x2,max(l1,l2), True)\n",
    "            out = net(torch.tensor(x1).cuda(),torch.tensor(x2)[:,:-1].cuda(), input_mask.cuda(), output_mask.cuda())\n",
    "            out = loss(out.contiguous().reshape(-1, out.shape[2]),torch.tensor(np.array(x2))[:,1:].contiguous().view(-1).long().cuda())\n",
    "            losslog.append(out.cpu().detach().numpy())\n",
    "            #optimizer.zero_grad()\n",
    "            #out.backward()\n",
    "            #optimizer.step()  \n",
    "        validlosslog.append(np.mean(losslog))\n",
    "        print(trainlosslog[-1], validlosslog[-1])"
   ]
  },
  {
   "cell_type": "code",
   "execution_count": null,
   "metadata": {
    "id": "8nODYgsxTd-d"
   },
   "outputs": [],
   "source": [
    "test_index = np.random.choice([i for i in range(len(data.test))], 10)"
   ]
  },
  {
   "cell_type": "code",
   "execution_count": 34,
   "metadata": {
    "colab": {
     "base_uri": "https://localhost:8080/"
    },
    "id": "aSe3Y3lCPm6S",
    "outputId": "aa0a1df9-b833-4aaf-831b-a6c8eb235b36"
   },
   "outputs": [
    {
     "name": "stdout",
     "output_type": "stream",
     "text": [
      "['<SOS>', 'i', 'agree', 'we', 'need', 'a', 'hotel', 'in', 'hanover', '<EOS>']\n",
      "['<SOS>', 'موافقم', 'ما', 'در', 'هانوور', 'به', 'یک', 'هتل', 'احتیاج', 'داریم', '<EOS>']\n",
      "['<SOS>', 'من', 'می', 'توانم', 'در', 'یک', 'روز', 'در', 'یک', 'روز', 'در', 'یک', 'روز', 'در', 'یک', 'روز', 'در', 'یک', 'شنبه', 'در', 'یک', 'مدرسه', 'در', 'یک', 'مدرسه', 'در', 'یک', 'مدرسه', 'در', 'یک', 'مدرسه', 'در', 'یک', 'مدرسه', 'در', 'یک', 'مدرسه', 'در', 'یک', 'مدرسه', 'می', 'کنیم', 'که', 'در', 'یک', 'مدرسه', 'می', 'توانیم', 'یک', 'کار', 'می', 'کنیم', '<EOS>']\n",
      "____________\n",
      "['<SOS>', 'let', 'us', 'take', 'the', 'train', 'at', 'nine', '<UKN>', '<EOS>']\n",
      "['<SOS>', 'اجازه', 'دهید', 'قطار', 'ساعت', 'نه', 'را', 'بگیریم', '<EOS>']\n",
      "['<SOS>', 'پس', 'ما', 'در', 'روز', 'در', '<UKN>', '<UKN>', 'در', '<UKN>', '<UKN>', '<UKN>', '<UKN>', '<UKN>', '<UKN>', '<UKN>', '<UKN>', '<UKN>', '<UKN>', '<UKN>', '<UKN>', '<UKN>', '<UKN>', '<UKN>', '<UKN>', '<UKN>', '<UKN>', '<UKN>', '<UKN>', '<UKN>', '<UKN>', '<UKN>', '<UKN>', '<UKN>', '<UKN>', '<UKN>', '<UKN>', '<UKN>', '<UKN>', '<UKN>', '<UKN>', '<UKN>', '<UKN>', '<UKN>', '<UKN>', '<UKN>', '<UKN>', '<UKN>', '<UKN>', '<UKN>', '<UKN>', '<UKN>', '<UKN>', '<UKN>', '<UKN>', '<UKN>', '<UKN>', '<UKN>', '<UKN>', '<UKN>', '<UKN>', '<UKN>', '<UKN>', '<UKN>', '<UKN>', '<UKN>', '<UKN>', '<UKN>', '<UKN>', '<UKN>', '<UKN>', '<UKN>', '<UKN>', '<UKN>', '<UKN>', '<UKN>', '<UKN>', '<UKN>', '<UKN>', '<UKN>', '<UKN>', '<UKN>', '<EOS>']\n",
      "____________\n",
      "['<SOS>', 'would', 'you', 'like', 'to', 'do', 'something', 'in', 'the', 'evening', '<EOS>']\n",
      "['<SOS>', 'آیا', 'عصر', 'دوست', 'دارید', 'کاری', 'انجام', 'دهید', '؟', '<EOS>']\n",
      "['<SOS>', 'شما', 'در', '<UKN>', 'در', '<UKN>', 'در', '<UKN>', 'در', '<UKN>', '<UKN>', '<UKN>', '<UKN>', '<UKN>', '<UKN>', '<UKN>', '<UKN>', '<UKN>', '<UKN>', '<UKN>', '<UKN>', '<UKN>', '<UKN>', '<UKN>', '<UKN>', '<UKN>', '<UKN>', '<UKN>', '<UKN>', '<UKN>', '<UKN>', '<UKN>', '<UKN>', '<UKN>', '<UKN>', '<UKN>', '<UKN>', '<UKN>', '<UKN>', '<UKN>', '<UKN>', '<UKN>', '<UKN>', '<UKN>', '<UKN>', '<UKN>', '<UKN>', '<UKN>', '<UKN>', '<UKN>', '<UKN>', '<UKN>', '<UKN>', '<UKN>', '<UKN>', '<UKN>', '<UKN>', '<UKN>', '<UKN>', '<EOS>']\n",
      "____________\n",
      "['<SOS>', 'where', 'should', 'we', 'meet', '<EOS>']\n",
      "['<SOS>', 'کجا', 'باید', 'ملاقات', 'کنیم', '؟', '<EOS>']\n",
      "['<SOS>', 'ما', 'باید', 'در', 'یک', 'مدرسه', 'را', 'در', '<UKN>', 'کنیم', 'ما', 'را', 'به', 'ما', 'می', 'توانیم', 'کنیم', 'و', 'ما', 'باید', 'ما', 'را', 'به', 'ما', 'کمک', 'کنیم', 'کنیم', 'ما', 'باید', 'ما', 'را', 'به', 'ما', 'کمک', 'کنیم', 'کنیم', 'کنیم', 'کنیم', 'ما', 'را', 'کنیم', 'کنیم', 'ما', 'کنیم', 'ما', 'را', 'کنیم', 'کنیم', 'کنیم', 'کنیم', 'ما', 'را', 'کنیم', 'کنیم', 'ما', 'را', 'کنیم', 'کنیم', 'کنیم', 'کنیم', 'ما', 'را', 'ما', 'را', 'کنیم', 'کنیم', 'کنیم', 'کنیم', 'کنیم', 'کنیم', 'کنیم', 'کنیم', 'کنیم', 'کنیم', '<EOS>']\n",
      "____________\n",
      "['<SOS>', 'the', 'plane', 'arrives', 'in', 'hanover', 'at', 'twentyfive', 'past', 'twelve', '<EOS>']\n",
      "['<SOS>', 'هواپیما', 'دوازده', 'و', 'بیست', 'و', 'پنج', 'دقیقه', 'به', 'هانوور', 'خواهد_رسید', '<EOS>']\n",
      "['<SOS>', 'این', 'در', 'سال', '2008', 'در', 'شهر', 'دوشنبه', 'در', 'شهر', 'دوشنبه', 'در', '<UKN>', 'در', '<UKN>', 'در', '<UKN>', 'در', '<UKN>', 'در', '<UKN>', 'در', '<UKN>', 'در', '<UKN>', '<UKN>', 'در', '<UKN>', 'در', '<UKN>', '<UKN>', 'در', '<UKN>', '<UKN>', 'در', '<UKN>', '<UKN>', 'در', '<UKN>', '<UKN>', 'در', '<UKN>', '<UKN>', 'قرار', 'گرفت', '<EOS>']\n",
      "____________\n",
      "['<SOS>', 'please', 'repeat', 'that', 'once', 'again', '<EOS>']\n",
      "['<SOS>', 'لطفا', 'یکبار', 'دیگر', 'آن', 'را', 'تکرار', 'کنید', '<EOS>']\n",
      "['<SOS>', 'در', 'این', 'حال', 'حاضر', 'در', 'حال', 'حاضر', 'به', 'عنوان', 'یک', 'سیستم', 'جدید', 'در', 'سال', '2009', 'به', 'عنوان', 'یک', 'کشور', 'در', 'سال', '2009', 'به', 'عنوان', 'یک', 'کشور', 'در', 'سال', '2009', 'به', 'عنوان', 'یک', 'کشور', 'تبدیل', 'شد', '<EOS>']\n",
      "____________\n",
      "['<SOS>', 'i', 'have', 'booked', 'two', 'single', 'rooms', 'one', 'for', 'me', 'and', 'one', 'for', 'you', '<EOS>']\n",
      "['<SOS>', 'دو', 'اتاق', '<UKN>', 'رزرو', 'کرده_ام', 'یکی', 'برای', 'من', 'و', 'یکی', 'برای', 'شما', '<EOS>']\n",
      "['<SOS>', 'من', 'دو', 'سال', 'برای', 'یک', 'روز', 'یک', 'روز', 'و', 'یک', 'روز', 'برای', 'من', 'یک', '<UKN>', 'و', 'یک', '<UKN>', 'و', 'یک', 'مرد', 'و', 'یک', '<UKN>', 'برای', 'من', 'یک', '<UKN>', 'و', 'دو', 'روز', 'برای', 'من', 'است', 'و', 'من', 'یک', '<UKN>', 'را', 'به', 'یک', '<UKN>', 'می', 'آورد', '<EOS>']\n",
      "____________\n",
      "['<SOS>', 'that', 'is', 'perfect', 'then', 'we', 'have', 'talked', 'about', 'everything', 'goodbye', '<EOS>']\n",
      "['<SOS>', 'این', 'عالی', 'است', 'پس', 'راجع', 'به', 'همه', 'چیز', 'صحبت', 'کردیم', 'خداحافظ', '<EOS>']\n",
      "['<SOS>', 'این', 'است', 'که', 'ما', 'در', 'حال', 'حاضر', 'ما', 'در', 'حال', 'حاضر', 'ما', 'در', 'آن', 'زمان', 'به', 'ما', 'می', 'توانیم', 'در', 'آن', 'زمان', 'ما', 'در', 'آن', 'زمان', 'داریم', 'که', 'ما', 'در', 'آن', 'زمان', 'ما', 'به', 'ما', 'می', 'توانیم', 'در', 'آن', 'زمان', 'ما', 'در', 'آن', 'زمان', 'داریم', '<EOS>']\n",
      "____________\n",
      "['<SOS>', 'would', 'you', 'like', 'to', 'do', 'something', 'in', 'the', 'evening', '<EOS>']\n",
      "['<SOS>', 'آیا', 'عصر', 'دوست', 'دارید', 'کاری', 'انجام', 'دهید', '؟', '<EOS>']\n",
      "['<SOS>', 'شما', 'در', '<UKN>', 'در', '<UKN>', 'در', '<UKN>', 'در', '<UKN>', '<UKN>', '<UKN>', '<UKN>', '<UKN>', '<UKN>', '<UKN>', '<UKN>', '<UKN>', '<UKN>', '<UKN>', '<UKN>', '<UKN>', '<UKN>', '<UKN>', '<UKN>', '<UKN>', '<UKN>', '<UKN>', '<UKN>', '<UKN>', '<UKN>', '<UKN>', '<UKN>', '<UKN>', '<UKN>', '<UKN>', '<UKN>', '<UKN>', '<UKN>', '<UKN>', '<UKN>', '<UKN>', '<UKN>', '<UKN>', '<UKN>', '<UKN>', '<UKN>', '<UKN>', '<UKN>', '<UKN>', '<UKN>', '<UKN>', '<UKN>', '<UKN>', '<UKN>', '<UKN>', '<UKN>', '<UKN>', '<UKN>', '<EOS>']\n",
      "____________\n",
      "['<SOS>', 'hello', 'do', 'we', 'drive', 'together', 'to', 'hanover', 'on', 'the', '<UKN>', 'of', 'march', '<EOS>']\n",
      "['<SOS>', 'سلام', '،', 'آیا', 'روز', 'بیست', 'و', 'هشتم', 'مارچ', 'قرار', 'است', 'با', 'هم', 'تا', 'هانوور', 'رانندگی', 'کنیم', '؟', '<EOS>']\n",
      "['<SOS>', 'بله', 'خوب', 'است', 'که', 'ما', 'در', 'روز', '<UKN>', '<UKN>', '<UKN>', '<UKN>', '<UKN>', '<UKN>', '<UKN>', '<UKN>', '<UKN>', '<UKN>', '<UKN>', '<UKN>', '<UKN>', '<UKN>', '<UKN>', '<UKN>', '<UKN>', '<UKN>', '<UKN>', '<UKN>', '<UKN>', '<UKN>', '<UKN>', '<UKN>', '<UKN>', '<UKN>', '<UKN>', '<UKN>', '<UKN>', '<UKN>', '<UKN>', '<UKN>', '<UKN>', '<UKN>', '<UKN>', '<UKN>', '<UKN>', '<UKN>', '<UKN>', '<UKN>', '<UKN>', '<UKN>', '<UKN>', '<UKN>', '<UKN>', '<UKN>', '<UKN>', '<UKN>', '<UKN>', '<UKN>', '<UKN>', '<EOS>']\n",
      "____________\n"
     ]
    }
   ],
   "source": [
    "for i in test_index:\n",
    "    print([data.indextovocab_en[d] for d in data.test[i]])\n",
    "    print([data.indextovocab_fa[d] for d in data.test_fa0[i]])\n",
    "    out = net.greedy_search(data.test[i],len(data.test[i]))\n",
    "    print([data.indextovocab_fa[d] for d in out])\n",
    "    print(\"____________\")"
   ]
  },
  {
   "cell_type": "code",
   "execution_count": null,
   "metadata": {
    "colab": {
     "base_uri": "https://localhost:8080/",
     "height": 281
    },
    "id": "yo7VEdT-kUjs",
    "outputId": "c966ffa0-a043-49d7-ee1e-6419c7dc5963"
   },
   "outputs": [
    {
     "data": {
      "image/png": "[encoded data removed]",
      "text/plain": [
       "<Figure size 432x288 with 1 Axes>"
      ]
     },
     "metadata": {
      "needs_background": "light",
      "tags": []
     },
     "output_type": "display_data"
    }
   ],
   "source": [
    "plt.plot([np.mean(trainlosslog[i*9:i*9+9]) for i in range(10)], label = \"training loss\")\n",
    "plt.plot([np.mean(validlosslog[i*9:i*9+9]) for i in range(10)], label = \"validation loss\")\n",
    "plt.title(\"Loss\")\n",
    "plt.legend()\n",
    "plt.show()"
   ]
  },
  {
   "cell_type": "code",
   "execution_count": null,
   "metadata": {
    "colab": {
     "base_uri": "https://localhost:8080/"
    },
    "id": "9mHqPYqbpWUa",
    "outputId": "216e58a2-d145-47d2-ff69-2a8bc76955f5"
   },
   "outputs": [
    {
     "name": "stdout",
     "output_type": "stream",
     "text": [
      "['<SOS>', 'tajiks', 'have', 'until', 'july', '1', '2009', 'to', 'legalise', 'their', 'property', 'holdings', '<padd>', '<padd>', '<padd>', '<padd>', '<padd>', '<padd>', '<padd>', '<padd>', '<padd>', '<padd>', '<padd>', '<padd>', '<padd>', '<padd>', '<padd>', '<padd>', '<padd>', '<padd>', '<padd>', '<padd>', '<padd>', '<padd>', '<padd>', '<padd>', '<padd>', '<padd>', '<padd>', '<padd>', '<padd>', '<padd>', '<padd>', '<padd>', '<padd>', '<padd>', '<EOS>']\n",
      "['<SOS>', 'مردم', 'تاجیکستان', 'تا', 'اول', 'ژوئیه', 'سال', '۲۰۰۹', 'فرصت', 'دارند', 'تا', 'دارایی\\u200cهای', 'خود', 'را', 'قانونی', 'کنند', '<SOS>', 'ذهنی', 'آل', 'شمارش', '<SOS>', '<SOS>', '<SOS>', '<SOS>', '<SOS>', '<SOS>', '<SOS>', '<SOS>', '<SOS>', '<SOS>', '<SOS>', '<SOS>', '<SOS>', '<SOS>', 'جوانی', '<SOS>', '<SOS>', '<SOS>', '<SOS>', '<SOS>', '<SOS>', '<SOS>', 'مایکل', 'متأسفم', '<SOS>', '<SOS>', '<EOS>']\n",
      "['<SOS>', 'ashgabat', 'the', 'turkmen', 'parliament', 'may', '4', 'passed', 'an', 'education', 'bill', 'that', 'will', 'help', 'transfer', '<UKN>', 'schools', 'to', 'a', '12', 'year', 'system', 'from', 'the', 'current', '10', 'year', 'system', '<UKN>', 'reported', 'may', '5', '<padd>', '<padd>', '<padd>', '<padd>', '<padd>', '<padd>', '<EOS>']\n",
      "['<SOS>', 'عشق', 'آباد', 'ترکمن', 'اطلاع', '۵', 'مه', 'گزارش', 'داد', 'پارلمان', 'ترکمنستان', 'در', '۴', 'مه', 'یک', 'لایحه', 'آموزشی', 'به', 'تصویب', 'رسانده_است', 'که', 'به', 'موجب', 'آن', 'سیستم', 'مدرسه\\u200cها', 'این', 'کشور', 'که', 'اکنون', '۱۰', 'ساله', 'است', 'به', '۱۲', 'ساله', 'تبدیل', 'خواهد_شد', '<EOS>']\n"
     ]
    },
    {
     "name": "stderr",
     "output_type": "stream",
     "text": [
      "/usr/local/lib/python3.7/dist-packages/ipykernel_launcher.py:2: VisibleDeprecationWarning: Creating an ndarray from ragged nested sequences (which is a list-or-tuple of lists-or-tuples-or ndarrays with different lengths or shapes) is deprecated. If you meant to do this, you must specify 'dtype=object' when creating the ndarray\n",
      "  \n",
      "/usr/local/lib/python3.7/dist-packages/ipykernel_launcher.py:3: VisibleDeprecationWarning: Creating an ndarray from ragged nested sequences (which is a list-or-tuple of lists-or-tuples-or ndarrays with different lengths or shapes) is deprecated. If you meant to do this, you must specify 'dtype=object' when creating the ndarray\n",
      "  This is separate from the ipykernel package so we can avoid doing imports until\n",
      "/usr/local/lib/python3.7/dist-packages/ipykernel_launcher.py:23: UserWarning: To copy construct from a tensor, it is recommended to use sourceTensor.clone().detach() or sourceTensor.clone().detach().requires_grad_(True), rather than torch.tensor(sourceTensor).\n"
     ]
    }
   ],
   "source": [
    "for batchindx in [[i for i in range(16)], [i+16 for i in range(16)]]:\n",
    "        x1 = np.array(data.english_sentence_valid)[batchindx]\n",
    "        x2 = np.array(data.persian_sentence_valid)[batchindx]\n",
    "        l1 = np.max([len(t) for t in x1])\n",
    "        l2 = np.max([len(t) for t in x2])\n",
    "        x1, input_mask = padd(x1,max(l1,l2))\n",
    "        x2, output_mask = padd(x2,max(l1,l2), True)\n",
    "        out = net(torch.tensor(x1).cuda(),torch.tensor(x2).cuda(), input_mask.cuda(), output_mask.cuda())\n",
    "        x = torch.argmax(out[0],dim = -1)\n",
    "        print([data.indextovocab_en[d] for d in x1[0]])\n",
    "        print([data.indextovocab_fa[d] for d in x.tolist()])\n",
    "        out = loss(out.reshape(-1, out.shape[2]),torch.tensor(x2).view(-1).long().cuda())"
   ]
  },
  {
   "cell_type": "code",
   "execution_count": 35,
   "metadata": {
    "colab": {
     "base_uri": "https://localhost:8080/"
    },
    "id": "IeytsC8LR04i",
    "outputId": "f17a7e1d-35b9-4c09-e509-feae45b37422"
   },
   "outputs": [
    {
     "name": "stdout",
     "output_type": "stream",
     "text": [
      "0.011606251760537045\n",
      "0.6695901166144211\n"
     ]
    }
   ],
   "source": [
    "ref = []\n",
    "hypo = []\n",
    "for i in range(len(data.test)):\n",
    "    if i in [39, 60, 99, 216, 250]:\n",
    "        continue\n",
    "    out = net.greedy_search(data.test[i],len(data.test[i]))\n",
    "    hypo.append(out)\n",
    "    ref.append([data.test_fa0[i],data.test_fa1[i],data.test_fa2[i],data.test_fa3[i]])\n",
    "print(bleu_score.corpus_bleu(ref, hypo))\n",
    "print(nist_score.corpus_nist(ref, hypo))"
   ]
  },
  {
   "cell_type": "markdown",
   "metadata": {
    "id": "0ZotnUMp_XYM"
   },
   "source": [
    "Iteration Iteration:"
   ]
  },
  {
   "cell_type": "code",
   "execution_count": null,
   "metadata": {
    "colab": {
     "base_uri": "https://localhost:8080/"
    },
    "id": "1SQXefMHXVnt",
    "outputId": "c7b8678d-8b1e-4008-9e55-76f970920baf"
   },
   "outputs": [
    {
     "name": "stdout",
     "output_type": "stream",
     "text": [
      "training loss, validation loss\n"
     ]
    },
    {
     "name": "stderr",
     "output_type": "stream",
     "text": [
      "/usr/local/lib/python3.7/dist-packages/ipykernel_launcher.py:22: VisibleDeprecationWarning: Creating an ndarray from ragged nested sequences (which is a list-or-tuple of lists-or-tuples-or ndarrays with different lengths or shapes) is deprecated. If you meant to do this, you must specify 'dtype=object' when creating the ndarray\n",
      "/usr/local/lib/python3.7/dist-packages/ipykernel_launcher.py:23: VisibleDeprecationWarning: Creating an ndarray from ragged nested sequences (which is a list-or-tuple of lists-or-tuples-or ndarrays with different lengths or shapes) is deprecated. If you meant to do this, you must specify 'dtype=object' when creating the ndarray\n",
      "/usr/local/lib/python3.7/dist-packages/ipykernel_launcher.py:24: UserWarning: To copy construct from a tensor, it is recommended to use sourceTensor.clone().detach() or sourceTensor.clone().detach().requires_grad_(True), rather than torch.tensor(sourceTensor).\n",
      "/usr/local/lib/python3.7/dist-packages/ipykernel_launcher.py:143: UserWarning: To copy construct from a tensor, it is recommended to use sourceTensor.clone().detach() or sourceTensor.clone().detach().requires_grad_(True), rather than torch.tensor(sourceTensor).\n",
      "/usr/local/lib/python3.7/dist-packages/ipykernel_launcher.py:44: VisibleDeprecationWarning: Creating an ndarray from ragged nested sequences (which is a list-or-tuple of lists-or-tuples-or ndarrays with different lengths or shapes) is deprecated. If you meant to do this, you must specify 'dtype=object' when creating the ndarray\n",
      "/usr/local/lib/python3.7/dist-packages/ipykernel_launcher.py:45: VisibleDeprecationWarning: Creating an ndarray from ragged nested sequences (which is a list-or-tuple of lists-or-tuples-or ndarrays with different lengths or shapes) is deprecated. If you meant to do this, you must specify 'dtype=object' when creating the ndarray\n"
     ]
    },
    {
     "name": "stdout",
     "output_type": "stream",
     "text": [
      "6.605509 6.036926\n",
      "5.8079176 5.6285377\n",
      "5.4917903 5.386539\n",
      "5.2910028 5.2191415\n",
      "5.1350737 5.08993\n",
      "5.003974 4.976812\n",
      "4.9085255 4.883917\n",
      "4.8088136 4.8086886\n",
      "4.736619 4.738762\n",
      "4.664216 4.6823406\n"
     ]
    }
   ],
   "source": [
    "def initialize_weights(m):\n",
    "    if hasattr(m, 'weight') and m.weight.dim() > 1:\n",
    "        nn.init.xavier_uniform_(m.weight.data)\n",
    "device_flag_gpu = True\n",
    "net = Translator(en_vocab, fa_vocab, emd_size_encoder, max_len, enc_layer, dec_layer,  num_heads_encoder, num_heads_decoder, dim_key, dim_value, dim_inner, 1)\n",
    "if False:\n",
    "    net.load_state_dict(torch.load('/content/gdrive/MyDrive/AFEC/netpart1v3'))\n",
    "    #net.eval()\n",
    "net.cuda()\n",
    "optimizer =  optim.Adam(net.parameters(), lr=lr, betas=Betas, eps = eps)\n",
    "loss = nn.CrossEntropyLoss(ignore_index=1)#\n",
    "trainlosslog = []\n",
    "validlosslog = []\n",
    "print(\"training loss, validation loss\")\n",
    "for j in range(10):\n",
    "    batchindxs = creat_minibatch(data.english_sentence, batch_size)\n",
    "    losslog = []\n",
    "    i = 0\n",
    "    #for i in range(9):\n",
    "    if True:\n",
    "        for batchindx in batchindxs[i*1000:min(len(batchindxs),i*1000+1000)]:\n",
    "            x1 = np.array(data.english_sentence)[batchindx]\n",
    "            x2 = np.array(data.persian_sentence)[batchindx]\n",
    "            l1 = np.max([len(t) for t in x1])\n",
    "            l2 = np.max([len(t) for t in x2])\n",
    "            x1, input_mask = padd(x1,max(l1,l2))\n",
    "            x2, output_mask = padd(x2,max(l1,l2), True)\n",
    "            out = net(torch.tensor(x1).cuda(),torch.tensor(np.array(x2)[:,:-1]).cuda(), input_mask.cuda(), output_mask.cuda())\n",
    "            #x = torch.argmax(out[0],dim = -1)\n",
    "            #print([data.indextovocab_fa[d] for d in x2[0]])\n",
    "            #print([data.indextovocab_fa[d] for d in x.tolist()])\n",
    "            out = loss(out.contiguous().reshape(-1, out.shape[2]),torch.tensor(np.array(x2)[:,1:]).contiguous().view(-1).long().cuda())\n",
    "            losslog.append(out.cpu().detach().numpy())\n",
    "            #print(losslog[-1])\n",
    "            optimizer.zero_grad()\n",
    "            out.backward()\n",
    "            torch.nn.utils.clip_grad_norm_(net.parameters(), 5)\n",
    "            optimizer.step()  \n",
    "        trainlosslog.append(np.mean(losslog))\n",
    "        torch.save(net.state_dict(), '/content/gdrive/MyDrive/AFEC/netpart1v1')\n",
    "        losslog = []\n",
    "        batchindxs = creat_minibatch(data.english_sentence_valid, batch_size)\n",
    "        for batchindx in batchindxs:\n",
    "            x1 = np.array(data.english_sentence_valid)[batchindx]\n",
    "            x2 = np.array(data.persian_sentence_valid)[batchindx]\n",
    "            l1 = np.max([len(t) for t in x1])\n",
    "            l2 = np.max([len(t) for t in x2])\n",
    "            x1, input_mask = padd(x1,max(l1,l2))\n",
    "            x2, output_mask = padd(x2,max(l1,l2), True)\n",
    "            out = net(torch.tensor(x1).cuda(),torch.tensor(x2)[:,:-1].cuda(), input_mask.cuda(), output_mask.cuda())\n",
    "            out = loss(out.contiguous().reshape(-1, out.shape[2]),torch.tensor(np.array(x2))[:,1:].contiguous().view(-1).long().cuda())\n",
    "            losslog.append(out.cpu().detach().numpy())\n",
    "            #optimizer.zero_grad()\n",
    "            #out.backward()\n",
    "            #optimizer.step()  \n",
    "        validlosslog.append(np.mean(losslog))\n",
    "        print(trainlosslog[-1], validlosslog[-1])"
   ]
  },
  {
   "cell_type": "code",
   "execution_count": null,
   "metadata": {
    "colab": {
     "base_uri": "https://localhost:8080/"
    },
    "id": "akv6Tbmgn09F",
    "outputId": "4285246a-2953-4ec4-a8ba-0b214237613e"
   },
   "outputs": [
    {
     "name": "stdout",
     "output_type": "stream",
     "text": [
      "training loss, validation loss\n"
     ]
    },
    {
     "name": "stderr",
     "output_type": "stream",
     "text": [
      "/usr/local/lib/python3.7/dist-packages/ipykernel_launcher.py:9: VisibleDeprecationWarning: Creating an ndarray from ragged nested sequences (which is a list-or-tuple of lists-or-tuples-or ndarrays with different lengths or shapes) is deprecated. If you meant to do this, you must specify 'dtype=object' when creating the ndarray\n",
      "  if __name__ == '__main__':\n",
      "/usr/local/lib/python3.7/dist-packages/ipykernel_launcher.py:10: VisibleDeprecationWarning: Creating an ndarray from ragged nested sequences (which is a list-or-tuple of lists-or-tuples-or ndarrays with different lengths or shapes) is deprecated. If you meant to do this, you must specify 'dtype=object' when creating the ndarray\n",
      "  # Remove the CWD from sys.path while we load stuff.\n",
      "/usr/local/lib/python3.7/dist-packages/ipykernel_launcher.py:24: UserWarning: To copy construct from a tensor, it is recommended to use sourceTensor.clone().detach() or sourceTensor.clone().detach().requires_grad_(True), rather than torch.tensor(sourceTensor).\n",
      "/usr/local/lib/python3.7/dist-packages/ipykernel_launcher.py:143: UserWarning: To copy construct from a tensor, it is recommended to use sourceTensor.clone().detach() or sourceTensor.clone().detach().requires_grad_(True), rather than torch.tensor(sourceTensor).\n",
      "/usr/local/lib/python3.7/dist-packages/ipykernel_launcher.py:31: VisibleDeprecationWarning: Creating an ndarray from ragged nested sequences (which is a list-or-tuple of lists-or-tuples-or ndarrays with different lengths or shapes) is deprecated. If you meant to do this, you must specify 'dtype=object' when creating the ndarray\n",
      "/usr/local/lib/python3.7/dist-packages/ipykernel_launcher.py:32: VisibleDeprecationWarning: Creating an ndarray from ragged nested sequences (which is a list-or-tuple of lists-or-tuples-or ndarrays with different lengths or shapes) is deprecated. If you meant to do this, you must specify 'dtype=object' when creating the ndarray\n"
     ]
    },
    {
     "name": "stdout",
     "output_type": "stream",
     "text": [
      "4.603183 4.618526\n",
      "4.552041 4.5696445\n",
      "4.507123 4.525364\n",
      "4.4501586 4.4880185\n",
      "4.4126444 4.448223\n",
      "4.374318 4.415291\n",
      "4.3477316 4.3834805\n",
      "4.3133225 4.354695\n",
      "4.27244 4.3241506\n",
      "4.249147 4.3024025\n"
     ]
    }
   ],
   "source": [
    "print(\"training loss, validation loss\")\n",
    "for j in range(10):\n",
    "    batchindxs = creat_minibatch(data.english_sentence, batch_size)\n",
    "    losslog = []\n",
    "    i = 0\n",
    "    #for i in range(9):\n",
    "    if True:\n",
    "        for batchindx in batchindxs[i*1000:min(len(batchindxs),i*1000+1000)]:\n",
    "            x1 = np.array(data.english_sentence)[batchindx]\n",
    "            x2 = np.array(data.persian_sentence)[batchindx]\n",
    "            l1 = np.max([len(t) for t in x1])\n",
    "            l2 = np.max([len(t) for t in x2])\n",
    "            x1, input_mask = padd(x1,max(l1,l2))\n",
    "            x2, output_mask = padd(x2,max(l1,l2), True)\n",
    "            out = net(torch.tensor(x1).cuda(),torch.tensor(np.array(x2)[:,:-1]).cuda(), input_mask.cuda(), output_mask.cuda())\n",
    "            #x = torch.argmax(out[0],dim = -1)\n",
    "            #print([data.indextovocab_fa[d] for d in x2[0]])\n",
    "            #print([data.indextovocab_fa[d] for d in x.tolist()])\n",
    "            out = loss(out.contiguous().reshape(-1, out.shape[2]),torch.tensor(np.array(x2)[:,1:]).contiguous().view(-1).long().cuda())\n",
    "            losslog.append(out.cpu().detach().numpy())\n",
    "            #print(losslog[-1])\n",
    "            optimizer.zero_grad()\n",
    "            out.backward()\n",
    "            torch.nn.utils.clip_grad_norm_(net.parameters(), 5)\n",
    "            optimizer.step()  \n",
    "        trainlosslog.append(np.mean(losslog))\n",
    "        torch.save(net.state_dict(), '/content/gdrive/MyDrive/AFEC/netpart1v1')\n",
    "        losslog = []\n",
    "        batchindxs = creat_minibatch(data.english_sentence_valid, batch_size)\n",
    "        for batchindx in batchindxs:\n",
    "            x1 = np.array(data.english_sentence_valid)[batchindx]\n",
    "            x2 = np.array(data.persian_sentence_valid)[batchindx]\n",
    "            l1 = np.max([len(t) for t in x1])\n",
    "            l2 = np.max([len(t) for t in x2])\n",
    "            x1, input_mask = padd(x1,max(l1,l2))\n",
    "            x2, output_mask = padd(x2,max(l1,l2), True)\n",
    "            out = net(torch.tensor(x1).cuda(),torch.tensor(x2)[:,:-1].cuda(), input_mask.cuda(), output_mask.cuda())\n",
    "            out = loss(out.contiguous().reshape(-1, out.shape[2]),torch.tensor(np.array(x2))[:,1:].contiguous().view(-1).long().cuda())\n",
    "            losslog.append(out.cpu().detach().numpy())\n",
    "            #optimizer.zero_grad()\n",
    "            #out.backward()\n",
    "            #optimizer.step()  \n",
    "        validlosslog.append(np.mean(losslog))\n",
    "        print(trainlosslog[-1], validlosslog[-1])"
   ]
  },
  {
   "cell_type": "code",
   "execution_count": 10,
   "metadata": {
    "colab": {
     "base_uri": "https://localhost:8080/"
    },
    "id": "nb9780Tr34EN",
    "outputId": "ad14c8ce-f731-4c0f-f76a-4922c31fcb40"
   },
   "outputs": [
    {
     "name": "stdout",
     "output_type": "stream",
     "text": [
      "training loss, validation loss\n"
     ]
    },
    {
     "name": "stderr",
     "output_type": "stream",
     "text": [
      "/usr/local/lib/python3.7/dist-packages/ipykernel_launcher.py:22: VisibleDeprecationWarning: Creating an ndarray from ragged nested sequences (which is a list-or-tuple of lists-or-tuples-or ndarrays with different lengths or shapes) is deprecated. If you meant to do this, you must specify 'dtype=object' when creating the ndarray\n",
      "/usr/local/lib/python3.7/dist-packages/ipykernel_launcher.py:23: VisibleDeprecationWarning: Creating an ndarray from ragged nested sequences (which is a list-or-tuple of lists-or-tuples-or ndarrays with different lengths or shapes) is deprecated. If you meant to do this, you must specify 'dtype=object' when creating the ndarray\n",
      "/usr/local/lib/python3.7/dist-packages/ipykernel_launcher.py:24: UserWarning: To copy construct from a tensor, it is recommended to use sourceTensor.clone().detach() or sourceTensor.clone().detach().requires_grad_(True), rather than torch.tensor(sourceTensor).\n",
      "/usr/local/lib/python3.7/dist-packages/ipykernel_launcher.py:143: UserWarning: To copy construct from a tensor, it is recommended to use sourceTensor.clone().detach() or sourceTensor.clone().detach().requires_grad_(True), rather than torch.tensor(sourceTensor).\n",
      "/usr/local/lib/python3.7/dist-packages/ipykernel_launcher.py:44: VisibleDeprecationWarning: Creating an ndarray from ragged nested sequences (which is a list-or-tuple of lists-or-tuples-or ndarrays with different lengths or shapes) is deprecated. If you meant to do this, you must specify 'dtype=object' when creating the ndarray\n",
      "/usr/local/lib/python3.7/dist-packages/ipykernel_launcher.py:45: VisibleDeprecationWarning: Creating an ndarray from ragged nested sequences (which is a list-or-tuple of lists-or-tuples-or ndarrays with different lengths or shapes) is deprecated. If you meant to do this, you must specify 'dtype=object' when creating the ndarray\n"
     ]
    },
    {
     "name": "stdout",
     "output_type": "stream",
     "text": [
      "4.1629777 4.2306204\n",
      "4.1382327 4.2060704\n",
      "4.113302 4.183423\n",
      "4.101529 4.1626916\n",
      "4.0613728 4.149841\n",
      "4.0474157 4.129931\n",
      "4.040091 4.117587\n",
      "4.0200977 4.100302\n",
      "4.003436 4.08969\n",
      "3.9869003 4.0732393\n",
      "3.976499 4.0586677\n",
      "3.962606 4.0491924\n",
      "3.9421673 4.03801\n",
      "3.9237266 4.025242\n",
      "3.909819 4.010239\n",
      "3.896168 4.0025134\n",
      "3.8919716 3.9888165\n",
      "3.8733382 3.9821463\n",
      "3.8630762 3.9676077\n",
      "3.84958 3.9634843\n",
      "3.8399556 3.9519587\n",
      "3.8257978 3.9424732\n",
      "3.822543 3.9292266\n",
      "3.8069646 3.9238892\n",
      "3.8040605 3.9127276\n",
      "3.7953365 3.905966\n",
      "3.7848058 3.9005654\n",
      "3.7667572 3.8904858\n",
      "3.7589753 3.8819628\n",
      "3.7574737 3.8741906\n"
     ]
    }
   ],
   "source": [
    "def initialize_weights(m):\n",
    "    if hasattr(m, 'weight') and m.weight.dim() > 1:\n",
    "        nn.init.xavier_uniform_(m.weight.data)\n",
    "device_flag_gpu = True\n",
    "net = Translator(en_vocab, fa_vocab, emd_size_encoder, max_len, enc_layer, dec_layer,  num_heads_encoder, num_heads_decoder, dim_key, dim_value, dim_inner, 1)\n",
    "if True:\n",
    "    net.load_state_dict(torch.load('/content/gdrive/MyDrive/AFEC/netpart1v1'))\n",
    "    #net.eval()\n",
    "net.cuda()\n",
    "optimizer =  optim.Adam(net.parameters(), lr=lr, betas=Betas, eps = eps)\n",
    "loss = nn.CrossEntropyLoss(ignore_index=1)#\n",
    "trainlosslog = []\n",
    "validlosslog = []\n",
    "print(\"training loss, validation loss\")\n",
    "for j in range(30):\n",
    "    batchindxs = creat_minibatch(data.english_sentence, batch_size)\n",
    "    losslog = []\n",
    "    i = 0\n",
    "    #for i in range(9):\n",
    "    if True:\n",
    "        for batchindx in batchindxs[i*1000:min(len(batchindxs),i*1000+1000)]:\n",
    "            x1 = np.array(data.english_sentence)[batchindx]\n",
    "            x2 = np.array(data.persian_sentence)[batchindx]\n",
    "            l1 = np.max([len(t) for t in x1])\n",
    "            l2 = np.max([len(t) for t in x2])\n",
    "            x1, input_mask = padd(x1,max(l1,l2))\n",
    "            x2, output_mask = padd(x2,max(l1,l2), True)\n",
    "            out = net(torch.tensor(x1).cuda(),torch.tensor(np.array(x2)[:,:-1]).cuda(), input_mask.cuda(), output_mask.cuda())\n",
    "            #x = torch.argmax(out[0],dim = -1)\n",
    "            #print([data.indextovocab_fa[d] for d in x2[0]])\n",
    "            #print([data.indextovocab_fa[d] for d in x.tolist()])\n",
    "            out = loss(out.contiguous().reshape(-1, out.shape[2]),torch.tensor(np.array(x2)[:,1:]).contiguous().view(-1).long().cuda())\n",
    "            losslog.append(out.cpu().detach().numpy())\n",
    "            #print(losslog[-1])\n",
    "            optimizer.zero_grad()\n",
    "            out.backward()\n",
    "            torch.nn.utils.clip_grad_norm_(net.parameters(), 5)\n",
    "            optimizer.step()  \n",
    "        trainlosslog.append(np.mean(losslog))\n",
    "        torch.save(net.state_dict(), '/content/gdrive/MyDrive/AFEC/netpart1v1')\n",
    "        losslog = []\n",
    "        batchindxs = creat_minibatch(data.english_sentence_valid, batch_size)\n",
    "        for batchindx in batchindxs:\n",
    "            x1 = np.array(data.english_sentence_valid)[batchindx]\n",
    "            x2 = np.array(data.persian_sentence_valid)[batchindx]\n",
    "            l1 = np.max([len(t) for t in x1])\n",
    "            l2 = np.max([len(t) for t in x2])\n",
    "            x1, input_mask = padd(x1,max(l1,l2))\n",
    "            x2, output_mask = padd(x2,max(l1,l2), True)\n",
    "            out = net(torch.tensor(x1).cuda(),torch.tensor(x2)[:,:-1].cuda(), input_mask.cuda(), output_mask.cuda())\n",
    "            out = loss(out.contiguous().reshape(-1, out.shape[2]),torch.tensor(np.array(x2))[:,1:].contiguous().view(-1).long().cuda())\n",
    "            losslog.append(out.cpu().detach().numpy())\n",
    "            #optimizer.zero_grad()\n",
    "            #out.backward()\n",
    "            #optimizer.step()  \n",
    "        validlosslog.append(np.mean(losslog))\n",
    "        print(trainlosslog[-1], validlosslog[-1])"
   ]
  },
  {
   "cell_type": "code",
   "execution_count": 17,
   "metadata": {
    "colab": {
     "base_uri": "https://localhost:8080/",
     "height": 642
    },
    "id": "LR43bh-n6JtY",
    "outputId": "761f1762-7c58-43ee-e045-7aad8c76d696"
   },
   "outputs": [
    {
     "name": "stdout",
     "output_type": "stream",
     "text": [
      "training loss, validation loss\n"
     ]
    },
    {
     "name": "stderr",
     "output_type": "stream",
     "text": [
      "/usr/local/lib/python3.7/dist-packages/ipykernel_launcher.py:9: VisibleDeprecationWarning: Creating an ndarray from ragged nested sequences (which is a list-or-tuple of lists-or-tuples-or ndarrays with different lengths or shapes) is deprecated. If you meant to do this, you must specify 'dtype=object' when creating the ndarray\n",
      "  if __name__ == '__main__':\n",
      "/usr/local/lib/python3.7/dist-packages/ipykernel_launcher.py:10: VisibleDeprecationWarning: Creating an ndarray from ragged nested sequences (which is a list-or-tuple of lists-or-tuples-or ndarrays with different lengths or shapes) is deprecated. If you meant to do this, you must specify 'dtype=object' when creating the ndarray\n",
      "  # Remove the CWD from sys.path while we load stuff.\n",
      "/usr/local/lib/python3.7/dist-packages/ipykernel_launcher.py:24: UserWarning: To copy construct from a tensor, it is recommended to use sourceTensor.clone().detach() or sourceTensor.clone().detach().requires_grad_(True), rather than torch.tensor(sourceTensor).\n",
      "/usr/local/lib/python3.7/dist-packages/ipykernel_launcher.py:143: UserWarning: To copy construct from a tensor, it is recommended to use sourceTensor.clone().detach() or sourceTensor.clone().detach().requires_grad_(True), rather than torch.tensor(sourceTensor).\n",
      "/usr/local/lib/python3.7/dist-packages/ipykernel_launcher.py:31: VisibleDeprecationWarning: Creating an ndarray from ragged nested sequences (which is a list-or-tuple of lists-or-tuples-or ndarrays with different lengths or shapes) is deprecated. If you meant to do this, you must specify 'dtype=object' when creating the ndarray\n",
      "/usr/local/lib/python3.7/dist-packages/ipykernel_launcher.py:32: VisibleDeprecationWarning: Creating an ndarray from ragged nested sequences (which is a list-or-tuple of lists-or-tuples-or ndarrays with different lengths or shapes) is deprecated. If you meant to do this, you must specify 'dtype=object' when creating the ndarray\n"
     ]
    },
    {
     "name": "stdout",
     "output_type": "stream",
     "text": [
      "3.7408187 3.86966\n",
      "3.736122 3.859322\n",
      "3.7253513 3.8602338\n",
      "3.728601 3.8479128\n",
      "3.71042 3.840699\n",
      "3.713331 3.8318815\n",
      "3.692646 3.8254516\n",
      "3.6893709 3.8190253\n",
      "3.6864614 3.8157592\n",
      "3.6694202 3.8079767\n",
      "3.6597285 3.8016586\n",
      "3.6597626 3.791722\n",
      "3.6495981 3.7884266\n",
      "3.6391022 3.7820723\n"
     ]
    },
    {
     "ename": "KeyboardInterrupt",
     "evalue": "ignored",
     "output_type": "error",
     "traceback": [
      "\u001b[0;31m---------------------------------------------------------------------------\u001b[0m",
      "\u001b[0;31mKeyboardInterrupt\u001b[0m                         Traceback (most recent call last)",
      "\u001b[0;32m<ipython-input-17-41b8b70ac916>\u001b[0m in \u001b[0;36m<module>\u001b[0;34m()\u001b[0m\n\u001b[1;32m      8\u001b[0m         \u001b[0;32mfor\u001b[0m \u001b[0mbatchindx\u001b[0m \u001b[0;32min\u001b[0m \u001b[0mbatchindxs\u001b[0m\u001b[0;34m[\u001b[0m\u001b[0mi\u001b[0m\u001b[0;34m*\u001b[0m\u001b[0;36m1000\u001b[0m\u001b[0;34m:\u001b[0m\u001b[0mmin\u001b[0m\u001b[0;34m(\u001b[0m\u001b[0mlen\u001b[0m\u001b[0;34m(\u001b[0m\u001b[0mbatchindxs\u001b[0m\u001b[0;34m)\u001b[0m\u001b[0;34m,\u001b[0m\u001b[0mi\u001b[0m\u001b[0;34m*\u001b[0m\u001b[0;36m1000\u001b[0m\u001b[0;34m+\u001b[0m\u001b[0;36m1000\u001b[0m\u001b[0;34m)\u001b[0m\u001b[0;34m]\u001b[0m\u001b[0;34m:\u001b[0m\u001b[0;34m\u001b[0m\u001b[0;34m\u001b[0m\u001b[0m\n\u001b[1;32m      9\u001b[0m             \u001b[0mx1\u001b[0m \u001b[0;34m=\u001b[0m \u001b[0mnp\u001b[0m\u001b[0;34m.\u001b[0m\u001b[0marray\u001b[0m\u001b[0;34m(\u001b[0m\u001b[0mdata\u001b[0m\u001b[0;34m.\u001b[0m\u001b[0menglish_sentence\u001b[0m\u001b[0;34m)\u001b[0m\u001b[0;34m[\u001b[0m\u001b[0mbatchindx\u001b[0m\u001b[0;34m]\u001b[0m\u001b[0;34m\u001b[0m\u001b[0;34m\u001b[0m\u001b[0m\n\u001b[0;32m---> 10\u001b[0;31m             \u001b[0mx2\u001b[0m \u001b[0;34m=\u001b[0m \u001b[0mnp\u001b[0m\u001b[0;34m.\u001b[0m\u001b[0marray\u001b[0m\u001b[0;34m(\u001b[0m\u001b[0mdata\u001b[0m\u001b[0;34m.\u001b[0m\u001b[0mpersian_sentence\u001b[0m\u001b[0;34m)\u001b[0m\u001b[0;34m[\u001b[0m\u001b[0mbatchindx\u001b[0m\u001b[0;34m]\u001b[0m\u001b[0;34m\u001b[0m\u001b[0;34m\u001b[0m\u001b[0m\n\u001b[0m\u001b[1;32m     11\u001b[0m             \u001b[0ml1\u001b[0m \u001b[0;34m=\u001b[0m \u001b[0mnp\u001b[0m\u001b[0;34m.\u001b[0m\u001b[0mmax\u001b[0m\u001b[0;34m(\u001b[0m\u001b[0;34m[\u001b[0m\u001b[0mlen\u001b[0m\u001b[0;34m(\u001b[0m\u001b[0mt\u001b[0m\u001b[0;34m)\u001b[0m \u001b[0;32mfor\u001b[0m \u001b[0mt\u001b[0m \u001b[0;32min\u001b[0m \u001b[0mx1\u001b[0m\u001b[0;34m]\u001b[0m\u001b[0;34m)\u001b[0m\u001b[0;34m\u001b[0m\u001b[0;34m\u001b[0m\u001b[0m\n\u001b[1;32m     12\u001b[0m             \u001b[0ml2\u001b[0m \u001b[0;34m=\u001b[0m \u001b[0mnp\u001b[0m\u001b[0;34m.\u001b[0m\u001b[0mmax\u001b[0m\u001b[0;34m(\u001b[0m\u001b[0;34m[\u001b[0m\u001b[0mlen\u001b[0m\u001b[0;34m(\u001b[0m\u001b[0mt\u001b[0m\u001b[0;34m)\u001b[0m \u001b[0;32mfor\u001b[0m \u001b[0mt\u001b[0m \u001b[0;32min\u001b[0m \u001b[0mx2\u001b[0m\u001b[0;34m]\u001b[0m\u001b[0;34m)\u001b[0m\u001b[0;34m\u001b[0m\u001b[0;34m\u001b[0m\u001b[0m\n",
      "\u001b[0;31mKeyboardInterrupt\u001b[0m: "
     ]
    }
   ],
   "source": [
    "print(\"training loss, validation loss\")\n",
    "for j in range(20):\n",
    "    batchindxs = creat_minibatch(data.english_sentence, batch_size)\n",
    "    losslog = []\n",
    "    i = 0\n",
    "    #for i in range(9):\n",
    "    if True:\n",
    "        for batchindx in batchindxs[i*1000:min(len(batchindxs),i*1000+1000)]:\n",
    "            x1 = np.array(data.english_sentence)[batchindx]\n",
    "            x2 = np.array(data.persian_sentence)[batchindx]\n",
    "            l1 = np.max([len(t) for t in x1])\n",
    "            l2 = np.max([len(t) for t in x2])\n",
    "            x1, input_mask = padd(x1,max(l1,l2))\n",
    "            x2, output_mask = padd(x2,max(l1,l2), True)\n",
    "            out = net(torch.tensor(x1).cuda(),torch.tensor(np.array(x2)[:,:-1]).cuda(), input_mask.cuda(), output_mask.cuda())\n",
    "            #x = torch.argmax(out[0],dim = -1)\n",
    "            #print([data.indextovocab_fa[d] for d in x2[0]])\n",
    "            #print([data.indextovocab_fa[d] for d in x.tolist()])\n",
    "            out = loss(out.contiguous().reshape(-1, out.shape[2]),torch.tensor(np.array(x2)[:,1:]).contiguous().view(-1).long().cuda())\n",
    "            losslog.append(out.cpu().detach().numpy())\n",
    "            #print(losslog[-1])\n",
    "            optimizer.zero_grad()\n",
    "            out.backward()\n",
    "            torch.nn.utils.clip_grad_norm_(net.parameters(), 5)\n",
    "            optimizer.step()  \n",
    "        trainlosslog.append(np.mean(losslog))\n",
    "        torch.save(net.state_dict(), '/content/gdrive/MyDrive/AFEC/netpart1v1')\n",
    "        losslog = []\n",
    "        batchindxs = creat_minibatch(data.english_sentence_valid, batch_size)\n",
    "        for batchindx in batchindxs:\n",
    "            x1 = np.array(data.english_sentence_valid)[batchindx]\n",
    "            x2 = np.array(data.persian_sentence_valid)[batchindx]\n",
    "            l1 = np.max([len(t) for t in x1])\n",
    "            l2 = np.max([len(t) for t in x2])\n",
    "            x1, input_mask = padd(x1,max(l1,l2))\n",
    "            x2, output_mask = padd(x2,max(l1,l2), True)\n",
    "            out = net(torch.tensor(x1).cuda(),torch.tensor(x2)[:,:-1].cuda(), input_mask.cuda(), output_mask.cuda())\n",
    "            out = loss(out.contiguous().reshape(-1, out.shape[2]),torch.tensor(np.array(x2))[:,1:].contiguous().view(-1).long().cuda())\n",
    "            losslog.append(out.cpu().detach().numpy())\n",
    "            #optimizer.zero_grad()\n",
    "            #out.backward()\n",
    "            #optimizer.step()  \n",
    "        validlosslog.append(np.mean(losslog))\n",
    "        print(trainlosslog[-1], validlosslog[-1])"
   ]
  },
  {
   "cell_type": "code",
   "execution_count": null,
   "metadata": {
    "colab": {
     "base_uri": "https://localhost:8080/",
     "height": 281
    },
    "id": "0bxws_Auwyd_",
    "outputId": "018f2600-3861-4963-bf82-6429f382b786"
   },
   "outputs": [
    {
     "data": {
      "image/png": "[encoded data removed]",
      "text/plain": [
       "<Figure size 432x288 with 1 Axes>"
      ]
     },
     "metadata": {
      "needs_background": "light",
      "tags": []
     },
     "output_type": "display_data"
    }
   ],
   "source": [
    "plt.plot(trainlosslog, label = \"training loss (1000iterations)\")\n",
    "plt.plot(validlosslog, label = \"validation loss\")\n",
    "plt.title(\"Loss\")\n",
    "plt.legend()\n",
    "plt.show()"
   ]
  },
  {
   "cell_type": "code",
   "execution_count": 19,
   "metadata": {
    "colab": {
     "base_uri": "https://localhost:8080/",
     "height": 281
    },
    "id": "71E4ohsdUZRZ",
    "outputId": "3d5baea6-edd3-4aaf-df38-963db2c6eb0c"
   },
   "outputs": [
    {
     "data": {
      "image/png": "[encoded data removed]",
      "text/plain": [
       "<Figure size 432x288 with 1 Axes>"
      ]
     },
     "metadata": {
      "needs_background": "light",
      "tags": []
     },
     "output_type": "display_data"
    }
   ],
   "source": [
    "plt.plot([i+21 for i in range(len(trainlosslog))], trainlosslog, label = \"training loss (1000iterations)\")\n",
    "plt.plot([i+21 for i in range(len(validlosslog))],validlosslog, label = \"validation loss\")\n",
    "plt.title(\"Loss\")\n",
    "plt.legend()\n",
    "plt.show()"
   ]
  },
  {
   "cell_type": "markdown",
   "metadata": {
    "id": "Q86QTVg7uDwg"
   },
   "source": [
    "after 10000 iterations:"
   ]
  },
  {
   "cell_type": "code",
   "execution_count": 33,
   "metadata": {
    "colab": {
     "base_uri": "https://localhost:8080/"
    },
    "id": "x25HTSkaRlpC",
    "outputId": "862dc842-9100-4477-8aa3-c9785d67fb25"
   },
   "outputs": [
    {
     "name": "stdout",
     "output_type": "stream",
     "text": [
      "['<SOS>', 'i', 'think', 'we', 'rather', 'drive', 'back', 'at', '<UKN>', 'past', 'nine', 'then', 'we', 'will', 'arrive', 'at', 'hamburg', 'at', '<UKN>', 'past', 'ten', '<EOS>']\n",
      "['<SOS>', 'من', 'فکر', 'میکنم', 'بهتر', 'است', 'ساعت', 'نه', 'و', 'سی', 'و', 'سه', 'دقیقه', 'برگردیم', 'بنابرین', 'ساعت', 'ده', 'و', 'پنجاه', 'و', 'دو', 'دقیقه', 'به', 'هامبورگ', 'میرسیم', '<EOS>']\n",
      "['<SOS>', 'من', 'می', 'توانم', 'در', 'روز', '5', 'آوریل', 'در', '<UKN>', '<UKN>', '<UKN>', '<UKN>', '<UKN>', '<UKN>', '<UKN>', '<UKN>', '<UKN>', '<UKN>', '<UKN>', '<UKN>', '<UKN>', '<UKN>', '<UKN>', '<UKN>', '<UKN>', '<UKN>', '<UKN>', '<UKN>', '<UKN>', '<UKN>', '<UKN>', '<UKN>', '<UKN>', '<UKN>', '<UKN>', '<UKN>', '<UKN>', '<UKN>', '<UKN>', '<UKN>', '<UKN>', '<UKN>', '<UKN>', '<UKN>', '<UKN>', '<UKN>', '<UKN>', '<UKN>', '<UKN>', '<EOS>']\n",
      "____________\n",
      "['<SOS>', 'hello', 'should', 'we', 'go', 'by', 'car', 'to', 'hanover', '<EOS>']\n",
      "['<SOS>', 'سلام', 'آیا', 'باید', 'با', 'ماشین', 'به', 'هانوور', 'برویم', '؟', '<EOS>']\n",
      "['<SOS>', 'بله', 'ما', 'باید', 'به', 'ما', 'اجازه', 'دهیم', 'تا', 'به', 'کار', 'خود', 'را', 'به', 'دست', 'دهیم', 'تا', 'به', 'کار', 'خود', 'کمک', 'کنیم', 'تا', 'به', 'ما', 'کمک', 'کنیم', 'تا', 'به', 'آنها', 'کمک', 'کنیم', 'تا', 'به', 'آنها', 'کمک', 'کنیم', 'تا', 'به', 'ما', 'کمک', 'کنیم', '<EOS>']\n",
      "____________\n",
      "['<SOS>', 'yes', 'we', 'will', 'be', 'back', 'at', 'hamburg', 'at', 'five', 'past', 'ten', 'would', 'you', 'like', 'to', 'go', 'to', 'the', 'wienerwald', 'in', 'hanover', 'in', 'the', 'evening', '<EOS>']\n",
      "['<SOS>', 'بله', '،', 'ما', 'ده', 'و', 'پنج', 'دقیقه', 'در', 'هامبورگ', 'خواهیم_بود', 'آیا', 'دوست', 'داری', 'عصر', 'به', 'وینروالد', 'در', 'هانوور', 'بروی', '؟', '<EOS>']\n",
      "['<SOS>', 'بله', 'ما', 'در', 'روز', 'دوشنبه', 'در', 'روز', 'دوشنبه', 'در', 'روز', 'دوشنبه', 'در', 'روز', 'دوشنبه', 'در', '<UKN>', 'در', '<UKN>', 'در', '<UKN>', 'در', '<UKN>', 'در', '<UKN>', 'در', '<UKN>', 'در', '<UKN>', 'در', '<UKN>', '<UKN>', 'در', '<UKN>', '<UKN>', 'در', '<UKN>', '<UKN>', '<UKN>', '<UKN>', 'در', '<UKN>', '<UKN>', '<UKN>', '<UKN>', '<UKN>', 'در', '<UKN>', '<UKN>', '<UKN>', '<UKN>', '<EOS>']\n",
      "____________\n",
      "['<SOS>', 'okay', 'should', 'we', 'drive', 'back', 'on', 'friday', 'evening', '<EOS>']\n",
      "['<SOS>', 'باشه', '،', 'آیا', 'باید', 'عصر', 'جمعه', 'برگردیم', '؟', '<EOS>']\n",
      "['<SOS>', 'ما', 'باید', 'در', 'یک', 'روز', 'در', 'یک', 'روز', 'در', '<UKN>', '<UKN>', '<UKN>', '<UKN>', '<UKN>', '<UKN>', '<UKN>', '<UKN>', '<UKN>', '<UKN>', '<UKN>', '<UKN>', '<UKN>', '<UKN>', '<UKN>', '<UKN>', '<UKN>', '<UKN>', '<UKN>', '<UKN>', '<UKN>', '<UKN>', '<UKN>', '<UKN>', '<UKN>', '<UKN>', '<UKN>', '<UKN>', '<UKN>', '<UKN>', '<UKN>', '<UKN>', '<UKN>', '<UKN>', '<UKN>', '<UKN>', '<UKN>', '<UKN>', '<UKN>', '<UKN>', '<UKN>', '<UKN>', '<UKN>', '<EOS>']\n",
      "____________\n",
      "['<SOS>', 'okay', 'goodbye', '<EOS>']\n",
      "['<SOS>', 'باشه', '،', 'خداحافظ', '<EOS>']\n",
      "['<SOS>', 'بله', 'بله', 'بله', 'بله', 'بله', 'بله', 'بله', 'بله', 'بله', 'بله', 'بله', 'بله', 'بله', 'بله', 'بله', 'بله', 'بله', 'بله', 'بله', 'بله', 'بله', 'بله', 'بله', 'بله', 'بله', 'بله', 'بله', 'بله', 'بله', 'بله', 'بله', 'بله', 'بله', 'بله', 'بله', 'بله', 'بله', 'بله', 'بله', 'بله', 'بله', 'بله', 'بله', 'بله', 'بله', 'بله', 'بله', 'بله', 'بله', '<EOS>']\n",
      "____________\n",
      "['<SOS>', 'no', 'idea', 'we', 'will', 'see', 'it', 'does', 'not', 'matter', '<EOS>']\n",
      "['<SOS>', 'نظری', 'ندارم', 'یکدیگر', 'را', 'میبینیم', 'مهم', 'نیست', '<EOS>']\n",
      "['<SOS>', 'هیچ', 'کس', 'نمی', 'توانیم', 'به', 'این', 'دلیل', 'که', 'ما', 'نمی', 'توانیم', 'به', 'این', 'کار', 'را', 'نمی', 'توانیم', 'به', 'این', 'کار', 'نمی', 'توانیم', 'نمی', 'توانیم', 'به', 'این', 'کار', 'نمی', 'توانیم', 'نمی', 'توانیم', 'نمی', 'توانیم', 'نمی', 'توانیم', 'به', 'این', 'کار', 'را', 'نمی', 'دهیم', '<EOS>']\n",
      "____________\n",
      "['<SOS>', 'i', 'will', 'book', 'the', 'hotelroom', '<EOS>']\n",
      "['<SOS>', 'من', 'اتاق', 'هتل', 'را', 'رزرو', 'خواهم_کرد', '<EOS>']\n",
      "['<SOS>', 'من', 'در', 'این', 'کار', 'را', 'به', 'من', 'می', 'دهم', 'تا', 'از', 'این', 'کار', 'کنم', 'و', 'من', 'به', 'من', '<UKN>', 'کنم', 'کنم', 'کنم', 'کنم', 'کنم', 'من', 'را', 'دارم', 'کنم', 'کنم', 'کنم', 'کنم', 'کنم', 'کنم', 'کنم', 'کنم', 'کنم', 'کنم', 'کنم', 'کنم', 'کنم', 'کنم', 'کنم', 'کنم', 'کنم', 'کنم', 'کنم', 'کنم', 'کنم', 'کنم', 'کنم', '<EOS>']\n",
      "____________\n",
      "['<SOS>', 'i', 'would', 'suggest', 'the', 'stadthotel', 'because', 'it', 'is', 'the', 'cheapest', 'one', '<EOS>']\n",
      "['<SOS>', 'من', 'استدهتل', 'را', 'پیشنهاد', 'میکردم', '،', 'زیرا', 'ارزانترین', 'است', '<EOS>']\n",
      "['<SOS>', 'من', 'فکر', 'می', 'کنم', 'که', 'این', 'کار', 'را', 'به', 'این', 'دلیل', 'است', 'که', 'این', 'کار', 'را', 'به', 'این', 'دلیل', 'است', 'که', 'این', 'کار', 'را', 'به', 'این', 'دلیل', 'است', 'که', 'این', 'کار', 'را', 'می', 'کنم', 'این', 'است', 'که', 'این', 'کار', 'را', 'به', 'این', 'کار', 'می', 'کند', '<EOS>']\n",
      "____________\n",
      "['<SOS>', 'where', 'should', 'we', 'meet', '<EOS>']\n",
      "['<SOS>', 'کجا', 'باید', 'ملاقات', 'کنیم', '؟', '<EOS>']\n",
      "['<SOS>', 'ما', 'باید', 'در', 'یک', 'مدرسه', 'را', 'در', '<UKN>', 'کنیم', 'ما', 'را', 'به', 'ما', 'می', 'توانیم', 'کنیم', 'و', 'ما', 'باید', 'ما', 'را', 'به', 'ما', 'کمک', 'کنیم', 'کنیم', 'ما', 'باید', 'ما', 'را', 'به', 'ما', 'کمک', 'کنیم', 'کنیم', 'کنیم', 'کنیم', 'ما', 'را', 'کنیم', 'کنیم', 'ما', 'کنیم', 'ما', 'را', 'کنیم', 'کنیم', 'کنیم', 'کنیم', 'ما', 'را', 'کنیم', 'کنیم', 'ما', 'را', 'کنیم', 'کنیم', 'کنیم', 'کنیم', 'ما', 'را', 'ما', 'را', 'کنیم', 'کنیم', 'کنیم', 'کنیم', 'کنیم', 'کنیم', 'کنیم', 'کنیم', 'کنیم', 'کنیم', '<EOS>']\n",
      "____________\n",
      "['<SOS>', 'do', 'you', 'know', 'a', 'restaurant', 'in', 'hanover', 'for', 'i', 'do', 'not', 'know', 'any', '<EOS>']\n",
      "['<SOS>', 'آیا', 'در', 'هانوور', 'رستورانی', '<UKN>', '؟', 'چون', 'من', 'هیچی', '<UKN>', '<EOS>']\n",
      "['<SOS>', 'شما', 'می', 'توانید', 'در', 'یک', 'کار', 'در', 'یک', 'کار', 'در', 'یک', 'مورد', 'استفاده', 'قرار', 'می', 'دهد', 'که', 'من', 'نمی', 'توانم', 'نمی', 'توانم', 'بگویم', 'که', 'من', 'نمی', 'توانم', 'بگویم', 'که', 'من', 'نمی', 'توانم', 'را', 'نمی', 'توانم', 'نمی', 'کنم', 'که', 'من', 'نمی', 'توانم', 'نمی', 'توانم', 'را', 'نمی', 'کنم', '<EOS>']\n",
      "____________\n"
     ]
    }
   ],
   "source": [
    "for _ in range(10):\n",
    "    i = np.random.choice([i for i in range(len(data.test))])\n",
    "    print([data.indextovocab_en[d] for d in data.test[i]])\n",
    "    print([data.indextovocab_fa[d] for d in data.test_fa0[i]])\n",
    "    out = net.greedy_search(data.test[i],len(data.test[i]))\n",
    "    print([data.indextovocab_fa[d] for d in out])\n",
    "    print(\"____________\")"
   ]
  },
  {
   "cell_type": "markdown",
   "metadata": {
    "id": "jb3zqggl7FkL"
   },
   "source": [
    "after 64000 iteration:"
   ]
  },
  {
   "cell_type": "code",
   "execution_count": 20,
   "metadata": {
    "id": "Gy7uJEDw7E6G"
   },
   "outputs": [],
   "source": [
    "test_index = np.random.choice([i for i in range(len(data.test))], 10)"
   ]
  },
  {
   "cell_type": "code",
   "execution_count": 21,
   "metadata": {
    "colab": {
     "base_uri": "https://localhost:8080/"
    },
    "id": "N_VT1ywt7MqA",
    "outputId": "44dc2be2-95b3-4f6c-a435-c229af7afbd5"
   },
   "outputs": [
    {
     "data": {
      "text/plain": [
       "array([130, 225, 102, 113,  42, 141, 189, 233, 102,   0])"
      ]
     },
     "execution_count": 21,
     "metadata": {
      "tags": []
     },
     "output_type": "execute_result"
    }
   ],
   "source": [
    "test_index"
   ]
  },
  {
   "cell_type": "code",
   "execution_count": 28,
   "metadata": {
    "colab": {
     "base_uri": "https://localhost:8080/"
    },
    "id": "yrRQwbg2Pf0U",
    "outputId": "4ffc6e16-0156-411b-bd77-271168f97e7f"
   },
   "outputs": [
    {
     "name": "stdout",
     "output_type": "stream",
     "text": [
      "['<SOS>', 'i', 'agree', 'we', 'need', 'a', 'hotel', 'in', 'hanover', '<EOS>']\n",
      "['<SOS>', 'موافقم', 'ما', 'در', 'هانوور', 'به', 'یک', 'هتل', 'احتیاج', 'داریم', '<EOS>']\n",
      "['<SOS>', 'من', 'در', 'هتل', '<UKN>', 'در', 'هتل', '<UKN>', '<UKN>', 'می', 'بینم', 'که', 'ما', 'در', 'هتل', 'داریم', 'یک', 'هتل', 'داریم', 'و', 'یک', 'هتل', 'داریم', '<EOS>']\n",
      "____________\n",
      "['<SOS>', 'let', 'us', 'take', 'the', 'train', 'at', 'nine', '<UKN>', '<EOS>']\n",
      "['<SOS>', 'اجازه', 'دهید', 'قطار', 'ساعت', 'نه', 'را', 'بگیریم', '<EOS>']\n",
      "['<SOS>', 'ایالات', 'متحده', 'آمریکا', '<UKN>', 'را', 'به', 'یاد', 'آوردن', 'امکان', 'کار', 'در', '<UKN>', '<UKN>', '<UKN>', '<UKN>', '<UKN>', '<UKN>', '<UKN>', '<UKN>', '<UKN>', '<UKN>', '<UKN>', '<UKN>', '<UKN>', '<UKN>', '<UKN>', '<UKN>', '<UKN>', '<UKN>', '<UKN>', '<UKN>', '<UKN>', '<UKN>', '<UKN>', '<UKN>', '<UKN>', '<UKN>', '<UKN>', '<UKN>', '<UKN>', '<UKN>', '<UKN>', '<UKN>', '<UKN>', '<UKN>', '<UKN>', '<UKN>', '<UKN>', '<UKN>', '<UKN>', '<UKN>', '<UKN>', '<UKN>', '<UKN>', '<UKN>', '<UKN>', '<UKN>', '<UKN>', '<UKN>', '<UKN>', '<UKN>', '<UKN>', '<UKN>', '<UKN>', '<UKN>', '<UKN>', '<UKN>', '<UKN>', '<UKN>', '<UKN>', '<UKN>', '<UKN>', '<UKN>', '<UKN>', '<UKN>', '<UKN>', '<UKN>', '<UKN>', '<UKN>', '<UKN>', '<UKN>', '<UKN>', '<UKN>', '<UKN>', '<UKN>', '<UKN>', '<UKN>', '<UKN>', '<UKN>', '<UKN>', '<UKN>', '<UKN>', '<UKN>', '<UKN>', '<UKN>', '<UKN>', '<UKN>', '<UKN>', '<UKN>', '<UKN>', '<UKN>', '<UKN>', '<UKN>', '<UKN>', '<UKN>', '<UKN>', '<UKN>', '<UKN>', '<UKN>', '<UKN>', '<UKN>', '<UKN>', '<UKN>', '<UKN>', '<UKN>', '<UKN>', '<UKN>', '<UKN>', '<UKN>', '<UKN>', '<UKN>', '<UKN>', '<UKN>', '<UKN>', '<UKN>', '<UKN>', '<UKN>', '<UKN>', '<UKN>', '<UKN>', '<UKN>', '<UKN>', '<UKN>', '<UKN>', '<UKN>', '<UKN>', '<UKN>']\n",
      "____________\n",
      "['<SOS>', 'would', 'you', 'like', 'to', 'do', 'something', 'in', 'the', 'evening', '<EOS>']\n",
      "['<SOS>', 'آیا', 'عصر', 'دوست', 'دارید', 'کاری', 'انجام', 'دهید', '؟', '<EOS>']\n",
      "['<SOS>', 'اگر', 'شما', 'در', 'عصر', 'کاری', 'انجام', 'دهید', 'انجام', 'می', 'دهید', 'کاری', 'که', 'در', 'عصر', 'روز', 'شنبه', 'انجام', 'می', 'دهند', 'انجام', 'می', 'دهند', 'انجام', 'می', 'دهند', 'انجام', 'می', 'دهد', 'که', 'چه', 'کاری', 'انجام', 'می', 'دهد', 'انجام', 'می', 'دهد', '<EOS>']\n",
      "____________\n",
      "['<SOS>', 'where', 'should', 'we', 'meet', '<EOS>']\n",
      "['<SOS>', 'کجا', 'باید', 'ملاقات', 'کنیم', '؟', '<EOS>']\n",
      "['<SOS>', 'ما', 'باید', 'باید', 'همدیگر', 'را', 'ببینیم', 'که', 'ما', 'باید', 'به', 'طور', 'مستقیم', 'به', 'آن', 'باشیم', 'که', 'ما', 'باید', 'در', 'آنجا', 'هستیم', 'و', 'به', 'طور', 'مستقیم', 'می', 'کنیم', '<EOS>']\n",
      "____________\n",
      "['<SOS>', 'the', 'plane', 'arrives', 'in', 'hanover', 'at', 'twentyfive', 'past', 'twelve', '<EOS>']\n",
      "['<SOS>', 'هواپیما', 'دوازده', 'و', 'بیست', 'و', 'پنج', 'دقیقه', 'به', 'هانوور', 'خواهد_رسید', '<EOS>']\n",
      "['<SOS>', 'دوازده', 'تن', 'از', 'دوازده', 'تن', 'در', 'دوازده', 'و', 'نیم', 'گذشته', 'در', 'دوازده', 'مورد', 'از', 'خطوط', 'هوایی', 'در', 'زندان', 'ها', 'قرار', 'گرفتند', '<EOS>']\n",
      "____________\n",
      "['<SOS>', 'please', 'repeat', 'that', 'once', 'again', '<EOS>']\n",
      "['<SOS>', 'لطفا', 'یکبار', 'دیگر', 'آن', 'را', 'تکرار', 'کنید', '<EOS>']\n",
      "['<SOS>', 'این', 'اقدام', 'ها', 'زمانی', 'که', 'می', 'تواند', 'دوباره', 'به', 'این', 'کشور', 'کمک', 'کند', 'این', 'اقدام', 'ها', 'را', 'تکرار', 'می', 'کند', 'که', 'زمانی', 'که', 'یک', 'بار', 'دیگر', 'تکرار', 'می', 'شود', '<EOS>']\n",
      "____________\n",
      "['<SOS>', 'i', 'have', 'booked', 'two', 'single', 'rooms', 'one', 'for', 'me', 'and', 'one', 'for', 'you', '<EOS>']\n",
      "['<SOS>', 'دو', 'اتاق', '<UKN>', 'رزرو', 'کرده_ام', 'یکی', 'برای', 'من', 'و', 'یکی', 'برای', 'شما', '<EOS>']\n",
      "['<SOS>', 'من', 'یک', 'نفر', 'را', 'برای', 'یک', 'نفر', 'دارم', 'و', 'برای', 'یک', 'نفر', 'برای', 'شما', 'یک', 'نفر', 'و', 'یک', 'نفر', 'برای', 'شما', 'یک', 'نفر', 'برای', 'شما', 'یک', 'نفر', 'دارم', 'و', 'برای', 'یک', 'نفر', 'برای', 'شما', 'یک', 'نفر', 'برای', 'شما', 'یک', 'نفر', 'در', 'این', 'کار', 'دارم', '<EOS>']\n",
      "____________\n",
      "['<SOS>', 'that', 'is', 'perfect', 'then', 'we', 'have', 'talked', 'about', 'everything', 'goodbye', '<EOS>']\n",
      "['<SOS>', 'این', 'عالی', 'است', 'پس', 'راجع', 'به', 'همه', 'چیز', 'صحبت', 'کردیم', 'خداحافظ', '<EOS>']\n",
      "['<SOS>', 'پس', 'از', 'آن', 'چیزی', 'که', 'ما', 'در', 'مورد', 'آن', 'صحبت', 'کردیم', 'صحبت', 'می', 'کنیم', 'ما', 'در', 'مورد', 'آن', 'صحبت', 'می', 'کنیم', 'و', 'سپس', 'درباره', 'آن', 'صحبت', 'می', 'کنیم', 'که', 'ما', 'در', 'مورد', 'آن', 'هستیم', 'صحبت', 'می', 'کنیم', '<EOS>']\n",
      "____________\n",
      "['<SOS>', 'would', 'you', 'like', 'to', 'do', 'something', 'in', 'the', 'evening', '<EOS>']\n",
      "['<SOS>', 'آیا', 'عصر', 'دوست', 'دارید', 'کاری', 'انجام', 'دهید', '؟', '<EOS>']\n",
      "['<SOS>', 'اگر', 'شما', 'در', 'عصر', 'کاری', 'انجام', 'دهید', 'انجام', 'می', 'دهید', 'کاری', 'که', 'در', 'عصر', 'روز', 'شنبه', 'انجام', 'می', 'دهند', 'انجام', 'می', 'دهند', 'انجام', 'می', 'دهند', 'انجام', 'می', 'دهد', 'که', 'چه', 'کاری', 'انجام', 'می', 'دهد', 'انجام', 'می', 'دهد', '<EOS>']\n",
      "____________\n",
      "['<SOS>', 'hello', 'do', 'we', 'drive', 'together', 'to', 'hanover', 'on', 'the', '<UKN>', 'of', 'march', '<EOS>']\n",
      "['<SOS>', 'سلام', '،', 'آیا', 'روز', 'بیست', 'و', 'هشتم', 'مارچ', 'قرار', 'است', 'با', 'هم', 'تا', 'هانوور', 'رانندگی', 'کنیم', '؟', '<EOS>']\n",
      "['<SOS>', 'ما', 'قصد', 'داریم', 'تا', 'در', 'ماه', 'مارس', 'در', 'مورد', 'تلاش', 'برای', 'انجام', 'اقدام', 'ها', 'تروریستی', 'در', '<UKN>', '<UKN>', '<UKN>', '<UKN>', '<UKN>', '<UKN>', '<UKN>', '<UKN>', '<UKN>', '<UKN>', '<UKN>', '<UKN>', '<UKN>', '<UKN>', '<UKN>', '<UKN>', '<UKN>', '<UKN>', '<UKN>', '<UKN>', '<UKN>', '<UKN>', '<UKN>', '<UKN>', '<UKN>', '<UKN>', '<UKN>', '<UKN>', '<UKN>', '<UKN>', '<UKN>', '<UKN>', '<UKN>', '<UKN>', '<UKN>', '<UKN>', '<UKN>', '<UKN>', '<UKN>', '<UKN>', '<UKN>', '<UKN>', '<UKN>', '<UKN>', '<UKN>', '<UKN>', '<UKN>', '<UKN>', '<UKN>', '<UKN>', '<UKN>', '<UKN>', '<UKN>', '<UKN>', '<UKN>', '<UKN>', '<UKN>', '<UKN>', '<UKN>', '<UKN>', '<UKN>', '<UKN>', '<UKN>', '<UKN>', '<UKN>', '<UKN>', '<UKN>', '<UKN>', '<UKN>', '<UKN>', '<UKN>', '<UKN>', '<UKN>', '<UKN>', '<UKN>', '<UKN>', '<UKN>', '<UKN>', '<UKN>', '<UKN>', '<UKN>', '<UKN>', '<UKN>', '<UKN>', '<UKN>', '<UKN>', '<UKN>', '<UKN>', '<UKN>', '<UKN>', '<UKN>', '<UKN>', '<UKN>', '<UKN>', '<UKN>', '<UKN>', '<UKN>', '<UKN>', '<UKN>', '<UKN>', '<UKN>', '<UKN>', '<UKN>', '<UKN>', '<UKN>', '<UKN>', '<UKN>', '<UKN>', '<UKN>', '<UKN>', '<UKN>', '<UKN>', '<UKN>', '<UKN>', '<UKN>', '<UKN>', '<UKN>', '<UKN>', '<UKN>', '<UKN>', '<UKN>']\n",
      "____________\n"
     ]
    }
   ],
   "source": [
    "for i in test_index:\n",
    "    print([data.indextovocab_en[d] for d in data.test[i]])\n",
    "    print([data.indextovocab_fa[d] for d in data.test_fa0[i]])\n",
    "    out = net.greedy_search(data.test[i],len(data.test[i]))\n",
    "    print([data.indextovocab_fa[d] for d in out])\n",
    "    print(\"____________\")"
   ]
  },
  {
   "cell_type": "code",
   "execution_count": 30,
   "metadata": {
    "colab": {
     "base_uri": "https://localhost:8080/"
    },
    "id": "8auegDnvBZ7b",
    "outputId": "594eed2c-93c2-46d6-f889-b5e7a54b513e"
   },
   "outputs": [
    {
     "name": "stdout",
     "output_type": "stream",
     "text": [
      "0.022323224071226486\n",
      "0.885949177001538\n"
     ]
    }
   ],
   "source": [
    "ref = []\n",
    "hypo = []\n",
    "for i in range(len(data.test)):\n",
    "    if i in [39, 60, 99, 216, 250]:\n",
    "        continue\n",
    "    out = net.greedy_search(data.test[i],len(data.test[i]))\n",
    "    hypo.append(out)\n",
    "    ref.append([data.test_fa0[i],data.test_fa1[i],data.test_fa2[i],data.test_fa3[i]])\n",
    "print(bleu_score.corpus_bleu(ref, hypo))\n",
    "print(nist_score.corpus_nist(ref, hypo))"
   ]
  },
  {
   "cell_type": "markdown",
   "metadata": {
    "id": "nhVV0sy6NM9d"
   },
   "source": [
    "### Part 2:"
   ]
  },
  {
   "cell_type": "code",
   "execution_count": 43,
   "metadata": {
    "id": "_9vPVBPJyGE9"
   },
   "outputs": [],
   "source": [
    "class Data2:\n",
    "    def __init__(self, file_name):\n",
    "        self.english_sentence = []\n",
    "        self.persian_sentence = []\n",
    "        self.english_sentence_valid = []\n",
    "        self.persian_sentence_valid = []\n",
    "        self.test = []\n",
    "        self.test_fa2 = []\n",
    "        self.test_fa1 = []\n",
    "        self.test_fa0 = []\n",
    "        self.test_fa3 = []\n",
    "        self.max_len = 0\n",
    "        self.vocabtoindex_en  = {\"<SOS>\":0,\"<padd>\":1,\"<EOS>\":2, \"<UKN>\" : 3}\n",
    "        self.vocabtocount_en  = {}\n",
    "        self.indextovocab_en  = {0:\"<SOS>\",1:\"<padd>\",2:\"<EOS>\", 3: \"<UKN>\"}\n",
    "        self.vocabtocount_fa  = {}\n",
    "        self.vocabtoindex_fa  = {\"<SOS>\":0,\"<padd>\":1,\"<EOS>\":2, \"<UKN>\" : 3}\n",
    "        self.indextovocab_fa  = {0:\"<SOS>\",1:\"<padd>\",2:\"<EOS>\", 3: \"<UKN>\"}\n",
    "        validation = np.random.choice([9])\n",
    "        tokenizer_en = pyonmttok.Tokenizer(\"aggressive\", joiner_annotate=True, segment_numbers=True)\n",
    "        self.embedding_en = pyonmttok.BPELearner(tokenizer=tokenizer_en, symbols=37000)      \n",
    "        tokenizer_fa = pyonmttok.Tokenizer(\"aggressive\", joiner_annotate=True, segment_numbers=True)\n",
    "        self.embedding_fa = pyonmttok.BPELearner(tokenizer=tokenizer_fa, symbols=37000)\n",
    "        with open(file_name+\"AFEC-merged.en\", 'r') as file:\n",
    "            test_corpus = file.read()\n",
    "            for l in test_corpus.split(\"\\n\"):\n",
    "                self.embedding_en.ingest(l)\n",
    "            self.embedding_en = self.embedding_en.learn(\"/content/gdrive/MyDrive/AFEC/enmodel\")\n",
    "            self.embedding_en = pyonmttok.Tokenizer(\"aggressive\", bpe_model_path=\"/content/gdrive/MyDrive/AFEC/enmodel\", joiner_annotate=True, segment_numbers=True)\n",
    "        with open(file_name+\"AFEC-merged.fa\", 'r') as file:  \n",
    "            test_corpus = file.read()\n",
    "            for l in test_corpus.split(\"\\n\"):\n",
    "                self.embedding_fa.ingest(l)\n",
    "            self.embedding_fa = self.embedding_fa.learn(\"/content/gdrive/MyDrive/AFEC/famodel\")\n",
    "            self.embedding_fa = pyonmttok.Tokenizer(\"aggressive\", bpe_model_path=\"/content/gdrive/MyDrive/AFEC/famodel\", joiner_annotate=True, segment_numbers=True)\n",
    "        counter = 0\n",
    "        with open(file_name+\"AFEC-merged.en\", 'r') as file:\n",
    "            data = file.read().split(\"\\n\")\n",
    "            for d in data:\n",
    "                self.counter_en(d)\n",
    "        counter = 0\n",
    "        with open(file_name+\"AFEC-merged.en\", 'r') as file:\n",
    "            data = file.read().split(\"\\n\")\n",
    "            for d in data:\n",
    "                d = self.cleaner_en(d)\n",
    "                if counter % 10 == validation:\n",
    "                    self.english_sentence_valid.append(d)\n",
    "                else:\n",
    "                    self.english_sentence.append(d)\n",
    "                if len(d) > self.max_len:\n",
    "                    self.max_len = len(d)\n",
    "                counter = counter + 1\n",
    "        counter = 0\n",
    "        with open(file_name+\"AFEC-merged.fa\", 'r') as file:\n",
    "            data = file.read().split(\"\\n\")\n",
    "            for d in data:\n",
    "                self.counter_fa(d)\n",
    "        counter = 0\n",
    "        with open(file_name+\"AFEC-merged.fa\", 'r') as file:\n",
    "            data = file.read().split(\"\\n\")\n",
    "            for d in data:\n",
    "                d = self.cleaner_fa(d)\n",
    "                if counter % 10 == validation:\n",
    "                    self.persian_sentence_valid.append(d)\n",
    "                else:\n",
    "                    self.persian_sentence.append(d)\n",
    "                if len(d) > self.max_len:\n",
    "                    self.max_len = len(d)\n",
    "                counter = counter + 1\n",
    "        with open(file_name+\"/Test/test.en\", 'r') as file:\n",
    "            data = file.read().split(\"\\n\")\n",
    "            for d in data:\n",
    "                d = self.cleaner_en(d)\n",
    "                self.test.append(d)\n",
    "                if len(d)>self.max_len:\n",
    "                    self.max_len = len(d)\n",
    "        \n",
    "        with open(file_name+\"/Test/test.fa0\", 'r') as file:\n",
    "            data = file.read().split(\"\\n\")\n",
    "            for d in data:\n",
    "                d = self.cleaner_fa(d)\n",
    "                self.test_fa0.append(d)\n",
    "                if len(d)>self.max_len:\n",
    "                    self.max_len = len(d)\n",
    "        with open(file_name+\"/Test/test.fa1\", 'r') as file:\n",
    "            data = file.read().split(\"\\n\")\n",
    "            for d in data:\n",
    "                d = self.cleaner_fa(d)\n",
    "                self.test_fa1.append(d)\n",
    "                if len(d)>self.max_len:\n",
    "                    self.max_len = len(d)\n",
    "        with open(file_name+\"/Test/test.fa2\", 'r') as file:\n",
    "            data = file.read().split(\"\\n\")\n",
    "            for d in data:\n",
    "                d = self.cleaner_fa(d)\n",
    "                self.test_fa2.append(d)\n",
    "                if len(d)>self.max_len:\n",
    "                    self.max_len = len(d)\n",
    "        with open(file_name+\"/Test/test.fa3\", 'r') as file:\n",
    "            data = file.read().split(\"\\n\")\n",
    "            for d in data:\n",
    "                d = self.cleaner_fa(d)\n",
    "                self.test_fa3.append(d)\n",
    "                if len(d)>self.max_len:\n",
    "                    self.max_len = len(d)\n",
    "    def cleaner_en(self, text):\n",
    "        text = text.translate(str.maketrans('', '', string.punctuation))\n",
    "        text = text.lower().replace(\"  \", \" \").replace(\"  \", \" \")\n",
    "        token = self.embedding_en.tokenize(text)[0]\n",
    "        token.insert(0,\"<SOS>\")\n",
    "        token.append(\"<EOS>\")\n",
    "        tokens = []\n",
    "        for t in token:\n",
    "            if t not in self.vocabtocount_en or self.vocabtocount_en[t]> 10:\n",
    "                if t not in self.vocabtoindex_en:\n",
    "                    self.vocabtoindex_en[t] = len(self.vocabtoindex_en)\n",
    "                    self.indextovocab_en[len(self.indextovocab_en)] = t\n",
    "                tokens.append(self.vocabtoindex_en[t])\n",
    "            else:\n",
    "                tokens.append(3)\n",
    "        return np.array(tokens)\n",
    "    def counter_en(self, text):\n",
    "        text = text.translate(str.maketrans('', '', string.punctuation))\n",
    "        text = text.lower().replace(\"  \", \" \").replace(\"  \", \" \")\n",
    "        token = self.embedding_en.tokenize(text)[0]\n",
    "        token.insert(0,\"<SOS>\")\n",
    "        token.append(\"<EOS>\")\n",
    "        for t in token:\n",
    "            if t not in self.vocabtocount_en:\n",
    "                self.vocabtocount_en[t] = 0\n",
    "            else:\n",
    "                self.vocabtocount_en[t] = self.vocabtocount_en[t] + 1\n",
    "        return \n",
    "    def cleaner_fa(self, text):\n",
    "        text = text.translate(str.maketrans('', '', string.punctuation))\n",
    "        text = text.replace(\"  \", \" \").replace(\"  \", \" \").replace(\"\\u200c\",\" \").replace(\"\\xad\",\" \")\n",
    "        normalizer = Normalizer()\n",
    "        token = self.embedding_fa.tokenize(normalizer.normalize(text))[0]\n",
    "        token.insert(0,\"<SOS>\")\n",
    "        token.append(\"<EOS>\")\n",
    "        tokens = []\n",
    "        for t in token:\n",
    "            if t not in self.vocabtocount_fa or self.vocabtocount_fa[t] > 10:\n",
    "                if t not in self.vocabtoindex_fa:\n",
    "                    self.vocabtoindex_fa[t] = len(self.vocabtoindex_fa)\n",
    "                    self.indextovocab_fa[len(self.indextovocab_fa)] = t\n",
    "                tokens.append(self.vocabtoindex_fa[t])\n",
    "            else:\n",
    "                tokens.append(3)\n",
    "        return np.array(tokens)\n",
    "    def counter_fa(self, text):\n",
    "        text = text.translate(str.maketrans('', '', string.punctuation))\n",
    "        text = text.replace(\"  \", \" \").replace(\"  \", \" \").replace(\"\\u200c\",\" \").replace(\"\\xad\",\" \")\n",
    "        normalizer = Normalizer()\n",
    "        token = self.embedding_fa.tokenize(normalizer.normalize(text))[0]\n",
    "        token.insert(0,\"<SOS>\")\n",
    "        token.append(\"<EOS>\")\n",
    "        for t in token:\n",
    "            if t not in self.vocabtocount_fa:\n",
    "                self.vocabtocount_fa[t] = 0\n",
    "            else:\n",
    "                self.vocabtocount_fa[t] = self.vocabtocount_fa[t] + 1\n",
    "        return "
   ]
  },
  {
   "cell_type": "code",
   "execution_count": 45,
   "metadata": {
    "id": "V4y60sX-hGCG"
   },
   "outputs": [],
   "source": [
    "batch_size = 64\n",
    "emd_size_encoder = 256\n",
    "num_heads_encoder = 8\n",
    "emd_size_decoder = 256\n",
    "num_heads_decoder = 8\n",
    "dim_key = 64\n",
    "dim_value = 64\n",
    "dim_inner = 1024\n",
    "enc_layer = 3\n",
    "dec_layer = 3\n",
    "lr = 0.0001\n",
    "Betas=(0.9, 0.98)\n",
    "eps=1e-9\n",
    "en_vocab = len(data2.vocabtoindex_en)\n",
    "fa_vocab = len(data2.vocabtoindex_fa)\n",
    "max_len = data2.max_len"
   ]
  },
  {
   "cell_type": "code",
   "execution_count": 44,
   "metadata": {
    "id": "iL3zRYuCzsTW"
   },
   "outputs": [],
   "source": [
    "data2 = Data2(\"/content/gdrive/MyDrive/AFEC/\")"
   ]
  },
  {
   "cell_type": "code",
   "execution_count": null,
   "metadata": {
    "colab": {
     "base_uri": "https://localhost:8080/"
    },
    "id": "Bnqt1ibgmH_r",
    "outputId": "cf54f754-1470-4b2d-c336-9184d9199206"
   },
   "outputs": [
    {
     "name": "stdout",
     "output_type": "stream",
     "text": [
      "training loss, validation loss\n"
     ]
    },
    {
     "name": "stderr",
     "output_type": "stream",
     "text": [
      "/usr/local/lib/python3.7/dist-packages/ipykernel_launcher.py:23: VisibleDeprecationWarning: Creating an ndarray from ragged nested sequences (which is a list-or-tuple of lists-or-tuples-or ndarrays with different lengths or shapes) is deprecated. If you meant to do this, you must specify 'dtype=object' when creating the ndarray\n",
      "/usr/local/lib/python3.7/dist-packages/ipykernel_launcher.py:24: VisibleDeprecationWarning: Creating an ndarray from ragged nested sequences (which is a list-or-tuple of lists-or-tuples-or ndarrays with different lengths or shapes) is deprecated. If you meant to do this, you must specify 'dtype=object' when creating the ndarray\n",
      "/usr/local/lib/python3.7/dist-packages/ipykernel_launcher.py:24: UserWarning: To copy construct from a tensor, it is recommended to use sourceTensor.clone().detach() or sourceTensor.clone().detach().requires_grad_(True), rather than torch.tensor(sourceTensor).\n",
      "/usr/local/lib/python3.7/dist-packages/ipykernel_launcher.py:143: UserWarning: To copy construct from a tensor, it is recommended to use sourceTensor.clone().detach() or sourceTensor.clone().detach().requires_grad_(True), rather than torch.tensor(sourceTensor).\n",
      "/usr/local/lib/python3.7/dist-packages/ipykernel_launcher.py:45: VisibleDeprecationWarning: Creating an ndarray from ragged nested sequences (which is a list-or-tuple of lists-or-tuples-or ndarrays with different lengths or shapes) is deprecated. If you meant to do this, you must specify 'dtype=object' when creating the ndarray\n",
      "/usr/local/lib/python3.7/dist-packages/ipykernel_launcher.py:46: VisibleDeprecationWarning: Creating an ndarray from ragged nested sequences (which is a list-or-tuple of lists-or-tuples-or ndarrays with different lengths or shapes) is deprecated. If you meant to do this, you must specify 'dtype=object' when creating the ndarray\n"
     ]
    },
    {
     "name": "stdout",
     "output_type": "stream",
     "text": [
      "6.8819876 6.2448955\n",
      "6.050882 5.89783\n",
      "5.7756243 5.685952\n",
      "5.5836153 5.522482\n",
      "5.451088 5.404766\n",
      "5.3273573 5.2902484\n",
      "5.2216687 5.2062516\n",
      "5.133866 5.1075716\n",
      "5.0488253 5.023158\n",
      "4.959972 4.960394\n"
     ]
    }
   ],
   "source": [
    "def initialize_weights(m):\n",
    "    if hasattr(m, 'weight') and m.weight.dim() > 1:\n",
    "        nn.init.xavier_uniform_(m.weight.data)\n",
    "device_flag_gpu = True\n",
    "net = Translator(en_vocab, fa_vocab, emd_size_encoder, max_len, enc_layer, dec_layer,  num_heads_encoder, num_heads_decoder, dim_key, dim_value, dim_inner, 1)\n",
    "if False:\n",
    "    net.load_state_dict(torch.load('/content/gdrive/MyDrive/net'))\n",
    "    net.eval()\n",
    "net.cuda()\n",
    "net.apply(initialize_weights)\n",
    "optimizer =  optim.Adam(net.parameters(), lr=lr, betas=Betas, eps = eps)\n",
    "loss = nn.CrossEntropyLoss(ignore_index=1)#\n",
    "trainlosslog = []\n",
    "validlosslog = []\n",
    "print(\"training loss, validation loss\")\n",
    "for j in range(10):\n",
    "    batchindxs = creat_minibatch(data2.english_sentence, batch_size)\n",
    "    losslog = []\n",
    "    i = 0\n",
    "    if True:\n",
    "    #for i in range(9):\n",
    "        for batchindx in batchindxs[i*1000:min(len(batchindxs),i*1000+1000)]:\n",
    "            x1 = np.array(data2.english_sentence)[batchindx]\n",
    "            x2 = np.array(data2.persian_sentence)[batchindx]\n",
    "            l1 = np.max([len(t) for t in x1])\n",
    "            l2 = np.max([len(t) for t in x2])\n",
    "            x1, input_mask = padd(x1,max(l1,l2))\n",
    "            x2, output_mask = padd(x2,max(l1,l2), True)\n",
    "            out = net(torch.tensor(x1).cuda(),torch.tensor(np.array(x2)[:,:-1]).cuda(), input_mask.cuda(), output_mask.cuda())\n",
    "            #x = torch.argmax(out[0],dim = -1)\n",
    "            #print([data.indextovocab_fa[d] for d in x2[0]])\n",
    "            #print([data.indextovocab_fa[d] for d in x.tolist()])\n",
    "            out = loss(out.contiguous().reshape(-1, out.shape[2]),torch.tensor(np.array(x2)[:,1:]).contiguous().view(-1).long().cuda())\n",
    "            losslog.append(out.cpu().detach().numpy())\n",
    "            #print(losslog[-1])\n",
    "            optimizer.zero_grad()\n",
    "            out.backward()\n",
    "            torch.nn.utils.clip_grad_norm_(net.parameters(), 5)\n",
    "            optimizer.step()  \n",
    "        trainlosslog.append(np.mean(losslog))\n",
    "        torch.save(net.state_dict(), '/content/gdrive/MyDrive/AFEC/netpart2v3')\n",
    "        losslog = []\n",
    "        batchindxs = creat_minibatch(data2.english_sentence_valid, batch_size)\n",
    "        for batchindx in batchindxs:\n",
    "            x1 = np.array(data2.english_sentence_valid)[batchindx]\n",
    "            x2 = np.array(data2.persian_sentence_valid)[batchindx]\n",
    "            l1 = np.max([len(t) for t in x1])\n",
    "            l2 = np.max([len(t) for t in x2])\n",
    "            x1, input_mask = padd(x1,max(l1,l2))\n",
    "            x2, output_mask = padd(x2,max(l1,l2), True)\n",
    "            out = net(torch.tensor(x1).cuda(),torch.tensor(x2)[:,:-1].cuda(), input_mask.cuda(), output_mask.cuda())\n",
    "            out = loss(out.contiguous().reshape(-1, out.shape[2]),torch.tensor(np.array(x2))[:,1:].contiguous().view(-1).long().cuda())\n",
    "            losslog.append(out.cpu().detach().numpy())\n",
    "            #optimizer.zero_grad()\n",
    "            #out.backward()\n",
    "            #optimizer.step()  \n",
    "        validlosslog.append(np.mean(losslog))\n",
    "        print(trainlosslog[-1], validlosslog[-1])"
   ]
  },
  {
   "cell_type": "code",
   "execution_count": 47,
   "metadata": {
    "colab": {
     "base_uri": "https://localhost:8080/"
    },
    "id": "ZSzkFXCuyKUC",
    "outputId": "60f8a74e-e0bc-483c-a662-15d2c3406d1b"
   },
   "outputs": [
    {
     "name": "stdout",
     "output_type": "stream",
     "text": [
      "['<SOS>', 'fine', 'and', 'where', 'at', 'the', 'station', '<EOS>']\n",
      "['<SOS>', 'خوب', 'است', 'و', 'در', 'کجای', 'ایستگاه', '￭؟', '<EOS>']\n",
      "['<SOS>', 'و', 'این', 'یک', 'یک', 'است', 'که', 'در', 'حال', 'حاضر', 'است', 'که', 'در', 'حال', 'حاضر', 'یک', 'یک', 'یک', 'یک', 'یک', 'است', 'که', 'در', 'حال', 'حاضر', 'است', 'که', 'در', 'حال', 'حاضر', 'یک', 'یک', 'یک', 'یک', 'یک', 'یک', 'یک', 'است', 'که', 'در', 'یک', 'یک', 'یک', 'یک', 'یک', 'یک', 'یک', 'یک', 'یک', 'است', 'که', 'در', 'یک', 'چیزی', 'است', 'که', 'در', 'آن', 'است', 'که', 'در', 'آن', 'چیزی', 'است', 'که', 'می', '￭\\u200c￭', 'باشد', '<EOS>']\n",
      "____________\n",
      "['<SOS>', 'i', 'could', 'but', 'i', 'dont', 'do', 'it', '<EOS>']\n",
      "['<SOS>', 'من', 'میتوانستم', '￭،', 'اما', 'آن', 'را', 'انجام', '<UKN>', '<EOS>']\n",
      "['<SOS>', 'این', 'است', 'که', 'این', 'یک', 'است', 'که', 'این', 'یک', 'است', 'که', 'این', 'یک', 'یک', 'است', 'که', 'است', 'که', 'این', 'یک', 'یک', 'یک', 'است', 'که', 'است', 'که', 'این', 'یک', 'یک', 'یک', 'یک', 'یک', 'است', 'که', 'است', 'که', 'این', 'یک', 'یک', 'یک', 'یک', 'یک', 'است', 'که', 'است', 'که', 'این', 'یک', 'یک', 'است', 'که', 'این', 'یک', 'است', 'که', 'این', 'یک', 'است', 'که', 'این', 'یک', 'است', 'که', 'این', 'است', 'که', 'این', 'است', 'که', 'این', 'یک', 'است', 'که', 'این', 'یک', 'است', 'که', 'این', 'یک', 'است', 'که', 'این', 'یک', 'است', 'که', 'این', 'یک', 'است', 'است', 'است', 'است', 'است', 'است', '<EOS>']\n",
      "____________\n",
      "['<SOS>', 'i', 'have', 'booked', 'two', 'single', 'rooms', 'one', 'for', 'me', 'and', 'one', 'for', 'you', '<EOS>']\n",
      "['<SOS>', 'دو', 'اتاق', 'تکن￭', 'فره', 'رزرو', 'کرده', '￭\\u200c￭', 'ام', 'یکی', 'برای', 'من', 'و', 'یکی', 'برای', 'شما', '<EOS>']\n",
      "['<SOS>', 'این', 'یک', 'یک', 'است', 'که', 'یک', 'یک', 'یک', 'یک', 'است', 'که', 'برای', 'یک', 'یک', 'یک', 'یک', 'یک', 'یک', 'یک', 'یک', 'یک', 'است', 'که', 'برای', 'یک', 'یک', 'یک', 'یک', 'یک', 'یک', 'یک', 'یک', 'یک', 'یک', 'است', 'که', 'برای', 'یک', 'یک', 'یک', 'یک', 'یک', 'یک', 'یک', 'یک', 'یک', 'یک', 'است', 'که', 'است', 'که', 'می', '￭\\u200c￭', 'باشد', 'و', 'این', 'یک', 'یک', 'یک', 'یک', 'یک', 'یک', 'است', 'که', 'است', 'که', 'می', '￭\\u200c￭', 'باشد', '<EOS>']\n",
      "____________\n",
      "['<SOS>', 'on', 'wed￭', 'n￭', 'esday', 'we', 'will', 'go', 'back', 'by', 'train', 'to', 'ham￭', 'burg', '<EOS>']\n",
      "['<SOS>', 'چهارشنبه', 'با', 'قطار', 'به', 'هامبورگ', 'باز￭', 'خواهیم', 'گشت', '<EOS>']\n",
      "['<SOS>', 'او', 'گفت', 'که', 'این', 'است', 'که', 'این', 'است', 'که', 'این', 'است', 'که', 'در', 'این', 'زمینه', 'است', 'که', 'این', 'کار', 'را', 'به', 'یک', 'دلیل', 'است', 'که', 'در', 'این', 'زمینه', 'است', 'که', 'این', 'کار', 'را', 'به', 'یک', 'میلیارد', 'و', 'به', 'این', 'ترتیب', 'که', 'در', 'این', 'کار', 'خواهد', 'بود', 'که', 'این', 'کار', 'را', 'به', 'این', 'ترتیب', 'که', 'در', 'این', 'کار', 'خواهد', 'بود', '<EOS>']\n",
      "____________\n",
      "['<SOS>', 'thank', 'you', 'how', 'do', 'we', 'go', 'back', 'again', 'to', 'ham￭', 'burg', '<EOS>']\n",
      "['<SOS>', 'متشکرم', 'و', 'ما', 'چگونه', 'به', 'هامبورگ', 'باز￭', '<UKN>', '￭؟', '<EOS>']\n",
      "['<SOS>', 'به', 'این', 'دلیل', 'است', 'که', 'این', 'است', 'که', 'می', '￭\\u200c￭', 'توانید', 'که', 'این', 'است', 'که', 'می', '￭\\u200c￭', 'توانید', 'که', 'در', 'حال', 'حاضر', 'یک', 'است', 'که', 'در', 'حال', 'حاضر', 'است', 'که', 'در', 'حال', 'حاضر', 'است', 'که', 'در', 'حال', 'حاضر', 'است', 'که', 'در', 'حال', 'حاضر', 'است', 'که', 'به', 'این', 'است', 'که', 'می', '￭\\u200c￭', 'باشد', 'که', 'می', '￭\\u200c￭', 'توانید', 'می', '￭\\u200c￭', 'باشد', 'که', 'این', 'است', 'که', 'می', '￭\\u200c￭', 'توانید', 'می', '￭\\u200c￭', 'توانید', 'می', '￭\\u200c￭', 'باشد', '<EOS>']\n",
      "____________\n",
      "['<SOS>', 'i', 'did', 'not', 'understand', 'when', 'the', 'plane', 'leaves', 'han￭', 'over', 'and', 'when', 'it', 'is', 'supposed', 'to', 'arrive', 'at', 'ham￭', 'burg', '<EOS>']\n",
      "['<SOS>', 'من', 'نفهمیدم', 'که', 'چه', 'وقت', 'هواپیما', 'هانوور', 'را', 'ترک', 'میکند', 'و', 'چه', 'وقت', 'قرار', 'است', 'به', 'هامبورگ', 'برسد', '<EOS>']\n",
      "['<SOS>', 'این', 'یک', 'یک', 'یک', 'است', 'که', 'این', 'یک', 'یک', 'یک', 'یک', 'است', 'که', 'این', 'یک', 'یک', 'یک', 'است', 'که', 'این', 'یک', 'یک', 'یک', 'یک', 'یک', 'یک', 'یک', 'است', 'که', 'این', 'یک', 'یک', 'یک', 'یک', 'یک', 'یک', 'است', 'که', 'این', 'یک', 'یک', 'یک', 'یک', 'یک', 'یک', 'یک', 'است', 'که', 'است', 'که', 'این', 'یک', 'از', 'آن', 'است', 'که', 'این', 'یک', 'یک', 'یک', 'یک', 'یک', 'است', '<EOS>']\n",
      "____________\n",
      "['<SOS>', 'no', 'we', 'go', 'on', 'the', 'tw￭', 'ent￭', 'y￭', 'third', '<EOS>']\n",
      "['<SOS>', 'نه', '￭،', 'ما', 'بیست', 'و', 'سوم', 'اینجا', 'را', 'ترک', 'میکنیم', '<EOS>']\n",
      "['<SOS>', 'این', 'است', 'که', 'این', 'است', 'که', 'این', 'است', 'که', 'این', 'است', 'که', 'در', 'حال', 'حاضر', 'از', 'این', 'است', 'که', 'این', 'است', 'که', 'این', 'است', 'که', 'این', 'یک', 'از', 'این', 'است', 'که', 'این', 'است', 'که', 'این', 'یک', 'است', 'که', 'در', 'این', 'حال', 'حاضر', 'است', 'که', 'این', 'است', 'که', 'این', 'است', 'که', 'این', 'یک', 'است', 'که', 'این', 'است', 'که', 'این', 'است', 'که', 'این', 'است', 'که', 'این', 'است', '<EOS>']\n",
      "____________\n",
      "['<SOS>', 'if', 'we', 'take', 'the', 'ice', 'train', 'at', 'six', 'past', 'seven', 'we', 'will', 'arrive', 'at', 'tw￭', 'ent￭', 'y￭', 'five', 'past', 'eight', '<EOS>']\n",
      "['<SOS>', 'اگر', 'ما', 'ساعت', 'هفت', 'و', 'شش', 'دقیقه', 'سوار', 'قطار', 'آی', 'سی', 'اس', 'ای', 'شویم', '￭،', 'ساعت', 'هشت', 'و', 'بیست', 'و', 'پنج', 'دقیقه', 'یه', 'آنجا', 'خواهیم', 'رسید', '<EOS>']\n",
      "['<SOS>', 'او', 'گفت', 'که', 'این', 'یک', 'پروژه', 'است', 'که', 'این', 'یک', 'میلیارد', 'دلار', 'از', 'یک', 'میلیارد', 'دلار', 'است', 'و', 'گفت', 'که', 'این', 'یک', 'یک', 'میلیارد', 'دلار', 'از', 'این', 'کار', 'را', 'به', 'یک', 'میلیارد', 'دلار', 'می', '￭\\u200c￭', 'کند', 'و', 'این', 'کار', 'را', 'به', 'یک', 'میلیارد', 'دلار', 'می', '￭\\u200c￭', 'کند', '<EOS>']\n",
      "____________\n",
      "['<SOS>', 'i', 'prefer', 'the', 'plane', '<EOS>']\n",
      "['<SOS>', 'من', 'قطار', 'را', 'ترجیح', 'میدهم', '<EOS>']\n",
      "['<SOS>', 'این', 'است', 'که', 'من', 'یک', 'یک', 'برنامه', 'است', 'که', 'این', 'یک', 'یک', 'یک', 'یک', 'یک', 'است', 'که', 'می', '￭\\u200c￭', 'تواند', 'از', 'آن', 'است', 'که', 'این', 'یک', 'یک', 'یک', 'یک', 'یک', 'یک', 'یک', 'یک', 'یک', 'یک', 'است', 'که', 'می', '￭\\u200c￭', 'تواند', 'از', 'این', 'یک', 'یک', 'یک', 'یک', 'یک', 'یک', 'است', 'که', 'می', '￭\\u200c￭', 'باشد', 'که', 'این', 'یک', 'یک', 'یک', 'است', 'که', 'من', 'است', 'که', 'این', 'یک', 'یک', 'است', 'که', 'این', 'یک', 'یک', 'بار', 'است', '<EOS>']\n",
      "____________\n",
      "['<SOS>', 'let', 'us', 'take', 'the', 'train', 'at', 'nine', 'oc￭', 'lock', '<EOS>']\n",
      "['<SOS>', 'اجازه', 'دهید', 'قطار', 'ساعت', 'نه', 'را', 'بگیریم', '<EOS>']\n",
      "['<SOS>', 'پس', 'از', 'اینکه', 'شما', 'در', 'این', 'هفته', '￭\\u200c￭', 'ها', 'چه', 'چیزی', 'که', 'شما', 'در', 'این', 'کار', 'می', '￭\\u200c￭', 'کنید', 'که', 'شما', 'در', 'این', 'کار', 'می', '￭\\u200c￭', 'کنید', 'که', 'شما', 'در', 'این', 'کار', 'را', 'در', 'یک', 'هفته', 'آینده', 'است', 'که', 'شما', 'در', 'این', 'کار', 'می', '￭\\u200c￭', 'کنید', 'که', 'شما', 'در', 'این', 'کار', 'را', 'در', 'چه', 'چیزی', 'که', 'شما', 'در', 'این', 'کار', 'می', '￭\\u200c￭', 'توانید', 'شما', '<EOS>']\n",
      "____________\n"
     ]
    }
   ],
   "source": [
    "for _ in range(10):\n",
    "    i = np.random.choice([i for i in range(len(data2.test))])\n",
    "    print([data2.indextovocab_en[d] for d in data2.test[i]])\n",
    "    print([data2.indextovocab_fa[d] for d in data2.test_fa0[i]])\n",
    "    out = net.greedy_search(data2.test[i],len(data2.test[i]))\n",
    "    print([data2.indextovocab_fa[d] for d in out])\n",
    "    print(\"____________\")"
   ]
  },
  {
   "cell_type": "code",
   "execution_count": null,
   "metadata": {
    "colab": {
     "base_uri": "https://localhost:8080/",
     "height": 281
    },
    "id": "jU20B0-2-_65",
    "outputId": "79a3493c-77d9-4f72-862b-7c977ffae73b"
   },
   "outputs": [
    {
     "data": {
      "image/png": "[encoded data removed]",
      "text/plain": [
       "<Figure size 432x288 with 1 Axes>"
      ]
     },
     "metadata": {
      "needs_background": "light",
      "tags": []
     },
     "output_type": "display_data"
    }
   ],
   "source": [
    "plt.plot(trainlosslog, label = \"training loss (1000iterations)\")\n",
    "plt.plot(validlosslog, label = \"validation loss\")\n",
    "plt.title(\"Loss\")\n",
    "plt.legend()\n",
    "plt.show()"
   ]
  },
  {
   "cell_type": "code",
   "execution_count": null,
   "metadata": {
    "colab": {
     "base_uri": "https://localhost:8080/"
    },
    "id": "9HxpMVng8LVa",
    "outputId": "9ae903ee-026f-4221-ad17-7b46fe80f58d"
   },
   "outputs": [
    {
     "name": "stdout",
     "output_type": "stream",
     "text": [
      "['<SOS>', 'taji￭', 'ks', 'have', 'until', 'j￭', 'uly', '1', '2￭', '0￭', '0￭', '9', 'to', 'leg￭', 'al￭', 'ise', 'their', 'pro￭', 'per￭', 'ty', 'hol￭', 'd￭', 'ings', '<padd>', '<padd>', '<padd>', '<padd>', '<padd>', '<padd>', '<padd>', '<padd>', '<padd>', '<padd>', '<padd>', '<padd>', '<padd>', '<padd>', '<padd>', '<padd>', '<padd>', '<padd>', '<padd>', '<padd>', '<padd>', '<padd>', '<padd>', '<padd>', '<padd>', '<padd>', '<padd>', '<padd>', '<padd>', '<padd>', '<padd>', '<padd>', '<padd>', '<padd>', '<padd>', '<padd>', '<padd>', '<padd>', '<padd>', '<padd>', '<padd>', '<padd>', '<padd>', '<padd>', '<padd>', '<padd>', '<padd>', '<padd>', '<padd>', '<padd>', '<padd>', '<padd>', '<padd>', '<padd>', '<padd>', '<padd>', '<EOS>']\n",
      "['<SOS>', 'مردم', 'تاجیکستان', 'تا', 'اول', 'ژوئیه', 'سال', '۲￭', '۰￭', '۰￭', '۹', 'فرصت', 'دارند', 'تا', 'دارایی', '￭\\u200c￭', 'های', 'خود', 'را', 'قانونی', 'کنند', 'عقب', 'هستم', 'بغ￭', 'دود', 'دود', 'لغ￭', 'پزشکان', 'اهای', 'اهای', 'خواند', 'دید￭', 'ریت', 'اهای', 'انتحاری', 'ول', 'زمین', 'اهای', 'پوند', 'ساله', 'ساله', 'جنا￭', 'پوند', 'پوند', 'بالای', '<SOS>', 'زمان', 'علمی', 'بردی', 'بردی', 'پوند', 'جنا￭', 'قوی', 'بردی', 'بردی', 'کنندگان', 'سؤ￭', 'عقب', 'کور￭', '<SOS>', 'میلی￭', 'اطلا￭', 'چین', 's￭', 'بتوانند', 'شع￭', 'جنا￭', 'باعث', 'بردی', 'اطلا￭', 'چین', 'ول', 'بردی', 'یعنی', 'یعنی', 'امتیاز', 'آز￭', 'فاش', 'ثابت', '<EOS>']\n",
      "['<SOS>', 'ash￭', 'g￭', 'ab￭', 'at', 'the', 'tur￭', 'k￭', 'men', 'parliament', 'may', '4', 'pass￭', 'ed', 'an', 'education', 'bill', 'that', 'will', 'help', 'trans￭', 'f￭', 'er', 'tu￭', 'k￭', 'men', 'schools', 'to', 'a', '1￭', '2', 'year', 'system', 'from', 'the', 'current', '1￭', '0', 'year', 'system', 'tur￭', 'k￭', 'men￭', 'in￭', 'form￭', 'co￭', 'm', 'reported', 'may', '5', '<EOS>']\n",
      "['<SOS>', 'عشق', 'آباد', 'ترکمن', 'این￭', 'ف￭', 'و', '۵', 'مه', 'گزارش', 'داد', 'پارلمان', 'ترکمنستان', 'در', '۴', 'مه', 'یک', 'لایحه', 'آموزشی', 'به', 'تصویب', 'رسان￭', 'ده', 'است', 'که', 'به', 'موجب', 'آن', 'سیستم', 'مدرسه', '￭\\u200c￭', 'ها', 'این', 'کشور', 'که', 'اکنون', '۱￭', '۰', 'ساله', 'است', 'به', '۱￭', '۲', 'ساله', 'تبدیل', 'خواهد', 'شد', 'ثابت', '<SOS>', 'خواستار', '<EOS>']\n"
     ]
    },
    {
     "name": "stderr",
     "output_type": "stream",
     "text": [
      "/usr/local/lib/python3.7/dist-packages/ipykernel_launcher.py:2: VisibleDeprecationWarning: Creating an ndarray from ragged nested sequences (which is a list-or-tuple of lists-or-tuples-or ndarrays with different lengths or shapes) is deprecated. If you meant to do this, you must specify 'dtype=object' when creating the ndarray\n",
      "  \n",
      "/usr/local/lib/python3.7/dist-packages/ipykernel_launcher.py:3: VisibleDeprecationWarning: Creating an ndarray from ragged nested sequences (which is a list-or-tuple of lists-or-tuples-or ndarrays with different lengths or shapes) is deprecated. If you meant to do this, you must specify 'dtype=object' when creating the ndarray\n",
      "  This is separate from the ipykernel package so we can avoid doing imports until\n",
      "/usr/local/lib/python3.7/dist-packages/ipykernel_launcher.py:23: UserWarning: To copy construct from a tensor, it is recommended to use sourceTensor.clone().detach() or sourceTensor.clone().detach().requires_grad_(True), rather than torch.tensor(sourceTensor).\n"
     ]
    }
   ],
   "source": [
    "for batchindx in [[i for i in range(16)], [i+16 for i in range(16)]]:\n",
    "        x1 = np.array(data2.english_sentence_valid)[batchindx]\n",
    "        x2 = np.array(data2.persian_sentence_valid)[batchindx]\n",
    "        l1 = np.max([len(t) for t in x1])\n",
    "        l2 = np.max([len(t) for t in x2])\n",
    "        x1, input_mask = padd(x1,max(l1,l2))\n",
    "        x2, output_mask = padd(x2,max(l1,l2), True)\n",
    "        out = net(torch.tensor(x1).cuda(),torch.tensor(x2).cuda(), input_mask.cuda(), output_mask.cuda())\n",
    "        x = torch.argmax(out[0],dim = -1)\n",
    "        print([data2.indextovocab_en[d] for d in x1[0]])\n",
    "        print([data2.indextovocab_fa[d] for d in x.tolist()])\n",
    "        out = loss(out.reshape(-1, out.shape[2]),torch.tensor(x2).view(-1).long().cuda())"
   ]
  },
  {
   "cell_type": "markdown",
   "metadata": {
    "id": "KtAhrY9HNEpE"
   },
   "source": [
    "T"
   ]
  },
  {
   "cell_type": "code",
   "execution_count": 48,
   "metadata": {
    "colab": {
     "base_uri": "https://localhost:8080/"
    },
    "id": "wh2BJTPH-dEx",
    "outputId": "97d76689-6fc0-4796-a315-c971be9b0fd9"
   },
   "outputs": [
    {
     "name": "stdout",
     "output_type": "stream",
     "text": [
      "0.0017632204962886612\n",
      "0.2976746546102509\n"
     ]
    }
   ],
   "source": [
    "ref = []\n",
    "hypo = []\n",
    "for i in range(len(data2.test)):\n",
    "    if i in [39, 60, 99, 216, 250]:\n",
    "        continue\n",
    "    out = net.greedy_search(data2.test[i],len(data2.test[i]))\n",
    "    hypo.append(out)\n",
    "    ref.append([data2.test_fa0[i],data2.test_fa1[i],data2.test_fa2[i],data2.test_fa3[i]])\n",
    "print(bleu_score.corpus_bleu(ref, hypo))\n",
    "print(nist_score.corpus_nist(ref, hypo))"
   ]
  },
  {
   "cell_type": "markdown",
   "metadata": {
    "id": "ZYKlCMTiYBC8"
   },
   "source": [
    "### no residual:"
   ]
  },
  {
   "cell_type": "code",
   "execution_count": 37,
   "metadata": {
    "id": "T-ADkFWDYFZ9"
   },
   "outputs": [],
   "source": [
    "class SelfAttention(nn.Module):\n",
    "    def __init__(self, emd_size, num_heads, dim_key, dim_value, d_k, eps=1e-5):\n",
    "        super().__init__()\n",
    "        self.query_linear = nn.Linear(emd_size,num_heads*dim_key)\n",
    "        self.key_linear = nn.Linear(emd_size, num_heads * dim_key)\n",
    "        self.value_linear = nn.Linear(emd_size, num_heads*dim_value)\n",
    "        self.attention = Attention(num_heads, dim_key, dim_value, math.sqrt(d_k))\n",
    "        self.layernorm = nn.LayerNorm((emd_size,), elementwise_affine=True, eps=eps)#[d_model]\n",
    "        self.linear = nn.Linear(num_heads* dim_value, emd_size)\n",
    "        self.dropout = nn.Dropout(0.1)\n",
    "        self.num_heads = num_heads\n",
    "        self.dim_key = dim_key\n",
    "        self.dim_value = dim_value\n",
    "        #self.head_dim = emd_size//num_heads\n",
    "    \n",
    "    def forward(self, x, input_mask):\n",
    "        #print(\"x shape\")\n",
    "        #print(x.shape)\n",
    "        q = self.query_linear(x)\n",
    "        k = self.key_linear(x)\n",
    "        v = self.value_linear(x)\n",
    "        #print(\"qkv shape\")\n",
    "        #print(q.shape, k.shape, v.shape) #batch_size, seq_length, num_heads*dim_key/value\n",
    "        #x = self.attention(q,k,v,self.scale)\n",
    "        '''attn_scores = torch.bmm(q, k.permute(0, 2, 1))/self.scale#torch.matmul(q, k.transpose(-2, -1))/self.scale\n",
    "        softmax = nn.Softmax(dim=-1)\n",
    "        attention = softmax(attn_scores)\n",
    "        values = torch.matmul(attention, v)'''\n",
    "        attention = self.attention(q, k, v, input_mask).reshape(x.shape[0], x.shape[1], self.num_heads * self.dim_value)\n",
    "        #attention?\n",
    "        return self.layernorm(self.dropout(self.linear(attention)))\n",
    "class Encoder(nn.Module):\n",
    "    def __init__(self, emd_size, num_heads, dim_key, dim_value, dim_inner, eps):\n",
    "        super().__init__()\n",
    "        d_k = dim_key#????\n",
    "        self.multiheadattention = SelfAttention(emd_size, num_heads, dim_key, dim_value, d_k, eps)\n",
    "        #self.layernorm = nn.LayerNorm((emd_size,), elementwise_affine=True, eps=eps)\n",
    "        self.feedforward = POS_FFN(emd_size, dim_inner, eps )\n",
    "    def  forward(self, x, input_mask, adding = True):\n",
    "        mha = self.multiheadattention(x, input_mask)\n",
    "        #if adding:\n",
    "        #    x = x + mha\n",
    "        #else:\n",
    "        #   x = mha#? x = x\n",
    "        #xnorm = self.layernorm(x)\n",
    "        #x = xnorm + self.feedforward(xnorm) #xnorm + ?\n",
    "        return self.feedforward(mha)"
   ]
  },
  {
   "cell_type": "code",
   "execution_count": null,
   "metadata": {
    "colab": {
     "base_uri": "https://localhost:8080/"
    },
    "id": "OZhSKQz_fCBb",
    "outputId": "b11466d1-c4a2-4ad4-afd1-09dbd8c2250b"
   },
   "outputs": [
    {
     "name": "stdout",
     "output_type": "stream",
     "text": [
      "training loss, validation loss\n"
     ]
    },
    {
     "name": "stderr",
     "output_type": "stream",
     "text": [
      "/usr/local/lib/python3.7/dist-packages/ipykernel_launcher.py:23: VisibleDeprecationWarning: Creating an ndarray from ragged nested sequences (which is a list-or-tuple of lists-or-tuples-or ndarrays with different lengths or shapes) is deprecated. If you meant to do this, you must specify 'dtype=object' when creating the ndarray\n",
      "/usr/local/lib/python3.7/dist-packages/ipykernel_launcher.py:24: VisibleDeprecationWarning: Creating an ndarray from ragged nested sequences (which is a list-or-tuple of lists-or-tuples-or ndarrays with different lengths or shapes) is deprecated. If you meant to do this, you must specify 'dtype=object' when creating the ndarray\n",
      "/usr/local/lib/python3.7/dist-packages/ipykernel_launcher.py:24: UserWarning: To copy construct from a tensor, it is recommended to use sourceTensor.clone().detach() or sourceTensor.clone().detach().requires_grad_(True), rather than torch.tensor(sourceTensor).\n",
      "/usr/local/lib/python3.7/dist-packages/ipykernel_launcher.py:143: UserWarning: To copy construct from a tensor, it is recommended to use sourceTensor.clone().detach() or sourceTensor.clone().detach().requires_grad_(True), rather than torch.tensor(sourceTensor).\n",
      "/usr/local/lib/python3.7/dist-packages/ipykernel_launcher.py:45: VisibleDeprecationWarning: Creating an ndarray from ragged nested sequences (which is a list-or-tuple of lists-or-tuples-or ndarrays with different lengths or shapes) is deprecated. If you meant to do this, you must specify 'dtype=object' when creating the ndarray\n",
      "/usr/local/lib/python3.7/dist-packages/ipykernel_launcher.py:46: VisibleDeprecationWarning: Creating an ndarray from ragged nested sequences (which is a list-or-tuple of lists-or-tuples-or ndarrays with different lengths or shapes) is deprecated. If you meant to do this, you must specify 'dtype=object' when creating the ndarray\n"
     ]
    },
    {
     "name": "stdout",
     "output_type": "stream",
     "text": [
      "6.969485 6.463413\n",
      "6.27223 6.116782\n",
      "5.9876633 5.896874\n",
      "5.7956414 5.7214055\n",
      "5.647919 5.5962896\n",
      "5.5189624 5.485769\n",
      "5.42074 5.3839893\n",
      "5.334991 5.3110814\n",
      "5.2555223 5.2413926\n",
      "5.1880913 5.1852474\n"
     ]
    }
   ],
   "source": [
    "def initialize_weights(m):\n",
    "    if hasattr(m, 'weight') and m.weight.dim() > 1:\n",
    "        nn.init.xavier_uniform_(m.weight.data)\n",
    "device_flag_gpu = True\n",
    "net = Translator(en_vocab, fa_vocab, emd_size_encoder, max_len, enc_layer, dec_layer,  num_heads_encoder, num_heads_decoder, dim_key, dim_value, dim_inner, 1)\n",
    "if False:\n",
    "    net.load_state_dict(torch.load('/content/gdrive/MyDrive/net'))\n",
    "    net.eval()\n",
    "net.cuda()\n",
    "net.apply(initialize_weights)\n",
    "optimizer =  optim.Adam(net.parameters(), lr=lr, betas=Betas, eps = eps)\n",
    "loss = nn.CrossEntropyLoss(ignore_index=1)#\n",
    "trainlosslog = []\n",
    "validlosslog = []\n",
    "print(\"training loss, validation loss\")\n",
    "for j in range(10):\n",
    "    batchindxs = creat_minibatch(data.english_sentence, batch_size)\n",
    "    losslog = []\n",
    "    i = 0\n",
    "    #for i in range(9):\n",
    "    if True:\n",
    "        for batchindx in batchindxs[i*1000:min(len(batchindxs),i*1000+1000)]:\n",
    "            x1 = np.array(data.english_sentence)[batchindx]\n",
    "            x2 = np.array(data.persian_sentence)[batchindx]\n",
    "            l1 = np.max([len(t) for t in x1])\n",
    "            l2 = np.max([len(t) for t in x2])\n",
    "            x1, input_mask = padd(x1,max(l1,l2))\n",
    "            x2, output_mask = padd(x2,max(l1,l2), True)\n",
    "            out = net(torch.tensor(x1).cuda(),torch.tensor(np.array(x2)[:,:-1]).cuda(), input_mask.cuda(), output_mask.cuda())\n",
    "            #x = torch.argmax(out[0],dim = -1)\n",
    "            #print([data.indextovocab_fa[d] for d in x2[0]])\n",
    "            #print([data.indextovocab_fa[d] for d in x.tolist()])\n",
    "            out = loss(out.contiguous().reshape(-1, out.shape[2]),torch.tensor(np.array(x2)[:,1:]).contiguous().view(-1).long().cuda())\n",
    "            losslog.append(out.cpu().detach().numpy())\n",
    "            #print(losslog[-1])\n",
    "            optimizer.zero_grad()\n",
    "            out.backward()\n",
    "            torch.nn.utils.clip_grad_norm_(net.parameters(), 5)\n",
    "            optimizer.step()  \n",
    "        trainlosslog.append(np.mean(losslog))\n",
    "        torch.save(net.state_dict(), '/content/gdrive/MyDrive/AFEC/netpart3v1')\n",
    "        losslog = []\n",
    "        batchindxs = creat_minibatch(data.english_sentence_valid, batch_size)\n",
    "        for batchindx in batchindxs:\n",
    "            x1 = np.array(data.english_sentence_valid)[batchindx]\n",
    "            x2 = np.array(data.persian_sentence_valid)[batchindx]\n",
    "            l1 = np.max([len(t) for t in x1])\n",
    "            l2 = np.max([len(t) for t in x2])\n",
    "            x1, input_mask = padd(x1,max(l1,l2))\n",
    "            x2, output_mask = padd(x2,max(l1,l2), True)\n",
    "            out = net(torch.tensor(x1).cuda(),torch.tensor(x2)[:,:-1].cuda(), input_mask.cuda(), output_mask.cuda())\n",
    "            out = loss(out.contiguous().reshape(-1, out.shape[2]),torch.tensor(np.array(x2))[:,1:].contiguous().view(-1).long().cuda())\n",
    "            losslog.append(out.cpu().detach().numpy())\n",
    "            #optimizer.zero_grad()\n",
    "            #out.backward()\n",
    "            #optimizer.step()  \n",
    "        validlosslog.append(np.mean(losslog))\n",
    "        print(trainlosslog[-1], validlosslog[-1])"
   ]
  },
  {
   "cell_type": "code",
   "execution_count": null,
   "metadata": {
    "colab": {
     "base_uri": "https://localhost:8080/",
     "height": 281
    },
    "id": "Cv3DQhwkY8Ih",
    "outputId": "2f73a1be-a64c-4b20-8faf-6da1ae5b68e3"
   },
   "outputs": [
    {
     "data": {
      "image/png": "[encoded data removed]",
      "text/plain": [
       "<Figure size 432x288 with 1 Axes>"
      ]
     },
     "metadata": {
      "needs_background": "light",
      "tags": []
     },
     "output_type": "display_data"
    }
   ],
   "source": [
    "plt.plot(trainlosslog, label = \"training loss (1000iterations)\")\n",
    "plt.plot(validlosslog, label = \"validation loss\")\n",
    "plt.title(\"Loss\")\n",
    "plt.legend()\n",
    "plt.show()"
   ]
  },
  {
   "cell_type": "code",
   "execution_count": 39,
   "metadata": {
    "id": "DxtdbIjeb6dL"
   },
   "outputs": [],
   "source": [
    "test_index = np.random.choice([i for i in range(len(data.test))], 10)"
   ]
  },
  {
   "cell_type": "code",
   "execution_count": 40,
   "metadata": {
    "colab": {
     "base_uri": "https://localhost:8080/"
    },
    "id": "_A3xIBpCS-52",
    "outputId": "58cf3357-1bad-48b9-e779-f6c7d8488864"
   },
   "outputs": [
    {
     "name": "stdout",
     "output_type": "stream",
     "text": [
      "['<SOS>', 'i', 'would', 'like', 'to', 'be', 'in', 'hanover', 'until', 'noon', 'but', 'i', 'still', 'do', 'not', 'know', 'if', 'you', 'want', 'to', 'fly', 'or', 'to', 'drive', '<EOS>']\n",
      "['<SOS>', 'دوست', 'دارم', 'تا', 'ظهر', 'در', 'هانوور', 'باشم', '،', 'اما', 'هنوز', 'نمیدانم', 'آیا', 'میخواهی', 'پرواز', 'کنی', 'یا', 'رانندگی', '؟', '<EOS>']\n",
      "['<SOS>', 'من', 'می', 'توانم', 'که', 'شما', 'را', 'به', 'شما', 'می', '<UKN>', 'یا', 'نه', '<UKN>', '<UKN>', '<UKN>', '<UKN>', '<UKN>', '<UKN>', '<UKN>', '<UKN>', '<UKN>', '<UKN>', '<UKN>', '<UKN>', '<UKN>', '<UKN>', '<UKN>', '<UKN>', '<UKN>', '<UKN>', '<UKN>', '<UKN>', '<UKN>', '<UKN>', '<UKN>', '<UKN>', '<UKN>', '<UKN>', '<UKN>', '<UKN>', '<UKN>', '<UKN>', '<UKN>', '<UKN>', '<UKN>', '<UKN>', '<UKN>', '<UKN>', '<UKN>', '<UKN>', '<UKN>', '<UKN>', '<UKN>', '<UKN>', '<UKN>', '<UKN>', '<EOS>']\n",
      "____________\n",
      "['<SOS>', 'yes', 'i', 'would', 'suggest', 'the', 'flight', 'at', 'a', 'quarter', 'past', 'seven', '<EOS>']\n",
      "['<SOS>', 'بله', '،', 'من', 'پرواز', 'ساعت', 'هفت', 'و', 'ربع', 'را', 'پیشنهاد', 'میکنم', '<EOS>']\n",
      "['<SOS>', 'من', 'در', 'روز', 'پنج', 'شنبه', 'بیست', 'و', 'بیست', 'و', 'بیست', 'و', 'بیست', 'و', 'هشتم', 'آزاد', 'هستم', 'که', 'در', 'آن', 'قرار', 'دارم', 'است', 'را', 'به', 'من', 'می', 'دهم', 'که', 'من', 'می', 'توانم', 'را', 'آزاد', 'کنم', '<EOS>']\n",
      "____________\n",
      "['<SOS>', 'fine', 'by', 'taxi', 'we', 'will', 'be', 'at', 'the', 'hotel', 'within', 'ten', 'minutes', '<EOS>']\n",
      "['<SOS>', 'خوب', 'است', 'با', 'تاکسی', 'در', 'عرض', 'ده', 'دقیقه', 'در', 'هتل', 'خواهیم_بود', '<EOS>']\n",
      "['<SOS>', 'خوب', 'ما', 'میتوانیم', 'ساعت', 'پنج', 'شنبه', 'ساعت', 'پنج', 'شنبه', 'ساعت', 'پنج', 'شنبه', 'بیست', 'و', 'یکم', 'را', 'ملاقات', 'کنیم', 'که', 'ما', 'را', 'در', 'آن', 'قرار', 'دهیم', 'داریم', 'را', 'ملاقات', 'کنیم', 'کنیم', 'را', 'ملاقات', 'کنیم', 'کنیم', 'کنیم', 'را', 'داریم', 'کنیم', 'کنیم', 'کنیم', 'کنیم', 'را', 'ملاقات', 'کنیم', 'کنیم', '<EOS>']\n",
      "____________\n",
      "['<SOS>', 'yes', 'that', 'is', 'a', 'good', 'idea', '<EOS>']\n",
      "['<SOS>', 'بله', '،', 'این', 'فکر', 'خوبی', 'است', '<EOS>']\n",
      "['<SOS>', 'بله', 'خوب', 'است', 'که', 'خوب', 'است', 'خوب', 'است', 'خوب', 'است', 'بله', 'خوب', 'است', 'بله', 'است', 'که', 'یک', 'ساعت', 'خوب', 'است', 'خوب', 'است', 'خوب', 'است', 'خوب', 'است', 'بله', 'است', 'بله', 'است', 'که', 'خوب', 'است', 'خوب', 'است', 'باشد', 'است', 'بله', 'است', 'بله', 'است', 'بله', 'است', 'بله', 'است', 'بله', 'است', 'باشد', 'است', '<EOS>']\n",
      "____________\n",
      "['<SOS>', 'in', 'the', 'evening', 'we', 'should', 'watch', 'the', 'newest', 'movie', 'with', 'arnold', 'schwarzenegger', '<EOS>']\n",
      "['<SOS>', 'عصر', 'باید', 'جدیدترین', 'فیلم', 'آرنولد', 'شوازنگر', 'را', 'تماشا', 'کنیم', '<EOS>']\n",
      "['<SOS>', 'در', 'این', 'روز', 'ما', 'در', 'مورد', 'نیاز', 'داریم', 'که', 'ما', 'در', 'آن', 'زمان', 'داریم', 'را', 'در', 'آن', 'قرار', 'دهیم', 'انجام', 'دهیم', 'که', 'ما', 'در', 'آن', 'قرار', 'داریم', 'را', 'انجام', 'دهیم', 'انجام', 'دهیم', 'انجام', 'دهیم', 'را', 'در', 'این', 'کشور', 'انجام', 'دهیم', 'انجام', 'دهیم', 'کنیم', '<EOS>']\n",
      "____________\n",
      "['<SOS>', 'i', 'could', 'not', 'understand', 'you', 'again', '<EOS>']\n",
      "['<SOS>', 'من', 'باز', 'هم', 'نتوانستم', 'حرف', 'شما', 'را', 'بفهمم', '<EOS>']\n",
      "['<SOS>', 'من', 'فکر', 'میکنم', 'را', 'به', 'شما', 'می', 'کنم', 'که', 'شما', 'را', 'به', 'من', '<UKN>', '<UKN>', '<UKN>', '<UKN>', '<UKN>', '<UKN>', '<UKN>', '<UKN>', '<UKN>', '<UKN>', '<UKN>', '<UKN>', '<UKN>', '<UKN>', '<UKN>', '<UKN>', '<UKN>', '<UKN>', '<UKN>', '<UKN>', '<UKN>', '<UKN>', '<UKN>', '<UKN>', '<UKN>', '<UKN>', '<UKN>', '<UKN>', '<UKN>', '<UKN>', '<UKN>', '<UKN>', '<UKN>', '<UKN>', '<UKN>', '<EOS>']\n",
      "____________\n",
      "['<SOS>', 'yes', 'when', 'and', 'where', 'do', 'we', 'want', 'to', 'meet', '<EOS>']\n",
      "['<SOS>', 'بله', 'پس', 'کی', 'و', 'کجا', 'باید', 'یکدیگر', 'را', 'ملاقات', 'کنیم', '؟', '<EOS>']\n",
      "['<SOS>', 'خوب', 'من', 'فکر', 'میکنم', 'که', 'ما', 'باید', 'به', 'ما', 'اجازه', 'دهیم', 'و', 'به', 'ما', 'می', 'دهیم', 'که', 'ما', 'باید', 'به', 'آن', '<UKN>', 'و', '<UKN>', 'را', 'انجام', 'دهیم', 'که', 'ما', 'را', 'انجام', 'دهیم', 'کنیم', 'و', 'به', 'آن', 'را', 'انجام', 'دهیم', '<EOS>']\n",
      "____________\n",
      "['<SOS>', 'the', 'best', 'thing', 'would', 'be', 'for', 'us', 'to', 'take', 'the', 'subway', 'from', 'our', 'hotel', 'to', 'the', 'station', '<EOS>']\n",
      "['<SOS>', 'بهترین', 'چیز', 'برای', 'ما', 'اینست', 'که', 'از', 'هتلمان', 'به', 'ایستگاه', 'با', 'مترو', 'برویم', '<EOS>']\n",
      "['<SOS>', 'از', 'این', 'تا', 'سال', 'گذشته', 'به', 'ما', 'اجازه', 'دهید', 'تا', 'به', 'این', 'کار', 'را', 'به', 'ما', 'اجازه', 'دهید', 'تا', 'به', 'این', 'کار', 'کند', 'تا', 'از', 'این', 'کار', 'را', 'به', 'ما', 'می', 'دهد', 'تا', 'به', 'ما', 'کمک', 'کند', 'تا', 'به', 'این', 'کار', 'را', 'به', 'این', 'کشور', 'تبدیل', 'کند', '<EOS>']\n",
      "____________\n",
      "['<SOS>', 'we', 'leave', 'hanover', 'at', 'eight', '<UKN>', 'and', 'arrive', 'at', 'hamburg', 'at', 'half', 'past', 'nine', '<EOS>']\n",
      "['<SOS>', 'ما', 'ساعت', 'هشت', 'هانوور', 'را', 'ترک', 'خواهیم_کرد', 'و', 'نه', 'و', 'نیم', 'به', 'هامبورگ', 'خواهیم_رسید', '<EOS>']\n",
      "['<SOS>', 'ما', 'در', 'سال', 'گذشته', 'در', '<UKN>', 'و', '<UKN>', '<UKN>', '<UKN>', 'و', '<UKN>', '<UKN>', '<UKN>', '<UKN>', '<UKN>', '<UKN>', '<UKN>', '<UKN>', '<UKN>', '<UKN>', '<UKN>', '<UKN>', '<UKN>', '<UKN>', '<UKN>', '<UKN>', '<UKN>', '<UKN>', '<UKN>', '<UKN>', '<UKN>', '<UKN>', '<UKN>', '<UKN>', '<UKN>', '<UKN>', '<UKN>', '<UKN>', '<UKN>', '<UKN>', '<UKN>', '<UKN>', '<UKN>', '<UKN>', '<UKN>', 'و', '<UKN>', '<UKN>', '<UKN>', '<UKN>', '<UKN>', '<UKN>', '<UKN>', '<UKN>', '<EOS>']\n",
      "____________\n",
      "['<SOS>', 'ahm', 'should', 'we', 'meet', 'on', 'may', 'the', 'eighteenth', 'in', 'the', 'evening', '<EOS>']\n",
      "['<SOS>', 'ام', 'آیا', 'باید', 'عصر', 'روز', 'هجدهم', 'می', 'ملاقات', 'کنیم', '؟', '<EOS>']\n",
      "['<SOS>', 'در', 'روز', 'دوشنبه', 'ما', 'میتوانیم', 'در', 'روز', 'دوشنبه', 'ملاقات', 'کنیم', 'تا', 'ساعت', 'پنج', 'شنبه', 'در', 'ساعت', 'در', 'دوشنبه', 'ملاقات', 'کنیم', 'را', 'ملاقات', 'کنیم', 'و', 'در', 'آن', 'قرار', 'دهیم', 'کنیم', 'را', 'ملاقات', 'کنیم', 'کنیم', 'کنیم', 'کنیم', 'و', 'ما', 'را', 'ملاقات', 'کنیم', 'کنیم', 'کنیم', 'کنیم', 'کنیم', '<EOS>']\n",
      "____________\n"
     ]
    }
   ],
   "source": [
    "for i in test_index:\n",
    "    print([data.indextovocab_en[d] for d in data.test[i]])\n",
    "    print([data.indextovocab_fa[d] for d in data.test_fa0[i]])\n",
    "    out = net.greedy_search(data.test[i],len(data.test[i]))\n",
    "    print([data.indextovocab_fa[d] for d in out])\n",
    "    print(\"____________\")"
   ]
  },
  {
   "cell_type": "code",
   "execution_count": 41,
   "metadata": {
    "colab": {
     "base_uri": "https://localhost:8080/"
    },
    "id": "olm_9Lo8ZTrD",
    "outputId": "56942804-b041-4336-e00f-05599d4b7f76"
   },
   "outputs": [
    {
     "name": "stdout",
     "output_type": "stream",
     "text": [
      "0.009131844212666005\n",
      "0.6892186429098422\n"
     ]
    }
   ],
   "source": [
    "ref = []\n",
    "hypo = []\n",
    "for i in range(len(data.test)):\n",
    "    if i in [39, 60, 99, 216, 250]:\n",
    "        continue\n",
    "    out = net.greedy_search(data.test[i],len(data.test[i]))\n",
    "    hypo.append(out)\n",
    "    ref.append([data.test_fa0[i],data.test_fa1[i],data.test_fa2[i],data.test_fa3[i]])\n",
    "print(bleu_score.corpus_bleu(ref, hypo))\n",
    "print(nist_score.corpus_nist(ref, hypo))"
   ]
  }
 ],
 "metadata": {
  "accelerator": "GPU",
  "colab": {
   "collapsed_sections": [],
   "name": "Untitled3_(1)_(1) (1).ipynb",
   "provenance": []
  },
  "kernelspec": {
   "display_name": "Python 3",
   "language": "python",
   "name": "python3"
  },
  "language_info": {
   "codemirror_mode": {
    "name": "ipython",
    "version": 3
   },
   "file_extension": ".py",
   "mimetype": "text/x-python",
   "name": "python",
   "nbconvert_exporter": "python",
   "pygments_lexer": "ipython3",
   "version": "3.7.1"
  }
 },
 "nbformat": 4,
 "nbformat_minor": 1
}
